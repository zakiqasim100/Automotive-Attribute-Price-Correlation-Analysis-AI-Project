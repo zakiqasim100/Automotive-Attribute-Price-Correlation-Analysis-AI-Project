{
 "cells": [
  {
   "cell_type": "markdown",
   "id": "f47ed31e-e00a-4abd-9e61-c73c5f26a801",
   "metadata": {},
   "source": [
    "# Support Vector Regression\n"
   ]
  },
  {
   "cell_type": "code",
   "execution_count": 2,
   "id": "d6639ecf-6343-46c7-9cba-279f997021f8",
   "metadata": {},
   "outputs": [
    {
     "name": "stdout",
     "output_type": "stream",
     "text": [
      "Train Loss: 129060095.99088883\n",
      "Test Loss: 133831685.37310076\n"
     ]
    }
   ],
   "source": [
    "import pandas as pd\n",
    "from sklearn.model_selection import train_test_split\n",
    "from sklearn.preprocessing import StandardScaler\n",
    "from sklearn.svm import SVR\n",
    "from sklearn.metrics import mean_squared_error\n",
    "\n",
    "# Load the dataset\n",
    "data = pd.read_csv(\"vehicles_dataset_from_advertisement.csv\")\n",
    "\n",
    "# Drop rows with missing values\n",
    "data = data.dropna()\n",
    "\n",
    "# Select features and target variable\n",
    "X = data[['model_year', 'odometer', 'condition', 'cylinders', 'fuel', 'transmission', 'type', 'paint_color']]\n",
    "y = data['price']\n",
    "\n",
    "# Perform one-hot encoding for categorical features\n",
    "X = pd.get_dummies(X)\n",
    "\n",
    "# Standardize features\n",
    "scaler = StandardScaler()\n",
    "X_scaled = scaler.fit_transform(X)\n",
    "\n",
    "# Train-test split\n",
    "X_train, X_test, y_train, y_test = train_test_split(X_scaled, y, test_size=0.2, random_state=42)\n",
    "\n",
    "# Instantiate the SVR model\n",
    "svr_model = SVR()\n",
    "\n",
    "# Train the model\n",
    "svr_model.fit(X_train, y_train)\n",
    "\n",
    "# Make predictions\n",
    "y_train_pred = svr_model.predict(X_train)\n",
    "y_test_pred = svr_model.predict(X_test)\n",
    "\n",
    "# Calculate Mean Squared Error\n",
    "train_loss = mean_squared_error(y_train, y_train_pred)\n",
    "test_loss = mean_squared_error(y_test, y_test_pred)\n",
    "\n",
    "print(\"Train Loss:\", train_loss)\n",
    "print(\"Test Loss:\", test_loss)\n"
   ]
  },
  {
   "cell_type": "code",
   "execution_count": null,
   "id": "d44bcae7-9f17-44cf-ac17-6b6cebc73f36",
   "metadata": {},
   "outputs": [],
   "source": []
  }
 ],
 "metadata": {
  "kernelspec": {
   "display_name": "Python 3 (ipykernel)",
   "language": "python",
   "name": "python3"
  },
  "language_info": {
   "codemirror_mode": {
    "name": "ipython",
    "version": 3
   },
   "file_extension": ".py",
   "mimetype": "text/x-python",
   "name": "python",
   "nbconvert_exporter": "python",
   "pygments_lexer": "ipython3",
   "version": "3.11.7"
  }
 },
 "nbformat": 4,
 "nbformat_minor": 5
}
