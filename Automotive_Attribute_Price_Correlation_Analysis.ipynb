{
 "cells": [
  {
   "cell_type": "markdown",
   "metadata": {
    "id": "XgVm2BF20R0j"
   },
   "source": [
    "# 1. What Factors Sell a Car?\n",
    "\n",
    "Hundreds of free vehicle ads and datasets are available on the websites such as kraggle.com every day. An analyst needs to study a collection of data over the past few years and determine the factors that influence the price of a vehicle."
   ]
  },
  {
   "cell_type": "markdown",
   "metadata": {
    "id": "aOVo5HVv0R0k"
   },
   "source": [
    "The aim of this project is to find out how the following factors influence car selling prices in general:\r\n",
    "1. Mileage\r\n",
    "2. Age\r\n",
    "3. Paint color\r\n",
    "4. Transmission type\r\n",
    "\r\n",
    "To be able to draw the conclusions above, the process stages in this project are:\r\n",
    "1. Data pre-processing\r\n",
    "2. Address missing values\r\n",
    "3. Improve data type and quality\r\n",
    "4. Study core parameters\r\n",
    "5. Get rid of outliers and re-study the core parameters without outliers\r\n",
    "6. Draw conclusions about how long advertisements are generally shown to determine the minimum length of advertisements as a consideration for involving data in the analysis.\r\n",
    "7. Draw conclusions about the general price of each type of car\r\n",
    "8. Analyze the relationship to car prices from the 4 factors that are the aim of this project"
   ]
  },
  {
   "cell_type": "markdown",
   "metadata": {
    "id": "LRZWNa050R0o"
   },
   "source": [
    "# 1.1. Pre-processing"
   ]
  },
  {
   "cell_type": "markdown",
   "metadata": {
    "id": "k9gHkcyu0R0p"
   },
   "source": [
    "Load the required libraries"
   ]
  },
  {
   "cell_type": "code",
   "execution_count": 4,
   "metadata": {
    "id": "E-vFsd5r0R0p"
   },
   "outputs": [],
   "source": [
    "import pandas as pd\n",
    "import numpy as np\n",
    "import matplotlib.pyplot as plt\n",
    "import seaborn as sns\n",
    "import warnings\n",
    "warnings.filterwarnings('ignore')"
   ]
  },
  {
   "cell_type": "markdown",
   "metadata": {
    "id": "oU7zcslL0R0r"
   },
   "source": [
    "# 2.1 Loading Data"
   ]
  },
  {
   "cell_type": "code",
   "execution_count": 5,
   "metadata": {
    "id": "dnAyDvB40R0s"
   },
   "outputs": [],
   "source": [
    "\n",
    "path = 'vehicles_dataset_from_advertisement.csv'\n",
    "car_ads = pd.read_csv(path)\n"
   ]
  },
  {
   "cell_type": "markdown",
   "metadata": {
    "id": "-fh-7rkY0R0t"
   },
   "source": [
    "# 2.2 Exploring Initial Data"
   ]
  },
  {
   "cell_type": "markdown",
   "metadata": {
    "id": "UIV9EN3D0R0t"
   },
   "source": [
    "\r\n",
    "The dataset contains the following columns:\n",
    "\n",
    "\n",
    "- `price`\n",
    "- `model_year`\n",
    "- `model`\n",
    "- `condition`\n",
    "- `cylinders`\n",
    "- `fuel` — gas, disel, dan lain-lain.\n",
    "- `odometer` —vehicle mileage when the ad is shown \n",
    "- `transmission`\n",
    "- `paint_color`\n",
    "- `is_4wd` —whether the vehicle has 4 wheel drive (Boolean type))\n",
    "- `date_posted` —the date the ad was broadcast \n",
    "- `days_listed` —number of days the ad is displayed until it is removeds"
   ]
  },
  {
   "cell_type": "code",
   "execution_count": 6,
   "metadata": {
    "colab": {
     "base_uri": "https://localhost:8080/"
    },
    "id": "HNPNdcq-0R0u",
    "outputId": "ca03b53f-d6eb-4d12-95fd-ab3975d43d5e",
    "scrolled": true
   },
   "outputs": [
    {
     "name": "stdout",
     "output_type": "stream",
     "text": [
      "<class 'pandas.core.frame.DataFrame'>\n",
      "RangeIndex: 51525 entries, 0 to 51524\n",
      "Data columns (total 13 columns):\n",
      " #   Column        Non-Null Count  Dtype  \n",
      "---  ------        --------------  -----  \n",
      " 0   price         51525 non-null  int64  \n",
      " 1   model_year    47906 non-null  float64\n",
      " 2   model         51525 non-null  object \n",
      " 3   condition     51525 non-null  object \n",
      " 4   cylinders     46265 non-null  float64\n",
      " 5   fuel          51525 non-null  object \n",
      " 6   odometer      43633 non-null  float64\n",
      " 7   transmission  51525 non-null  object \n",
      " 8   type          51525 non-null  object \n",
      " 9   paint_color   42258 non-null  object \n",
      " 10  is_4wd        25572 non-null  float64\n",
      " 11  date_posted   51525 non-null  object \n",
      " 12  days_listed   51525 non-null  int64  \n",
      "dtypes: float64(4), int64(2), object(7)\n",
      "memory usage: 5.1+ MB\n"
     ]
    }
   ],
   "source": [
    "# show general information/summary about the DataFrame\n",
    "car_ads.info()\n"
   ]
  },
  {
   "cell_type": "code",
   "execution_count": 7,
   "metadata": {
    "colab": {
     "base_uri": "https://localhost:8080/",
     "height": 583
    },
    "id": "Z2FfBExM0R0v",
    "outputId": "90f7f03f-df86-4546-f404-757f7df454e4",
    "scrolled": true
   },
   "outputs": [
    {
     "data": {
      "text/html": [
       "<div>\n",
       "<style scoped>\n",
       "    .dataframe tbody tr th:only-of-type {\n",
       "        vertical-align: middle;\n",
       "    }\n",
       "\n",
       "    .dataframe tbody tr th {\n",
       "        vertical-align: top;\n",
       "    }\n",
       "\n",
       "    .dataframe thead th {\n",
       "        text-align: right;\n",
       "    }\n",
       "</style>\n",
       "<table border=\"1\" class=\"dataframe\">\n",
       "  <thead>\n",
       "    <tr style=\"text-align: right;\">\n",
       "      <th></th>\n",
       "      <th>price</th>\n",
       "      <th>model_year</th>\n",
       "      <th>model</th>\n",
       "      <th>condition</th>\n",
       "      <th>cylinders</th>\n",
       "      <th>fuel</th>\n",
       "      <th>odometer</th>\n",
       "      <th>transmission</th>\n",
       "      <th>type</th>\n",
       "      <th>paint_color</th>\n",
       "      <th>is_4wd</th>\n",
       "      <th>date_posted</th>\n",
       "      <th>days_listed</th>\n",
       "    </tr>\n",
       "  </thead>\n",
       "  <tbody>\n",
       "    <tr>\n",
       "      <th>0</th>\n",
       "      <td>9400</td>\n",
       "      <td>2011.0</td>\n",
       "      <td>bmw x5</td>\n",
       "      <td>good</td>\n",
       "      <td>6.0</td>\n",
       "      <td>gas</td>\n",
       "      <td>145000.0</td>\n",
       "      <td>automatic</td>\n",
       "      <td>SUV</td>\n",
       "      <td>NaN</td>\n",
       "      <td>1.0</td>\n",
       "      <td>2018-06-23</td>\n",
       "      <td>19</td>\n",
       "    </tr>\n",
       "    <tr>\n",
       "      <th>1</th>\n",
       "      <td>25500</td>\n",
       "      <td>NaN</td>\n",
       "      <td>ford f-150</td>\n",
       "      <td>good</td>\n",
       "      <td>6.0</td>\n",
       "      <td>gas</td>\n",
       "      <td>88705.0</td>\n",
       "      <td>automatic</td>\n",
       "      <td>pickup</td>\n",
       "      <td>white</td>\n",
       "      <td>1.0</td>\n",
       "      <td>2018-10-19</td>\n",
       "      <td>50</td>\n",
       "    </tr>\n",
       "    <tr>\n",
       "      <th>2</th>\n",
       "      <td>5500</td>\n",
       "      <td>2013.0</td>\n",
       "      <td>hyundai sonata</td>\n",
       "      <td>like new</td>\n",
       "      <td>4.0</td>\n",
       "      <td>gas</td>\n",
       "      <td>110000.0</td>\n",
       "      <td>automatic</td>\n",
       "      <td>sedan</td>\n",
       "      <td>red</td>\n",
       "      <td>NaN</td>\n",
       "      <td>2019-02-07</td>\n",
       "      <td>79</td>\n",
       "    </tr>\n",
       "    <tr>\n",
       "      <th>3</th>\n",
       "      <td>1500</td>\n",
       "      <td>2003.0</td>\n",
       "      <td>ford f-150</td>\n",
       "      <td>fair</td>\n",
       "      <td>8.0</td>\n",
       "      <td>gas</td>\n",
       "      <td>NaN</td>\n",
       "      <td>automatic</td>\n",
       "      <td>pickup</td>\n",
       "      <td>NaN</td>\n",
       "      <td>NaN</td>\n",
       "      <td>2019-03-22</td>\n",
       "      <td>9</td>\n",
       "    </tr>\n",
       "    <tr>\n",
       "      <th>4</th>\n",
       "      <td>14900</td>\n",
       "      <td>2017.0</td>\n",
       "      <td>chrysler 200</td>\n",
       "      <td>excellent</td>\n",
       "      <td>4.0</td>\n",
       "      <td>gas</td>\n",
       "      <td>80903.0</td>\n",
       "      <td>automatic</td>\n",
       "      <td>sedan</td>\n",
       "      <td>black</td>\n",
       "      <td>NaN</td>\n",
       "      <td>2019-04-02</td>\n",
       "      <td>28</td>\n",
       "    </tr>\n",
       "    <tr>\n",
       "      <th>5</th>\n",
       "      <td>14990</td>\n",
       "      <td>2014.0</td>\n",
       "      <td>chrysler 300</td>\n",
       "      <td>excellent</td>\n",
       "      <td>6.0</td>\n",
       "      <td>gas</td>\n",
       "      <td>57954.0</td>\n",
       "      <td>automatic</td>\n",
       "      <td>sedan</td>\n",
       "      <td>black</td>\n",
       "      <td>1.0</td>\n",
       "      <td>2018-06-20</td>\n",
       "      <td>15</td>\n",
       "    </tr>\n",
       "    <tr>\n",
       "      <th>6</th>\n",
       "      <td>12990</td>\n",
       "      <td>2015.0</td>\n",
       "      <td>toyota camry</td>\n",
       "      <td>excellent</td>\n",
       "      <td>4.0</td>\n",
       "      <td>gas</td>\n",
       "      <td>79212.0</td>\n",
       "      <td>automatic</td>\n",
       "      <td>sedan</td>\n",
       "      <td>white</td>\n",
       "      <td>NaN</td>\n",
       "      <td>2018-12-27</td>\n",
       "      <td>73</td>\n",
       "    </tr>\n",
       "    <tr>\n",
       "      <th>7</th>\n",
       "      <td>15990</td>\n",
       "      <td>2013.0</td>\n",
       "      <td>honda pilot</td>\n",
       "      <td>excellent</td>\n",
       "      <td>6.0</td>\n",
       "      <td>gas</td>\n",
       "      <td>109473.0</td>\n",
       "      <td>automatic</td>\n",
       "      <td>SUV</td>\n",
       "      <td>black</td>\n",
       "      <td>1.0</td>\n",
       "      <td>2019-01-07</td>\n",
       "      <td>68</td>\n",
       "    </tr>\n",
       "    <tr>\n",
       "      <th>8</th>\n",
       "      <td>11500</td>\n",
       "      <td>2012.0</td>\n",
       "      <td>kia sorento</td>\n",
       "      <td>excellent</td>\n",
       "      <td>4.0</td>\n",
       "      <td>gas</td>\n",
       "      <td>104174.0</td>\n",
       "      <td>automatic</td>\n",
       "      <td>SUV</td>\n",
       "      <td>NaN</td>\n",
       "      <td>1.0</td>\n",
       "      <td>2018-07-16</td>\n",
       "      <td>19</td>\n",
       "    </tr>\n",
       "    <tr>\n",
       "      <th>9</th>\n",
       "      <td>9200</td>\n",
       "      <td>2008.0</td>\n",
       "      <td>honda pilot</td>\n",
       "      <td>excellent</td>\n",
       "      <td>NaN</td>\n",
       "      <td>gas</td>\n",
       "      <td>147191.0</td>\n",
       "      <td>automatic</td>\n",
       "      <td>SUV</td>\n",
       "      <td>blue</td>\n",
       "      <td>1.0</td>\n",
       "      <td>2019-02-15</td>\n",
       "      <td>17</td>\n",
       "    </tr>\n",
       "  </tbody>\n",
       "</table>\n",
       "</div>"
      ],
      "text/plain": [
       "   price  model_year           model  condition  cylinders fuel  odometer  \\\n",
       "0   9400      2011.0          bmw x5       good        6.0  gas  145000.0   \n",
       "1  25500         NaN      ford f-150       good        6.0  gas   88705.0   \n",
       "2   5500      2013.0  hyundai sonata   like new        4.0  gas  110000.0   \n",
       "3   1500      2003.0      ford f-150       fair        8.0  gas       NaN   \n",
       "4  14900      2017.0    chrysler 200  excellent        4.0  gas   80903.0   \n",
       "5  14990      2014.0    chrysler 300  excellent        6.0  gas   57954.0   \n",
       "6  12990      2015.0    toyota camry  excellent        4.0  gas   79212.0   \n",
       "7  15990      2013.0     honda pilot  excellent        6.0  gas  109473.0   \n",
       "8  11500      2012.0     kia sorento  excellent        4.0  gas  104174.0   \n",
       "9   9200      2008.0     honda pilot  excellent        NaN  gas  147191.0   \n",
       "\n",
       "  transmission    type paint_color  is_4wd date_posted  days_listed  \n",
       "0    automatic     SUV         NaN     1.0  2018-06-23           19  \n",
       "1    automatic  pickup       white     1.0  2018-10-19           50  \n",
       "2    automatic   sedan         red     NaN  2019-02-07           79  \n",
       "3    automatic  pickup         NaN     NaN  2019-03-22            9  \n",
       "4    automatic   sedan       black     NaN  2019-04-02           28  \n",
       "5    automatic   sedan       black     1.0  2018-06-20           15  \n",
       "6    automatic   sedan       white     NaN  2018-12-27           73  \n",
       "7    automatic     SUV       black     1.0  2019-01-07           68  \n",
       "8    automatic     SUV         NaN     1.0  2018-07-16           19  \n",
       "9    automatic     SUV        blue     1.0  2019-02-15           17  "
      ]
     },
     "execution_count": 7,
     "metadata": {},
     "output_type": "execute_result"
    }
   ],
   "source": [
    "\n",
    "# show sample data\n",
    "car_ads.head(10)"
   ]
  },
  {
   "cell_type": "code",
   "execution_count": 8,
   "metadata": {
    "colab": {
     "base_uri": "https://localhost:8080/",
     "height": 300
    },
    "id": "0SghCCOW0R0x",
    "outputId": "f25dd791-1afe-4275-a9c5-10ed8d1cb6dc"
   },
   "outputs": [
    {
     "data": {
      "text/html": [
       "<div>\n",
       "<style scoped>\n",
       "    .dataframe tbody tr th:only-of-type {\n",
       "        vertical-align: middle;\n",
       "    }\n",
       "\n",
       "    .dataframe tbody tr th {\n",
       "        vertical-align: top;\n",
       "    }\n",
       "\n",
       "    .dataframe thead th {\n",
       "        text-align: right;\n",
       "    }\n",
       "</style>\n",
       "<table border=\"1\" class=\"dataframe\">\n",
       "  <thead>\n",
       "    <tr style=\"text-align: right;\">\n",
       "      <th></th>\n",
       "      <th>price</th>\n",
       "      <th>model_year</th>\n",
       "      <th>cylinders</th>\n",
       "      <th>odometer</th>\n",
       "      <th>is_4wd</th>\n",
       "      <th>days_listed</th>\n",
       "    </tr>\n",
       "  </thead>\n",
       "  <tbody>\n",
       "    <tr>\n",
       "      <th>count</th>\n",
       "      <td>51525.000000</td>\n",
       "      <td>47906.000000</td>\n",
       "      <td>46265.000000</td>\n",
       "      <td>43633.000000</td>\n",
       "      <td>25572.0</td>\n",
       "      <td>51525.00000</td>\n",
       "    </tr>\n",
       "    <tr>\n",
       "      <th>mean</th>\n",
       "      <td>12132.464920</td>\n",
       "      <td>2009.750470</td>\n",
       "      <td>6.125235</td>\n",
       "      <td>115553.461738</td>\n",
       "      <td>1.0</td>\n",
       "      <td>39.55476</td>\n",
       "    </tr>\n",
       "    <tr>\n",
       "      <th>std</th>\n",
       "      <td>10040.803015</td>\n",
       "      <td>6.282065</td>\n",
       "      <td>1.660360</td>\n",
       "      <td>65094.611341</td>\n",
       "      <td>0.0</td>\n",
       "      <td>28.20427</td>\n",
       "    </tr>\n",
       "    <tr>\n",
       "      <th>min</th>\n",
       "      <td>1.000000</td>\n",
       "      <td>1908.000000</td>\n",
       "      <td>3.000000</td>\n",
       "      <td>0.000000</td>\n",
       "      <td>1.0</td>\n",
       "      <td>0.00000</td>\n",
       "    </tr>\n",
       "    <tr>\n",
       "      <th>25%</th>\n",
       "      <td>5000.000000</td>\n",
       "      <td>2006.000000</td>\n",
       "      <td>4.000000</td>\n",
       "      <td>70000.000000</td>\n",
       "      <td>1.0</td>\n",
       "      <td>19.00000</td>\n",
       "    </tr>\n",
       "    <tr>\n",
       "      <th>50%</th>\n",
       "      <td>9000.000000</td>\n",
       "      <td>2011.000000</td>\n",
       "      <td>6.000000</td>\n",
       "      <td>113000.000000</td>\n",
       "      <td>1.0</td>\n",
       "      <td>33.00000</td>\n",
       "    </tr>\n",
       "    <tr>\n",
       "      <th>75%</th>\n",
       "      <td>16839.000000</td>\n",
       "      <td>2014.000000</td>\n",
       "      <td>8.000000</td>\n",
       "      <td>155000.000000</td>\n",
       "      <td>1.0</td>\n",
       "      <td>53.00000</td>\n",
       "    </tr>\n",
       "    <tr>\n",
       "      <th>max</th>\n",
       "      <td>375000.000000</td>\n",
       "      <td>2019.000000</td>\n",
       "      <td>12.000000</td>\n",
       "      <td>990000.000000</td>\n",
       "      <td>1.0</td>\n",
       "      <td>271.00000</td>\n",
       "    </tr>\n",
       "  </tbody>\n",
       "</table>\n",
       "</div>"
      ],
      "text/plain": [
       "               price    model_year     cylinders       odometer   is_4wd  \\\n",
       "count   51525.000000  47906.000000  46265.000000   43633.000000  25572.0   \n",
       "mean    12132.464920   2009.750470      6.125235  115553.461738      1.0   \n",
       "std     10040.803015      6.282065      1.660360   65094.611341      0.0   \n",
       "min         1.000000   1908.000000      3.000000       0.000000      1.0   \n",
       "25%      5000.000000   2006.000000      4.000000   70000.000000      1.0   \n",
       "50%      9000.000000   2011.000000      6.000000  113000.000000      1.0   \n",
       "75%     16839.000000   2014.000000      8.000000  155000.000000      1.0   \n",
       "max    375000.000000   2019.000000     12.000000  990000.000000      1.0   \n",
       "\n",
       "       days_listed  \n",
       "count  51525.00000  \n",
       "mean      39.55476  \n",
       "std       28.20427  \n",
       "min        0.00000  \n",
       "25%       19.00000  \n",
       "50%       33.00000  \n",
       "75%       53.00000  \n",
       "max      271.00000  "
      ]
     },
     "execution_count": 8,
     "metadata": {},
     "output_type": "execute_result"
    }
   ],
   "source": [
    "\n",
    "# contains statistical descriptions\n",
    "car_ads.describe()"
   ]
  },
  {
   "cell_type": "code",
   "execution_count": 9,
   "metadata": {
    "colab": {
     "base_uri": "https://localhost:8080/"
    },
    "id": "_d097rS_0R0y",
    "outputId": "56745893-14d1-449a-c028-7b3421c5ddf7"
   },
   "outputs": [
    {
     "name": "stdout",
     "output_type": "stream",
     "text": [
      "price\n",
      "1        798\n",
      "6995     719\n",
      "5995     655\n",
      "4995     624\n",
      "3500     620\n",
      "        ... \n",
      "58500      1\n",
      "3993       1\n",
      "32987      1\n",
      "3744       1\n",
      "7455       1\n",
      "Name: count, Length: 3443, dtype: int64\n",
      "model_year\n",
      "NaN       3619\n",
      "2013.0    3549\n",
      "2012.0    3468\n",
      "2014.0    3448\n",
      "2011.0    3375\n",
      "          ... \n",
      "1948.0       1\n",
      "1961.0       1\n",
      "1936.0       1\n",
      "1949.0       1\n",
      "1929.0       1\n",
      "Name: count, Length: 69, dtype: int64\n",
      "model\n",
      "ford f-150                           2796\n",
      "chevrolet silverado 1500             2171\n",
      "ram 1500                             1750\n",
      "chevrolet silverado                  1271\n",
      "jeep wrangler                        1119\n",
      "                                     ... \n",
      "ford f-250 super duty                 241\n",
      "acura tl                              236\n",
      "kia sorento                           236\n",
      "nissan murano                         235\n",
      "mercedes-benz benze sprinter 2500      41\n",
      "Name: count, Length: 100, dtype: int64\n",
      "condition\n",
      "excellent    24773\n",
      "good         20145\n",
      "like new      4742\n",
      "fair          1607\n",
      "new            143\n",
      "salvage        115\n",
      "Name: count, dtype: int64\n",
      "cylinders\n",
      "8.0     15844\n",
      "6.0     15700\n",
      "4.0     13864\n",
      "NaN      5260\n",
      "10.0      549\n",
      "5.0       272\n",
      "3.0        34\n",
      "12.0        2\n",
      "Name: count, dtype: int64\n",
      "fuel\n",
      "gas         47288\n",
      "diesel       3714\n",
      "hybrid        409\n",
      "other         108\n",
      "electric        6\n",
      "Name: count, dtype: int64\n",
      "odometer\n",
      "NaN         7892\n",
      "0.0          185\n",
      "140000.0     183\n",
      "120000.0     179\n",
      "130000.0     178\n",
      "            ... \n",
      "87836.0        1\n",
      "172625.0       1\n",
      "103597.0       1\n",
      "167239.0       1\n",
      "139573.0       1\n",
      "Name: count, Length: 17763, dtype: int64\n",
      "transmission\n",
      "automatic    46902\n",
      "manual        2829\n",
      "other         1794\n",
      "Name: count, dtype: int64\n",
      "type\n",
      "SUV            12405\n",
      "truck          12353\n",
      "sedan          12154\n",
      "pickup          6988\n",
      "coupe           2303\n",
      "wagon           1541\n",
      "mini-van        1161\n",
      "hatchback       1047\n",
      "van              633\n",
      "convertible      446\n",
      "other            256\n",
      "offroad          214\n",
      "bus               24\n",
      "Name: count, dtype: int64\n",
      "paint_color\n",
      "white     10029\n",
      "NaN        9267\n",
      "black      7692\n",
      "silver     6244\n",
      "grey       5037\n",
      "blue       4475\n",
      "red        4421\n",
      "green      1396\n",
      "brown      1223\n",
      "custom     1153\n",
      "yellow      255\n",
      "orange      231\n",
      "purple      102\n",
      "Name: count, dtype: int64\n",
      "is_4wd\n",
      "NaN    25953\n",
      "1.0    25572\n",
      "Name: count, dtype: int64\n",
      "date_posted\n",
      "2019-03-17    186\n",
      "2019-01-05    184\n",
      "2018-09-20    178\n",
      "2019-03-11    176\n",
      "2018-10-09    174\n",
      "             ... \n",
      "2018-06-18    119\n",
      "2018-07-04    118\n",
      "2019-01-11    117\n",
      "2018-06-08    117\n",
      "2019-01-04    116\n",
      "Name: count, Length: 354, dtype: int64\n",
      "days_listed\n",
      "18     959\n",
      "24     950\n",
      "22     945\n",
      "19     941\n",
      "20     934\n",
      "      ... \n",
      "240      1\n",
      "209      1\n",
      "188      1\n",
      "192      1\n",
      "186      1\n",
      "Name: count, Length: 227, dtype: int64\n"
     ]
    }
   ],
   "source": [
    "\n",
    "# check the distribution of values ​​in each column\n",
    "for column in car_ads.columns:\n",
    "    print(car_ads[column].value_counts(dropna=False))\n",
    "    "
   ]
  },
  {
   "cell_type": "code",
   "execution_count": 10,
   "metadata": {
    "colab": {
     "base_uri": "https://localhost:8080/"
    },
    "id": "lmWErbcF0R0z",
    "outputId": "375ee827-f6eb-42bc-995b-cb30a0372edb",
    "scrolled": true
   },
   "outputs": [
    {
     "data": {
      "text/plain": [
       "0"
      ]
     },
     "execution_count": 10,
     "metadata": {},
     "output_type": "execute_result"
    }
   ],
   "source": [
    "\n",
    "#check for duplicate rows\n",
    "car_ads.duplicated().sum()"
   ]
  },
  {
   "cell_type": "markdown",
   "metadata": {
    "id": "lxafeGq20R00"
   },
   "source": [
    "From the info it looks like a lot of value is missing. Some data types do not match the values, namely in the is_4wd, cylinders, model_year, and date_posted columns.\r\n",
    "\r\n",
    "The data type for the question whether the vehicle is *four-wheel drives* should be boolean. Year and number of cylinders should also be integers. And the date should be datetime."
   ]
  },
  {
   "cell_type": "code",
   "execution_count": 11,
   "metadata": {
    "colab": {
     "base_uri": "https://localhost:8080/"
    },
    "id": "u3W4KjMf0R01",
    "outputId": "c785e3bf-d477-49c8-dcf3-e87ae148ee85"
   },
   "outputs": [
    {
     "data": {
      "text/plain": [
       "price               0\n",
       "model_year       3619\n",
       "model               0\n",
       "condition           0\n",
       "cylinders        5260\n",
       "fuel                0\n",
       "odometer         7892\n",
       "transmission        0\n",
       "type                0\n",
       "paint_color      9267\n",
       "is_4wd          25953\n",
       "date_posted         0\n",
       "days_listed         0\n",
       "dtype: int64"
      ]
     },
     "execution_count": 11,
     "metadata": {},
     "output_type": "execute_result"
    }
   ],
   "source": [
    "#check the number of missing values\n",
    "car_ads.isna().sum()"
   ]
  },
  {
   "cell_type": "markdown",
   "metadata": {
    "id": "loJBtC740R02"
   },
   "source": [
    "Missing values ​​are in 5 columns: model_year, cylinders, is_4wd, odometer, and paint_color. The most common column is is_4wd. This means about 50% of the total rows."
   ]
  },
  {
   "cell_type": "markdown",
   "metadata": {
    "id": "UXo4AHsd0R03"
   },
   "source": [
    "# 4.0 Conclusion and Next Steps\n",
    "No duplicate data.\r\n",
    "The most missing values ​​are in the four-wheel drive feature column. This is a boolean data type. If all the values ​​filled in are boolean 1, we can assume the missing values ​​are for boolean values ​​0 or False.\r\n",
    "\r\n",
    "While the number of cylinders is not a hypothetical variable, we might be able to allow other values.\r\n",
    "\r\n",
    "However, this is not the case for other columns that contain missing values, namely model_year, odometer, and paint_color. In this analysis we will test the influence of car age, odometer, condition, transmission and paint color on price. That way, missing values ​​in the model_year, odometer, and paint_color columns need to be analyzed properly before deciding how to handle them."
   ]
  },
  {
   "cell_type": "markdown",
   "metadata": {
    "id": "2GxQ8x6n0R05"
   },
   "source": [
    "# 5.1 \n",
    "Addressing Lost Values"
   ]
  },
  {
   "cell_type": "markdown",
   "metadata": {
    "id": "o0Dkzo-p0R06"
   },
   "source": [
    "\r\n",
    "Handle missing values ​​inthe  is_4wd column."
   ]
  },
  {
   "cell_type": "code",
   "execution_count": 12,
   "metadata": {
    "colab": {
     "base_uri": "https://localhost:8080/"
    },
    "id": "_3sLfB-w0R06",
    "outputId": "bdf067f2-d555-4073-9b41-7c7fe03a3c0e"
   },
   "outputs": [
    {
     "data": {
      "text/plain": [
       "is_4wd\n",
       "NaN    25953\n",
       "1.0    25572\n",
       "Name: count, dtype: int64"
      ]
     },
     "execution_count": 12,
     "metadata": {},
     "output_type": "execute_result"
    }
   ],
   "source": [
    "\n",
    "# check the value in the is_4wd column\n",
    "car_ads['is_4wd'].value_counts(dropna=False)"
   ]
  },
  {
   "cell_type": "markdown",
   "metadata": {
    "id": "YsO3opun0R06"
   },
   "source": [
    "We find that the values ​​in is_4wd all contain boolean 1. Let's replace the missing values ​​in the is_4wd column with boolean 0 as we assume that the missing values ​​are actually boolean 0."
   ]
  },
  {
   "cell_type": "code",
   "execution_count": 13,
   "metadata": {
    "id": "P8AK-2p40R07"
   },
   "outputs": [],
   "source": [
    "\n",
    "#replace missing values ​​with 0\n",
    "car_ads['is_4wd'] = car_ads['is_4wd'].fillna(0)"
   ]
  },
  {
   "cell_type": "code",
   "execution_count": 14,
   "metadata": {
    "colab": {
     "base_uri": "https://localhost:8080/"
    },
    "id": "6hc8oT880R07",
    "outputId": "b0c3ed64-8dff-4468-b11a-453ca4a39cae",
    "scrolled": true
   },
   "outputs": [
    {
     "data": {
      "text/plain": [
       "is_4wd\n",
       "0.0    25953\n",
       "1.0    25572\n",
       "Name: count, dtype: int64"
      ]
     },
     "execution_count": 14,
     "metadata": {},
     "output_type": "execute_result"
    }
   ],
   "source": [
    "\n",
    "#check the is_4wd column again\n",
    "car_ads['is_4wd'].value_counts(dropna=False)"
   ]
  },
  {
   "cell_type": "markdown",
   "metadata": {
    "id": "8aML4Mmn0R07"
   },
   "source": [
    "Next let's handle the missing values ​​of the model_year column. In the model_year column, missing values ​​are the largest portion in terms of value distribution. So it's important to think about how to fill it. To not shift the data distribution too much for the sake of the Exploratory Data Analysis (EDA) process, missing values ​​will be filled with medians based on the existing model group. The median was chosen over the mean because of the large number of outliers in the model_year data."
   ]
  },
  {
   "cell_type": "code",
   "execution_count": 15,
   "metadata": {
    "colab": {
     "base_uri": "https://localhost:8080/"
    },
    "id": "kbHppzpx0R09",
    "outputId": "4681dba9-3b79-4207-81b3-a23cb0281725",
    "scrolled": true
   },
   "outputs": [
    {
     "data": {
      "text/plain": [
       "model_year\n",
       "NaN       0.070238\n",
       "2013.0    0.068879\n",
       "2012.0    0.067307\n",
       "2014.0    0.066919\n",
       "2011.0    0.065502\n",
       "2015.0    0.064493\n",
       "2016.0    0.057331\n",
       "2008.0    0.056749\n",
       "2010.0    0.052227\n",
       "2007.0    0.051295\n",
       "Name: proportion, dtype: float64"
      ]
     },
     "execution_count": 15,
     "metadata": {},
     "output_type": "execute_result"
    }
   ],
   "source": [
    "# check the distribution of the top 10 values ​​in model_year\n",
    "car_ads['model_year'].value_counts(dropna=False, normalize=True).head(10)"
   ]
  },
  {
   "cell_type": "code",
   "execution_count": 16,
   "metadata": {
    "colab": {
     "base_uri": "https://localhost:8080/"
    },
    "id": "qLRszm7v0R09",
    "outputId": "c982cebf-ba97-4096-e23f-684aaec120b6",
    "scrolled": true
   },
   "outputs": [
    {
     "data": {
      "text/plain": [
       "model\n",
       "acura tl             2007.0\n",
       "bmw x5               2010.0\n",
       "buick enclave        2012.0\n",
       "cadillac escalade    2009.0\n",
       "chevrolet camaro     2013.0\n",
       "                      ...  \n",
       "toyota sienna        2008.0\n",
       "toyota tacoma        2010.0\n",
       "toyota tundra        2009.0\n",
       "volkswagen jetta     2012.0\n",
       "volkswagen passat    2013.0\n",
       "Name: model_year, Length: 100, dtype: float64"
      ]
     },
     "execution_count": 16,
     "metadata": {},
     "output_type": "execute_result"
    }
   ],
   "source": [
    "# check the median by model\n",
    "car_ads.groupby('model')['model_year'].median()"
   ]
  },
  {
   "cell_type": "code",
   "execution_count": 17,
   "metadata": {
    "colab": {
     "base_uri": "https://localhost:8080/",
     "height": 284
    },
    "id": "hyBf7lNW0R0-",
    "outputId": "13e9ce01-4f7a-4629-bdaf-9acfbb65d959",
    "scrolled": true
   },
   "outputs": [
    {
     "data": {
      "text/plain": [
       "<Axes: >"
      ]
     },
     "execution_count": 17,
     "metadata": {},
     "output_type": "execute_result"
    },
    {
     "data": {
      "image/png": "[encoded data removed]",
      "text/plain": [
       "<Figure size 640x480 with 1 Axes>"
      ]
     },
     "metadata": {},
     "output_type": "display_data"
    }
   ],
   "source": [
    "# check for outliers in model_year\n",
    "car_ads.boxplot('model_year')"
   ]
  },
  {
   "cell_type": "code",
   "execution_count": 18,
   "metadata": {
    "id": "Ij37lQ-k0R0-"
   },
   "outputs": [],
   "source": [
    "# write a function that will be used to fill in missing values ​​in an existing column\n",
    "def fill_na(data, agg_column, value_column):\n",
    "    grouped_values = data.groupby(agg_column)[value_column].median().reset_index()\n",
    "    size = len(grouped_values)\n",
    "    for n in range(size):\n",
    "        group = grouped_values[agg_column][n]\n",
    "        value = grouped_values[value_column][n]\n",
    "        data.loc[(data[agg_column]==group) & (data[value_column].isna()), value_column] = value\n",
    "    return data"
   ]
  },
  {
   "cell_type": "code",
   "execution_count": 19,
   "metadata": {
    "id": "D23AYm330R0-"
   },
   "outputs": [],
   "source": [
    "# apply function to fill in missing values ​​in model_year\n",
    "car_ads = fill_na(data=car_ads, agg_column='model', \n",
    "                              value_column='model_year')\n"
   ]
  },
  {
   "cell_type": "code",
   "execution_count": 20,
   "metadata": {
    "colab": {
     "base_uri": "https://localhost:8080/"
    },
    "id": "lc_YiOBl0R0-",
    "outputId": "d56bd98a-8535-423f-b20d-f98a8fe95e4d",
    "scrolled": true
   },
   "outputs": [
    {
     "name": "stdout",
     "output_type": "stream",
     "text": [
      "<class 'pandas.core.frame.DataFrame'>\n",
      "RangeIndex: 51525 entries, 0 to 51524\n",
      "Data columns (total 13 columns):\n",
      " #   Column        Non-Null Count  Dtype  \n",
      "---  ------        --------------  -----  \n",
      " 0   price         51525 non-null  int64  \n",
      " 1   model_year    51525 non-null  float64\n",
      " 2   model         51525 non-null  object \n",
      " 3   condition     51525 non-null  object \n",
      " 4   cylinders     46265 non-null  float64\n",
      " 5   fuel          51525 non-null  object \n",
      " 6   odometer      43633 non-null  float64\n",
      " 7   transmission  51525 non-null  object \n",
      " 8   type          51525 non-null  object \n",
      " 9   paint_color   42258 non-null  object \n",
      " 10  is_4wd        51525 non-null  float64\n",
      " 11  date_posted   51525 non-null  object \n",
      " 12  days_listed   51525 non-null  int64  \n",
      "dtypes: float64(4), int64(2), object(7)\n",
      "memory usage: 5.1+ MB\n"
     ]
    }
   ],
   "source": [
    "# load info data\n",
    "car_ads.info()"
   ]
  },
  {
   "cell_type": "code",
   "execution_count": 21,
   "metadata": {
    "colab": {
     "base_uri": "https://localhost:8080/"
    },
    "id": "HAVqiCIU0R0_",
    "outputId": "9dd6320e-57de-47a2-fbff-5fca855321f1",
    "scrolled": true
   },
   "outputs": [
    {
     "data": {
      "text/plain": [
       "count    51525.000000\n",
       "mean      2009.793954\n",
       "std          6.099296\n",
       "min       1908.000000\n",
       "25%       2007.000000\n",
       "50%       2011.000000\n",
       "75%       2014.000000\n",
       "max       2019.000000\n",
       "Name: model_year, dtype: float64"
      ]
     },
     "execution_count": 21,
     "metadata": {},
     "output_type": "execute_result"
    }
   ],
   "source": [
    "# check statistical description in model_year\n",
    "car_ads['model_year'].describe()"
   ]
  },
  {
   "cell_type": "markdown",
   "metadata": {
    "id": "-NCH9NDT0R0_"
   },
   "source": [
    "It can be seen that the distribution of values ​​in model_year has not changed significantly. Missing values ​​have been filled in but the distribution is not affected much. This is because the typical value used is the median per model group."
   ]
  },
  {
   "cell_type": "markdown",
   "metadata": {
    "id": "KcFizrN40R1B"
   },
   "source": [
    "Next let's handle the missing values ​​of the `odometer` column.\r\n",
    "\r\n",
    "In the `odometer` column, the missing value is the largest portion. From the available data, the factor that best proxies the mileage of a car is condition. So the missing odometer value will be filled with the median based on the condition. By choosing this, the data distribution does not change significantly.n."
   ]
  },
  {
   "cell_type": "code",
   "execution_count": 22,
   "metadata": {
    "colab": {
     "base_uri": "https://localhost:8080/"
    },
    "id": "i6bl0zmE0R1B",
    "outputId": "07f2cb6c-50b6-4c8c-8d6d-f8352761fb34"
   },
   "outputs": [
    {
     "data": {
      "text/plain": [
       "count     43633.000000\n",
       "mean     115553.461738\n",
       "std       65094.611341\n",
       "min           0.000000\n",
       "25%       70000.000000\n",
       "50%      113000.000000\n",
       "75%      155000.000000\n",
       "max      990000.000000\n",
       "Name: odometer, dtype: float64"
      ]
     },
     "execution_count": 22,
     "metadata": {},
     "output_type": "execute_result"
    }
   ],
   "source": [
    "# check the distribution of values ​​on the odometer\n",
    "car_ads['odometer'].describe()"
   ]
  },
  {
   "cell_type": "code",
   "execution_count": 23,
   "metadata": {
    "id": "40tmx1720R1B"
   },
   "outputs": [],
   "source": [
    "# apply function to fill missing values ​​in odometer\n",
    "car_ads = fill_na(data=car_ads, agg_column='condition', \n",
    "                              value_column='odometer')\n"
   ]
  },
  {
   "cell_type": "code",
   "execution_count": 24,
   "metadata": {
    "colab": {
     "base_uri": "https://localhost:8080/"
    },
    "id": "hr9KN8JA0R1B",
    "outputId": "349a45fa-f670-491c-efce-48c8955a3928",
    "scrolled": true
   },
   "outputs": [
    {
     "data": {
      "text/plain": [
       "count     51525.000000\n",
       "mean     115199.014508\n",
       "std       60484.863376\n",
       "min           0.000000\n",
       "25%       75668.000000\n",
       "50%      110908.000000\n",
       "75%      147821.000000\n",
       "max      990000.000000\n",
       "Name: odometer, dtype: float64"
      ]
     },
     "execution_count": 24,
     "metadata": {},
     "output_type": "execute_result"
    }
   ],
   "source": [
    "# recheck the distribution of values ​​on the odometer after missing values ​​are filled in\n",
    "car_ads['odometer'].describe()"
   ]
  },
  {
   "cell_type": "markdown",
   "metadata": {
    "id": "GCq9iAXQ0R1C"
   },
   "source": [
    "Next let's handle the missing values ​​of the `cylinders` column.\r\n",
    "\r\n",
    "In the `cylinders` column, the portion of values ​​missing is 10%. Every car must have a cylinder. From the available data, the factor most related to cylinders is `model`. Therefore, missing values ​​will be filled using typical data based on `model`. The median will be used as a substitute for missing values ​​because the data form is discrete."
   ]
  },
  {
   "cell_type": "code",
   "execution_count": 25,
   "metadata": {
    "colab": {
     "base_uri": "https://localhost:8080/"
    },
    "id": "oTAmcsii0R1C",
    "outputId": "707c6e0a-e9df-4d0b-e341-ac83debb73d3"
   },
   "outputs": [
    {
     "data": {
      "text/plain": [
       "cylinders\n",
       "8.0     0.307501\n",
       "6.0     0.304706\n",
       "4.0     0.269073\n",
       "NaN     0.102086\n",
       "10.0    0.010655\n",
       "5.0     0.005279\n",
       "3.0     0.000660\n",
       "12.0    0.000039\n",
       "Name: proportion, dtype: float64"
      ]
     },
     "execution_count": 25,
     "metadata": {},
     "output_type": "execute_result"
    }
   ],
   "source": [
    "# check the distribution of the top 10 values ​​in the cylinders\n",
    "car_ads['cylinders'].value_counts(dropna=False,normalize=True).head(10)"
   ]
  },
  {
   "cell_type": "markdown",
   "metadata": {
    "id": "USoFoA6J0R1D"
   },
   "source": [
    "To decide to fill in the missing values ​​for `cylinders`, let's see whether a certain number of cylinders dominates each existing model, namely by looking at the distribution of cylinder values ​​in several sample models."
   ]
  },
  {
   "cell_type": "code",
   "execution_count": 26,
   "metadata": {
    "colab": {
     "base_uri": "https://localhost:8080/"
    },
    "id": "2VA7E_XZ0R1D",
    "outputId": "c4e04ce6-11eb-4a3e-8859-06222c1d1c04"
   },
   "outputs": [
    {
     "data": {
      "text/plain": [
       "model\n",
       "ford f-150                  316\n",
       "chevrolet silverado 1500    231\n",
       "ram 1500                    185\n",
       "Name: count, dtype: int64"
      ]
     },
     "execution_count": 26,
     "metadata": {},
     "output_type": "execute_result"
    }
   ],
   "source": [
    "# check the top-3 models in the cylinders row with missing values\n",
    "\n",
    "car_ads.loc[car_ads['cylinders'].isna()]['model'].value_counts().head(3)"
   ]
  },
  {
   "cell_type": "code",
   "execution_count": 27,
   "metadata": {
    "colab": {
     "base_uri": "https://localhost:8080/"
    },
    "id": "0FzpWVR30R1D",
    "outputId": "1eaae514-f112-40f2-d5e7-900c9c08508f"
   },
   "outputs": [
    {
     "data": {
      "text/plain": [
       "cylinders\n",
       "8.0     1584\n",
       "6.0      863\n",
       "10.0      18\n",
       "4.0       11\n",
       "3.0        2\n",
       "5.0        2\n",
       "Name: count, dtype: int64"
      ]
     },
     "execution_count": 27,
     "metadata": {},
     "output_type": "execute_result"
    }
   ],
   "source": [
    "# check the distribution of cylinders in the `ford f-150` model\n",
    "car_ads.query('model == \"ford f-150\"')['cylinders'].value_counts()"
   ]
  },
  {
   "cell_type": "code",
   "execution_count": 28,
   "metadata": {
    "colab": {
     "base_uri": "https://localhost:8080/"
    },
    "id": "Rz-ohVJJ0R1K",
    "outputId": "4a765e54-3e61-4724-9b98-701f98fe5495"
   },
   "outputs": [
    {
     "data": {
      "text/plain": [
       "cylinders\n",
       "8.0     1714\n",
       "6.0      219\n",
       "4.0        4\n",
       "10.0       3\n",
       "Name: count, dtype: int64"
      ]
     },
     "execution_count": 28,
     "metadata": {},
     "output_type": "execute_result"
    }
   ],
   "source": [
    "# check the distribution of cylinders in the `chevrolet silverado 1500` model\n",
    "# if different model select karna he to wo bhi kar sakte he..\n",
    "\n",
    "car_ads.query('model == \"chevrolet silverado 1500\"')['cylinders'].value_counts()"
   ]
  },
  {
   "cell_type": "code",
   "execution_count": 29,
   "metadata": {
    "colab": {
     "base_uri": "https://localhost:8080/"
    },
    "id": "BI0kW4xu0R1L",
    "outputId": "ba9d862f-c621-4ba8-c7d1-cabc3c713f39",
    "scrolled": true
   },
   "outputs": [
    {
     "data": {
      "text/plain": [
       "cylinders\n",
       "8.0     1348\n",
       "6.0      199\n",
       "10.0      17\n",
       "4.0        1\n",
       "Name: count, dtype: int64"
      ]
     },
     "execution_count": 29,
     "metadata": {},
     "output_type": "execute_result"
    }
   ],
   "source": [
    "# check the distribution of cylinders in the `ram 1500` model\n",
    "car_ads[car_ads['model'] == 'ram 1500']['cylinders'].value_counts()"
   ]
  },
  {
   "cell_type": "markdown",
   "metadata": {
    "id": "GSD0C_Pi0R1L"
   },
   "source": [
    "From the 3 samples it was found that the model had a certain number of cylinders that dominated. Therefore, the median number of cylinders according to the model will be used to fill in the missing values ​​for cylinders. At the same time not to shift the overall data distribution too much."
   ]
  },
  {
   "cell_type": "code",
   "execution_count": 30,
   "metadata": {
    "id": "vo9DfnI20R1N"
   },
   "outputs": [],
   "source": [
    "# Fill in missing values ​​by applying the fill_na function to missing values ​​in cylinders\n",
    "car_ads = fill_na(data=car_ads,\n",
    "                         agg_column='model',\n",
    "                         value_column='cylinders')"
   ]
  },
  {
   "cell_type": "code",
   "execution_count": 31,
   "metadata": {
    "colab": {
     "base_uri": "https://localhost:8080/"
    },
    "id": "ht82Puru0R1N",
    "outputId": "3bdf9286-c437-4a7a-9440-2e1d8eb4e584",
    "scrolled": true
   },
   "outputs": [
    {
     "data": {
      "text/plain": [
       "cylinders\n",
       "8.0     0.343755\n",
       "6.0     0.338379\n",
       "4.0     0.300805\n",
       "10.0    0.010655\n",
       "5.0     0.005706\n",
       "3.0     0.000660\n",
       "12.0    0.000039\n",
       "Name: proportion, dtype: float64"
      ]
     },
     "execution_count": 31,
     "metadata": {},
     "output_type": "execute_result"
    }
   ],
   "source": [
    "# check the distribution of the top 10 values ​​in the cylinders\n",
    "car_ads['cylinders'].value_counts(dropna=False,normalize=True).head(10)"
   ]
  },
  {
   "cell_type": "markdown",
   "metadata": {
    "id": "vxbC9qaX0R1O"
   },
   "source": [
    "It can be seen that the distribution of values ​​in the cylinders has not changed significantly. Missing values ​​have been filled in but the distribution is not affected much. This is because the typical value used is the median per model group."
   ]
  },
  {
   "cell_type": "markdown",
   "metadata": {
    "id": "kGeK7Gfr0R1O"
   },
   "source": [
    "Next let's handle missing values ​​in `paint_color`. The color of the car cannot be related to the model or other factors. And this factor will be analyzed for its influence on prices. In order not to disrupt data distribution, `unknown` will be used to fill in missing values."
   ]
  },
  {
   "cell_type": "code",
   "execution_count": 32,
   "metadata": {
    "colab": {
     "base_uri": "https://localhost:8080/"
    },
    "id": "O5eFZ8Qi0R1O",
    "outputId": "cdabb94b-5179-4e76-da09-5674829f4307",
    "scrolled": true
   },
   "outputs": [
    {
     "data": {
      "text/plain": [
       "paint_color\n",
       "white     10029\n",
       "NaN        9267\n",
       "black      7692\n",
       "silver     6244\n",
       "grey       5037\n",
       "blue       4475\n",
       "red        4421\n",
       "green      1396\n",
       "brown      1223\n",
       "custom     1153\n",
       "yellow      255\n",
       "orange      231\n",
       "purple      102\n",
       "Name: count, dtype: int64"
      ]
     },
     "execution_count": 32,
     "metadata": {},
     "output_type": "execute_result"
    }
   ],
   "source": [
    "# check the distribution of values ​​in paint_color\n",
    "car_ads['paint_color'].value_counts(dropna=False)"
   ]
  },
  {
   "cell_type": "code",
   "execution_count": 33,
   "metadata": {
    "id": "NLsYFs8m0R1O",
    "scrolled": true
   },
   "outputs": [],
   "source": [
    "# fill missing values ​​with unknown\n",
    "car_ads['paint_color'] = car_ads['paint_color'].fillna('unknown')"
   ]
  },
  {
   "cell_type": "code",
   "execution_count": 34,
   "metadata": {
    "colab": {
     "base_uri": "https://localhost:8080/"
    },
    "id": "z6h5VTSN0R1O",
    "outputId": "54b5b0df-e080-4d5a-dd66-796a00c2f0fe",
    "scrolled": true
   },
   "outputs": [
    {
     "data": {
      "text/plain": [
       "price           0\n",
       "model_year      0\n",
       "model           0\n",
       "condition       0\n",
       "cylinders       0\n",
       "fuel            0\n",
       "odometer        0\n",
       "transmission    0\n",
       "type            0\n",
       "paint_color     0\n",
       "is_4wd          0\n",
       "date_posted     0\n",
       "days_listed     0\n",
       "dtype: int64"
      ]
     },
     "execution_count": 34,
     "metadata": {},
     "output_type": "execute_result"
    }
   ],
   "source": [
    "# check again the number of missing values\n",
    "car_ads.isna().sum()"
   ]
  },
  {
   "cell_type": "markdown",
   "metadata": {
    "id": "5RQzSYL40R1O"
   },
   "source": [
    "## 6.0 Fixed Data Type"
   ]
  },
  {
   "cell_type": "markdown",
   "metadata": {
    "id": "ZpEPXHn40R1P"
   },
   "source": [
    "The data is complete, it's time to correct the data type."
   ]
  },
  {
   "cell_type": "code",
   "execution_count": 35,
   "metadata": {
    "id": "S_hPLuoa0R1P"
   },
   "outputs": [],
   "source": [
    "# change the model_year, is_4wd, and cylinders data types to integer\n",
    "car_ads['model_year'] = car_ads['model_year'].astype('int')\n",
    "car_ads['is_4wd'] = car_ads['is_4wd'].astype('bool')\n",
    "car_ads['cylinders'] = car_ads['cylinders'].astype('int')\n"
   ]
  },
  {
   "cell_type": "code",
   "execution_count": 36,
   "metadata": {
    "id": "--eFcVs10R1R"
   },
   "outputs": [],
   "source": [
    "# change the date data type to datetime.\n",
    "car_ads['date_posted'] = pd.to_datetime(car_ads['date_posted'], format='%Y-%m-%d')\n"
   ]
  },
  {
   "cell_type": "code",
   "execution_count": 37,
   "metadata": {
    "colab": {
     "base_uri": "https://localhost:8080/"
    },
    "id": "chXgBL900R1R",
    "outputId": "66187055-f028-45eb-dbe0-383868e1f675"
   },
   "outputs": [
    {
     "name": "stdout",
     "output_type": "stream",
     "text": [
      "<class 'pandas.core.frame.DataFrame'>\n",
      "RangeIndex: 51525 entries, 0 to 51524\n",
      "Data columns (total 13 columns):\n",
      " #   Column        Non-Null Count  Dtype         \n",
      "---  ------        --------------  -----         \n",
      " 0   price         51525 non-null  int64         \n",
      " 1   model_year    51525 non-null  int32         \n",
      " 2   model         51525 non-null  object        \n",
      " 3   condition     51525 non-null  object        \n",
      " 4   cylinders     51525 non-null  int32         \n",
      " 5   fuel          51525 non-null  object        \n",
      " 6   odometer      51525 non-null  float64       \n",
      " 7   transmission  51525 non-null  object        \n",
      " 8   type          51525 non-null  object        \n",
      " 9   paint_color   51525 non-null  object        \n",
      " 10  is_4wd        51525 non-null  bool          \n",
      " 11  date_posted   51525 non-null  datetime64[ns]\n",
      " 12  days_listed   51525 non-null  int64         \n",
      "dtypes: bool(1), datetime64[ns](1), float64(1), int32(2), int64(2), object(6)\n",
      "memory usage: 4.4+ MB\n"
     ]
    }
   ],
   "source": [
    "# load general car_ads info\n",
    "car_ads.info()"
   ]
  },
  {
   "cell_type": "markdown",
   "metadata": {
    "id": "slLQlkeB0R1S"
   },
   "source": [
    "Missing values ​​have been handled and data types have been adjusted for each column required for EDA and feature engineering for further analysis."
   ]
  },
  {
   "cell_type": "markdown",
   "metadata": {
    "id": "K-s4Y8l90R1S"
   },
   "source": [
    "## 6.2 Improving Data Quality"
   ]
  },
  {
   "cell_type": "markdown",
   "metadata": {
    "id": "Ie6AFSLT0R1S"
   },
   "source": [
    "The data will be added with other necessary factors to make it easier to analyze."
   ]
  },
  {
   "cell_type": "code",
   "execution_count": 38,
   "metadata": {
    "colab": {
     "base_uri": "https://localhost:8080/",
     "height": 340
    },
    "id": "KXQnGAwi0R1S",
    "outputId": "9c485c4e-f951-4576-f5b9-9970fa3ab31d"
   },
   "outputs": [
    {
     "data": {
      "text/html": [
       "<div>\n",
       "<style scoped>\n",
       "    .dataframe tbody tr th:only-of-type {\n",
       "        vertical-align: middle;\n",
       "    }\n",
       "\n",
       "    .dataframe tbody tr th {\n",
       "        vertical-align: top;\n",
       "    }\n",
       "\n",
       "    .dataframe thead th {\n",
       "        text-align: right;\n",
       "    }\n",
       "</style>\n",
       "<table border=\"1\" class=\"dataframe\">\n",
       "  <thead>\n",
       "    <tr style=\"text-align: right;\">\n",
       "      <th></th>\n",
       "      <th>price</th>\n",
       "      <th>model_year</th>\n",
       "      <th>model</th>\n",
       "      <th>condition</th>\n",
       "      <th>cylinders</th>\n",
       "      <th>fuel</th>\n",
       "      <th>odometer</th>\n",
       "      <th>transmission</th>\n",
       "      <th>type</th>\n",
       "      <th>paint_color</th>\n",
       "      <th>is_4wd</th>\n",
       "      <th>date_posted</th>\n",
       "      <th>days_listed</th>\n",
       "    </tr>\n",
       "  </thead>\n",
       "  <tbody>\n",
       "    <tr>\n",
       "      <th>0</th>\n",
       "      <td>9400</td>\n",
       "      <td>2011</td>\n",
       "      <td>bmw x5</td>\n",
       "      <td>good</td>\n",
       "      <td>6</td>\n",
       "      <td>gas</td>\n",
       "      <td>145000.0</td>\n",
       "      <td>automatic</td>\n",
       "      <td>SUV</td>\n",
       "      <td>unknown</td>\n",
       "      <td>True</td>\n",
       "      <td>2018-06-23</td>\n",
       "      <td>19</td>\n",
       "    </tr>\n",
       "    <tr>\n",
       "      <th>1</th>\n",
       "      <td>25500</td>\n",
       "      <td>2011</td>\n",
       "      <td>ford f-150</td>\n",
       "      <td>good</td>\n",
       "      <td>6</td>\n",
       "      <td>gas</td>\n",
       "      <td>88705.0</td>\n",
       "      <td>automatic</td>\n",
       "      <td>pickup</td>\n",
       "      <td>white</td>\n",
       "      <td>True</td>\n",
       "      <td>2018-10-19</td>\n",
       "      <td>50</td>\n",
       "    </tr>\n",
       "    <tr>\n",
       "      <th>2</th>\n",
       "      <td>5500</td>\n",
       "      <td>2013</td>\n",
       "      <td>hyundai sonata</td>\n",
       "      <td>like new</td>\n",
       "      <td>4</td>\n",
       "      <td>gas</td>\n",
       "      <td>110000.0</td>\n",
       "      <td>automatic</td>\n",
       "      <td>sedan</td>\n",
       "      <td>red</td>\n",
       "      <td>False</td>\n",
       "      <td>2019-02-07</td>\n",
       "      <td>79</td>\n",
       "    </tr>\n",
       "    <tr>\n",
       "      <th>3</th>\n",
       "      <td>1500</td>\n",
       "      <td>2003</td>\n",
       "      <td>ford f-150</td>\n",
       "      <td>fair</td>\n",
       "      <td>8</td>\n",
       "      <td>gas</td>\n",
       "      <td>181613.0</td>\n",
       "      <td>automatic</td>\n",
       "      <td>pickup</td>\n",
       "      <td>unknown</td>\n",
       "      <td>False</td>\n",
       "      <td>2019-03-22</td>\n",
       "      <td>9</td>\n",
       "    </tr>\n",
       "    <tr>\n",
       "      <th>4</th>\n",
       "      <td>14900</td>\n",
       "      <td>2017</td>\n",
       "      <td>chrysler 200</td>\n",
       "      <td>excellent</td>\n",
       "      <td>4</td>\n",
       "      <td>gas</td>\n",
       "      <td>80903.0</td>\n",
       "      <td>automatic</td>\n",
       "      <td>sedan</td>\n",
       "      <td>black</td>\n",
       "      <td>False</td>\n",
       "      <td>2019-04-02</td>\n",
       "      <td>28</td>\n",
       "    </tr>\n",
       "  </tbody>\n",
       "</table>\n",
       "</div>"
      ],
      "text/plain": [
       "   price  model_year           model  condition  cylinders fuel  odometer  \\\n",
       "0   9400        2011          bmw x5       good          6  gas  145000.0   \n",
       "1  25500        2011      ford f-150       good          6  gas   88705.0   \n",
       "2   5500        2013  hyundai sonata   like new          4  gas  110000.0   \n",
       "3   1500        2003      ford f-150       fair          8  gas  181613.0   \n",
       "4  14900        2017    chrysler 200  excellent          4  gas   80903.0   \n",
       "\n",
       "  transmission    type paint_color  is_4wd date_posted  days_listed  \n",
       "0    automatic     SUV     unknown    True  2018-06-23           19  \n",
       "1    automatic  pickup       white    True  2018-10-19           50  \n",
       "2    automatic   sedan         red   False  2019-02-07           79  \n",
       "3    automatic  pickup     unknown   False  2019-03-22            9  \n",
       "4    automatic   sedan       black   False  2019-04-02           28  "
      ]
     },
     "execution_count": 38,
     "metadata": {},
     "output_type": "execute_result"
    }
   ],
   "source": [
    "# load sample data\n",
    "car_ads.head()"
   ]
  },
  {
   "cell_type": "code",
   "execution_count": 39,
   "metadata": {
    "id": "yIvpOd-V0R1S"
   },
   "outputs": [],
   "source": [
    "# Add time and date values ​​when the ad is displayed\n",
    "car_ads['day_name_posted'] = car_ads['date_posted'].dt.day_name()\n",
    "car_ads['day_posted'] = car_ads['date_posted'].dt.day\n",
    "car_ads['month_posted'] = car_ads['date_posted'].dt.month\n",
    "car_ads['month_name_posted'] = car_ads['date_posted'].dt.month_name()\n",
    "car_ads['year_posted'] = car_ads['date_posted'].dt.year\n"
   ]
  },
  {
   "cell_type": "code",
   "execution_count": 40,
   "metadata": {
    "id": "n2R9Rv_O0R1S"
   },
   "outputs": [],
   "source": [
    "# Add the age of the vehicle when the ad is displayed\n",
    "car_ads['age'] = car_ads['year_posted'] - car_ads['model_year']"
   ]
  },
  {
   "cell_type": "code",
   "execution_count": 41,
   "metadata": {
    "id": "wu2P522P0R1T"
   },
   "outputs": [],
   "source": [
    "# Fill in the age 0 value with 1, so that it can be used as a denominator for dividing the average odometer per year\n",
    "car_ads.loc[car_ads['age'] < 1, 'age'] = 1\n"
   ]
  },
  {
   "cell_type": "code",
   "execution_count": 42,
   "metadata": {
    "colab": {
     "base_uri": "https://localhost:8080/"
    },
    "id": "Hq2_iPvf0R1W",
    "outputId": "3dbce9a0-3260-4bb4-b0f9-82131aded355"
   },
   "outputs": [
    {
     "data": {
      "text/plain": [
       "Series([], Name: age, dtype: int32)"
      ]
     },
     "execution_count": 42,
     "metadata": {},
     "output_type": "execute_result"
    }
   ],
   "source": [
    "# check if there is still an age that is 0\n",
    "car_ads[car_ads['age'] < 1]['age']"
   ]
  },
  {
   "cell_type": "code",
   "execution_count": 43,
   "metadata": {
    "id": "L4YYoBqP0R1W"
   },
   "outputs": [],
   "source": [
    "# Add the average vehicle mileage per year\n",
    "car_ads['odometer_annual'] = car_ads['odometer']/car_ads['age']"
   ]
  },
  {
   "cell_type": "code",
   "execution_count": 44,
   "metadata": {
    "colab": {
     "base_uri": "https://localhost:8080/"
    },
    "id": "ziIWggd10R1W",
    "outputId": "a77dbbae-193c-4684-82cf-2f556f0aeb20"
   },
   "outputs": [
    {
     "data": {
      "text/plain": [
       "array(['good', 'like new', 'fair', 'excellent', 'salvage', 'new'],\n",
       "      dtype=object)"
      ]
     },
     "execution_count": 44,
     "metadata": {},
     "output_type": "execute_result"
    }
   ],
   "source": [
    "# check the value in condition\n",
    "car_ads.condition.unique()\n"
   ]
  },
  {
   "cell_type": "code",
   "execution_count": 45,
   "metadata": {
    "id": "axsXrdfI0R1X"
   },
   "outputs": [],
   "source": [
    "# Replace the value in the 'condition' column with something that can be manipulated more easily \n",
    "car_ads['condition'] = car_ads['condition'].map({'good':2, 'like new':4, 'fair':1, \n",
    "                                                 'excellent':3, 'salvage':0, 'new':5})\n",
    "    \n"
   ]
  },
  {
   "cell_type": "code",
   "execution_count": 46,
   "metadata": {
    "colab": {
     "base_uri": "https://localhost:8080/"
    },
    "id": "UfMKWPRf0R1X",
    "outputId": "14e8543a-abce-4670-c372-aa86ed22a97c"
   },
   "outputs": [
    {
     "data": {
      "text/plain": [
       "condition\n",
       "3    24773\n",
       "2    20145\n",
       "4     4742\n",
       "1     1607\n",
       "5      143\n",
       "0      115\n",
       "Name: count, dtype: int64"
      ]
     },
     "execution_count": 46,
     "metadata": {},
     "output_type": "execute_result"
    }
   ],
   "source": [
    "# count unique values for car_ads['condition'] \n",
    "car_ads['condition'].value_counts()\n"
   ]
  },
  {
   "cell_type": "markdown",
   "metadata": {
    "id": "Oo0dkaHY0R1Y"
   },
   "source": [
    "## 6.3 Checking Clean Data"
   ]
  },
  {
   "cell_type": "markdown",
   "metadata": {
    "id": "a2mL9-cS0R1Y"
   },
   "source": [
    "now time to check the clean data"
   ]
  },
  {
   "cell_type": "code",
   "execution_count": 47,
   "metadata": {
    "colab": {
     "base_uri": "https://localhost:8080/"
    },
    "id": "4bYnv37n0R1Z",
    "outputId": "d3dd5dff-4fa4-48db-cd49-cfa2bc2a17fb"
   },
   "outputs": [
    {
     "name": "stdout",
     "output_type": "stream",
     "text": [
      "<class 'pandas.core.frame.DataFrame'>\n",
      "RangeIndex: 51525 entries, 0 to 51524\n",
      "Data columns (total 20 columns):\n",
      " #   Column             Non-Null Count  Dtype         \n",
      "---  ------             --------------  -----         \n",
      " 0   price              51525 non-null  int64         \n",
      " 1   model_year         51525 non-null  int32         \n",
      " 2   model              51525 non-null  object        \n",
      " 3   condition          51525 non-null  int64         \n",
      " 4   cylinders          51525 non-null  int32         \n",
      " 5   fuel               51525 non-null  object        \n",
      " 6   odometer           51525 non-null  float64       \n",
      " 7   transmission       51525 non-null  object        \n",
      " 8   type               51525 non-null  object        \n",
      " 9   paint_color        51525 non-null  object        \n",
      " 10  is_4wd             51525 non-null  bool          \n",
      " 11  date_posted        51525 non-null  datetime64[ns]\n",
      " 12  days_listed        51525 non-null  int64         \n",
      " 13  day_name_posted    51525 non-null  object        \n",
      " 14  day_posted         51525 non-null  int32         \n",
      " 15  month_posted       51525 non-null  int32         \n",
      " 16  month_name_posted  51525 non-null  object        \n",
      " 17  year_posted        51525 non-null  int32         \n",
      " 18  age                51525 non-null  int32         \n",
      " 19  odometer_annual    51525 non-null  float64       \n",
      "dtypes: bool(1), datetime64[ns](1), float64(2), int32(6), int64(3), object(7)\n",
      "memory usage: 6.3+ MB\n"
     ]
    }
   ],
   "source": [
    "# show general information/summary about the DataFrame\n",
    "car_ads.info()\n"
   ]
  },
  {
   "cell_type": "code",
   "execution_count": 48,
   "metadata": {
    "colab": {
     "base_uri": "https://localhost:8080/",
     "height": 340
    },
    "id": "BT1-xDvD0R1Z",
    "outputId": "7e911158-b9bb-4b57-d3d6-79498ed36954"
   },
   "outputs": [
    {
     "data": {
      "text/html": [
       "<div>\n",
       "<style scoped>\n",
       "    .dataframe tbody tr th:only-of-type {\n",
       "        vertical-align: middle;\n",
       "    }\n",
       "\n",
       "    .dataframe tbody tr th {\n",
       "        vertical-align: top;\n",
       "    }\n",
       "\n",
       "    .dataframe thead th {\n",
       "        text-align: right;\n",
       "    }\n",
       "</style>\n",
       "<table border=\"1\" class=\"dataframe\">\n",
       "  <thead>\n",
       "    <tr style=\"text-align: right;\">\n",
       "      <th></th>\n",
       "      <th>price</th>\n",
       "      <th>model_year</th>\n",
       "      <th>model</th>\n",
       "      <th>condition</th>\n",
       "      <th>cylinders</th>\n",
       "      <th>fuel</th>\n",
       "      <th>odometer</th>\n",
       "      <th>transmission</th>\n",
       "      <th>type</th>\n",
       "      <th>paint_color</th>\n",
       "      <th>is_4wd</th>\n",
       "      <th>date_posted</th>\n",
       "      <th>days_listed</th>\n",
       "      <th>day_name_posted</th>\n",
       "      <th>day_posted</th>\n",
       "      <th>month_posted</th>\n",
       "      <th>month_name_posted</th>\n",
       "      <th>year_posted</th>\n",
       "      <th>age</th>\n",
       "      <th>odometer_annual</th>\n",
       "    </tr>\n",
       "  </thead>\n",
       "  <tbody>\n",
       "    <tr>\n",
       "      <th>0</th>\n",
       "      <td>9400</td>\n",
       "      <td>2011</td>\n",
       "      <td>bmw x5</td>\n",
       "      <td>2</td>\n",
       "      <td>6</td>\n",
       "      <td>gas</td>\n",
       "      <td>145000.0</td>\n",
       "      <td>automatic</td>\n",
       "      <td>SUV</td>\n",
       "      <td>unknown</td>\n",
       "      <td>True</td>\n",
       "      <td>2018-06-23</td>\n",
       "      <td>19</td>\n",
       "      <td>Saturday</td>\n",
       "      <td>23</td>\n",
       "      <td>6</td>\n",
       "      <td>June</td>\n",
       "      <td>2018</td>\n",
       "      <td>7</td>\n",
       "      <td>20714.285714</td>\n",
       "    </tr>\n",
       "    <tr>\n",
       "      <th>1</th>\n",
       "      <td>25500</td>\n",
       "      <td>2011</td>\n",
       "      <td>ford f-150</td>\n",
       "      <td>2</td>\n",
       "      <td>6</td>\n",
       "      <td>gas</td>\n",
       "      <td>88705.0</td>\n",
       "      <td>automatic</td>\n",
       "      <td>pickup</td>\n",
       "      <td>white</td>\n",
       "      <td>True</td>\n",
       "      <td>2018-10-19</td>\n",
       "      <td>50</td>\n",
       "      <td>Friday</td>\n",
       "      <td>19</td>\n",
       "      <td>10</td>\n",
       "      <td>October</td>\n",
       "      <td>2018</td>\n",
       "      <td>7</td>\n",
       "      <td>12672.142857</td>\n",
       "    </tr>\n",
       "    <tr>\n",
       "      <th>2</th>\n",
       "      <td>5500</td>\n",
       "      <td>2013</td>\n",
       "      <td>hyundai sonata</td>\n",
       "      <td>4</td>\n",
       "      <td>4</td>\n",
       "      <td>gas</td>\n",
       "      <td>110000.0</td>\n",
       "      <td>automatic</td>\n",
       "      <td>sedan</td>\n",
       "      <td>red</td>\n",
       "      <td>False</td>\n",
       "      <td>2019-02-07</td>\n",
       "      <td>79</td>\n",
       "      <td>Thursday</td>\n",
       "      <td>7</td>\n",
       "      <td>2</td>\n",
       "      <td>February</td>\n",
       "      <td>2019</td>\n",
       "      <td>6</td>\n",
       "      <td>18333.333333</td>\n",
       "    </tr>\n",
       "    <tr>\n",
       "      <th>3</th>\n",
       "      <td>1500</td>\n",
       "      <td>2003</td>\n",
       "      <td>ford f-150</td>\n",
       "      <td>1</td>\n",
       "      <td>8</td>\n",
       "      <td>gas</td>\n",
       "      <td>181613.0</td>\n",
       "      <td>automatic</td>\n",
       "      <td>pickup</td>\n",
       "      <td>unknown</td>\n",
       "      <td>False</td>\n",
       "      <td>2019-03-22</td>\n",
       "      <td>9</td>\n",
       "      <td>Friday</td>\n",
       "      <td>22</td>\n",
       "      <td>3</td>\n",
       "      <td>March</td>\n",
       "      <td>2019</td>\n",
       "      <td>16</td>\n",
       "      <td>11350.812500</td>\n",
       "    </tr>\n",
       "    <tr>\n",
       "      <th>4</th>\n",
       "      <td>14900</td>\n",
       "      <td>2017</td>\n",
       "      <td>chrysler 200</td>\n",
       "      <td>3</td>\n",
       "      <td>4</td>\n",
       "      <td>gas</td>\n",
       "      <td>80903.0</td>\n",
       "      <td>automatic</td>\n",
       "      <td>sedan</td>\n",
       "      <td>black</td>\n",
       "      <td>False</td>\n",
       "      <td>2019-04-02</td>\n",
       "      <td>28</td>\n",
       "      <td>Tuesday</td>\n",
       "      <td>2</td>\n",
       "      <td>4</td>\n",
       "      <td>April</td>\n",
       "      <td>2019</td>\n",
       "      <td>2</td>\n",
       "      <td>40451.500000</td>\n",
       "    </tr>\n",
       "  </tbody>\n",
       "</table>\n",
       "</div>"
      ],
      "text/plain": [
       "   price  model_year           model  condition  cylinders fuel  odometer  \\\n",
       "0   9400        2011          bmw x5          2          6  gas  145000.0   \n",
       "1  25500        2011      ford f-150          2          6  gas   88705.0   \n",
       "2   5500        2013  hyundai sonata          4          4  gas  110000.0   \n",
       "3   1500        2003      ford f-150          1          8  gas  181613.0   \n",
       "4  14900        2017    chrysler 200          3          4  gas   80903.0   \n",
       "\n",
       "  transmission    type paint_color  is_4wd date_posted  days_listed  \\\n",
       "0    automatic     SUV     unknown    True  2018-06-23           19   \n",
       "1    automatic  pickup       white    True  2018-10-19           50   \n",
       "2    automatic   sedan         red   False  2019-02-07           79   \n",
       "3    automatic  pickup     unknown   False  2019-03-22            9   \n",
       "4    automatic   sedan       black   False  2019-04-02           28   \n",
       "\n",
       "  day_name_posted  day_posted  month_posted month_name_posted  year_posted  \\\n",
       "0        Saturday          23             6              June         2018   \n",
       "1          Friday          19            10           October         2018   \n",
       "2        Thursday           7             2          February         2019   \n",
       "3          Friday          22             3             March         2019   \n",
       "4         Tuesday           2             4             April         2019   \n",
       "\n",
       "   age  odometer_annual  \n",
       "0    7     20714.285714  \n",
       "1    7     12672.142857  \n",
       "2    6     18333.333333  \n",
       "3   16     11350.812500  \n",
       "4    2     40451.500000  "
      ]
     },
     "execution_count": 48,
     "metadata": {},
     "output_type": "execute_result"
    }
   ],
   "source": [
    "# show sample data\n",
    "car_ads.head()"
   ]
  },
  {
   "cell_type": "markdown",
   "metadata": {
    "id": "KHllwnRo0R1a"
   },
   "source": [
    "## 6.4 Studying Core Parameters\n",
    "The parameters to be studied are:\r\n",
    "- Price\r\n",
    "- Vehicle age when the ad is displayed\r\n",
    "- Mileage\r\n",
    "- Number of cylinders\r\n",
    "- Condition\r\n",
    "\r\n",
    "For numerical ratio parameters, namely: price, age, odometer, histogram will be used.\r\n",
    "\r\n",
    "Meanwhile, for ordinal categorical parameters, namely: cylinders, condition, countplot will be used.\r\n",
    "\r\n",
    "And to check for the presence of outliers, a boxplot will be used to depict the distribution in each parameter.\r\n",
    "\r\n",
    "Functions will be defined so that coding does not need to be written repeatedly."
   ]
  },
  {
   "cell_type": "code",
   "execution_count": 49,
   "metadata": {
    "colab": {
     "base_uri": "https://localhost:8080/",
     "height": 364
    },
    "id": "Zomj2ow60R1a",
    "outputId": "18a87b0c-ec58-407a-f84a-4c3555e6a1bc",
    "scrolled": true
   },
   "outputs": [
    {
     "data": {
      "text/html": [
       "<div>\n",
       "<style scoped>\n",
       "    .dataframe tbody tr th:only-of-type {\n",
       "        vertical-align: middle;\n",
       "    }\n",
       "\n",
       "    .dataframe tbody tr th {\n",
       "        vertical-align: top;\n",
       "    }\n",
       "\n",
       "    .dataframe thead th {\n",
       "        text-align: right;\n",
       "    }\n",
       "</style>\n",
       "<table border=\"1\" class=\"dataframe\">\n",
       "  <thead>\n",
       "    <tr style=\"text-align: right;\">\n",
       "      <th></th>\n",
       "      <th>price</th>\n",
       "      <th>model_year</th>\n",
       "      <th>condition</th>\n",
       "      <th>cylinders</th>\n",
       "      <th>odometer</th>\n",
       "      <th>date_posted</th>\n",
       "      <th>days_listed</th>\n",
       "      <th>day_posted</th>\n",
       "      <th>month_posted</th>\n",
       "      <th>year_posted</th>\n",
       "      <th>age</th>\n",
       "      <th>odometer_annual</th>\n",
       "    </tr>\n",
       "  </thead>\n",
       "  <tbody>\n",
       "    <tr>\n",
       "      <th>count</th>\n",
       "      <td>51525.000000</td>\n",
       "      <td>51525.000000</td>\n",
       "      <td>51525.000000</td>\n",
       "      <td>51525.000000</td>\n",
       "      <td>51525.000000</td>\n",
       "      <td>51525</td>\n",
       "      <td>51525.00000</td>\n",
       "      <td>51525.000000</td>\n",
       "      <td>51525.000000</td>\n",
       "      <td>51525.000000</td>\n",
       "      <td>51525.000000</td>\n",
       "      <td>51525.000000</td>\n",
       "    </tr>\n",
       "    <tr>\n",
       "      <th>mean</th>\n",
       "      <td>12132.464920</td>\n",
       "      <td>2009.793557</td>\n",
       "      <td>2.637535</td>\n",
       "      <td>6.121067</td>\n",
       "      <td>115199.014508</td>\n",
       "      <td>2018-10-25 01:57:46.270742528</td>\n",
       "      <td>39.55476</td>\n",
       "      <td>15.449491</td>\n",
       "      <td>6.628491</td>\n",
       "      <td>2018.307462</td>\n",
       "      <td>8.555672</td>\n",
       "      <td>18930.822069</td>\n",
       "    </tr>\n",
       "    <tr>\n",
       "      <th>min</th>\n",
       "      <td>1.000000</td>\n",
       "      <td>1908.000000</td>\n",
       "      <td>0.000000</td>\n",
       "      <td>3.000000</td>\n",
       "      <td>0.000000</td>\n",
       "      <td>2018-05-01 00:00:00</td>\n",
       "      <td>0.00000</td>\n",
       "      <td>1.000000</td>\n",
       "      <td>1.000000</td>\n",
       "      <td>2018.000000</td>\n",
       "      <td>1.000000</td>\n",
       "      <td>0.000000</td>\n",
       "    </tr>\n",
       "    <tr>\n",
       "      <th>25%</th>\n",
       "      <td>5000.000000</td>\n",
       "      <td>2007.000000</td>\n",
       "      <td>2.000000</td>\n",
       "      <td>4.000000</td>\n",
       "      <td>75668.000000</td>\n",
       "      <td>2018-07-29 00:00:00</td>\n",
       "      <td>19.00000</td>\n",
       "      <td>8.000000</td>\n",
       "      <td>3.000000</td>\n",
       "      <td>2018.000000</td>\n",
       "      <td>4.000000</td>\n",
       "      <td>10423.000000</td>\n",
       "    </tr>\n",
       "    <tr>\n",
       "      <th>50%</th>\n",
       "      <td>9000.000000</td>\n",
       "      <td>2011.000000</td>\n",
       "      <td>3.000000</td>\n",
       "      <td>6.000000</td>\n",
       "      <td>110908.000000</td>\n",
       "      <td>2018-10-25 00:00:00</td>\n",
       "      <td>33.00000</td>\n",
       "      <td>15.000000</td>\n",
       "      <td>7.000000</td>\n",
       "      <td>2018.000000</td>\n",
       "      <td>8.000000</td>\n",
       "      <td>14982.500000</td>\n",
       "    </tr>\n",
       "    <tr>\n",
       "      <th>75%</th>\n",
       "      <td>16839.000000</td>\n",
       "      <td>2014.000000</td>\n",
       "      <td>3.000000</td>\n",
       "      <td>8.000000</td>\n",
       "      <td>147821.000000</td>\n",
       "      <td>2019-01-21 00:00:00</td>\n",
       "      <td>53.00000</td>\n",
       "      <td>23.000000</td>\n",
       "      <td>10.000000</td>\n",
       "      <td>2019.000000</td>\n",
       "      <td>12.000000</td>\n",
       "      <td>21800.000000</td>\n",
       "    </tr>\n",
       "    <tr>\n",
       "      <th>max</th>\n",
       "      <td>375000.000000</td>\n",
       "      <td>2019.000000</td>\n",
       "      <td>5.000000</td>\n",
       "      <td>12.000000</td>\n",
       "      <td>990000.000000</td>\n",
       "      <td>2019-04-19 00:00:00</td>\n",
       "      <td>271.00000</td>\n",
       "      <td>31.000000</td>\n",
       "      <td>12.000000</td>\n",
       "      <td>2019.000000</td>\n",
       "      <td>110.000000</td>\n",
       "      <td>373200.000000</td>\n",
       "    </tr>\n",
       "    <tr>\n",
       "      <th>std</th>\n",
       "      <td>10040.803015</td>\n",
       "      <td>6.099381</td>\n",
       "      <td>0.712447</td>\n",
       "      <td>1.657457</td>\n",
       "      <td>60484.863376</td>\n",
       "      <td>NaN</td>\n",
       "      <td>28.20427</td>\n",
       "      <td>8.736521</td>\n",
       "      <td>3.474134</td>\n",
       "      <td>0.461447</td>\n",
       "      <td>6.057829</td>\n",
       "      <td>16268.514686</td>\n",
       "    </tr>\n",
       "  </tbody>\n",
       "</table>\n",
       "</div>"
      ],
      "text/plain": [
       "               price    model_year     condition     cylinders       odometer  \\\n",
       "count   51525.000000  51525.000000  51525.000000  51525.000000   51525.000000   \n",
       "mean    12132.464920   2009.793557      2.637535      6.121067  115199.014508   \n",
       "min         1.000000   1908.000000      0.000000      3.000000       0.000000   \n",
       "25%      5000.000000   2007.000000      2.000000      4.000000   75668.000000   \n",
       "50%      9000.000000   2011.000000      3.000000      6.000000  110908.000000   \n",
       "75%     16839.000000   2014.000000      3.000000      8.000000  147821.000000   \n",
       "max    375000.000000   2019.000000      5.000000     12.000000  990000.000000   \n",
       "std     10040.803015      6.099381      0.712447      1.657457   60484.863376   \n",
       "\n",
       "                         date_posted  days_listed    day_posted  month_posted  \\\n",
       "count                          51525  51525.00000  51525.000000  51525.000000   \n",
       "mean   2018-10-25 01:57:46.270742528     39.55476     15.449491      6.628491   \n",
       "min              2018-05-01 00:00:00      0.00000      1.000000      1.000000   \n",
       "25%              2018-07-29 00:00:00     19.00000      8.000000      3.000000   \n",
       "50%              2018-10-25 00:00:00     33.00000     15.000000      7.000000   \n",
       "75%              2019-01-21 00:00:00     53.00000     23.000000     10.000000   \n",
       "max              2019-04-19 00:00:00    271.00000     31.000000     12.000000   \n",
       "std                              NaN     28.20427      8.736521      3.474134   \n",
       "\n",
       "        year_posted           age  odometer_annual  \n",
       "count  51525.000000  51525.000000     51525.000000  \n",
       "mean    2018.307462      8.555672     18930.822069  \n",
       "min     2018.000000      1.000000         0.000000  \n",
       "25%     2018.000000      4.000000     10423.000000  \n",
       "50%     2018.000000      8.000000     14982.500000  \n",
       "75%     2019.000000     12.000000     21800.000000  \n",
       "max     2019.000000    110.000000    373200.000000  \n",
       "std        0.461447      6.057829     16268.514686  "
      ]
     },
     "execution_count": 49,
     "metadata": {},
     "output_type": "execute_result"
    }
   ],
   "source": [
    "# contains statistical descriptions\n",
    "car_ads.describe()"
   ]
  },
  {
   "cell_type": "code",
   "execution_count": 50,
   "metadata": {
    "id": "fPFwYHNA0R1a"
   },
   "outputs": [],
   "source": [
    "# create a boxplot function using a loop\n",
    "def create_boxplot(df, columns):\n",
    "    plt.subplots(figsize = (20, 16))\n",
    "    for i, column in enumerate(columns):\n",
    "        sns.boxplot(data=df, x=column, ax = plt.subplot(2, len(columns)-2, i + 1))\n",
    "        plt.xticks(rotation = 45)\n",
    "        plt.title(column+' distribution')\n"
   ]
  },
  {
   "cell_type": "code",
   "execution_count": 51,
   "metadata": {
    "colab": {
     "base_uri": "https://localhost:8080/",
     "height": 858
    },
    "id": "nvi6xKB70R1c",
    "outputId": "edc4983e-c02d-4363-9a12-e96d3b16ff65"
   },
   "outputs": [],
   "source": [
    "# load boxplots for each parameter using the create_boxplot function\n",
    "parameters = ('price', 'age', 'odometer', 'cylinders', 'condition')\n",
    "create_boxplot(car_ads, parameters)"
   ]
  },
  {
   "cell_type": "code",
   "execution_count": 52,
   "metadata": {
    "id": "zXwfPSUH0R1c"
   },
   "outputs": [],
   "source": [
    "# create a histplot function using a loop\n",
    "def create_histplot(df, columns):\n",
    "    plt.subplots(figsize = (16, 4))\n",
    "    for i, column in enumerate(columns):\n",
    "        sns.histplot(data=df, x=column, ax = plt.subplot(1, len(columns), i+1))\n",
    "        plt.xticks(rotation = 45)\n",
    "        plt.title(column+' distribution')\n"
   ]
  },
  {
   "cell_type": "code",
   "execution_count": 53,
   "metadata": {
    "id": "QfifILOq0R1c"
   },
   "outputs": [],
   "source": [
    "# create a countplot function using a loop\n",
    "def create_countplot(df, columns):\n",
    "    plt.subplots(figsize = (16, 4))\n",
    "    for i, column in enumerate(columns):\n",
    "        sns.countplot(data=df, x=column, ax = plt.subplot(1, len(columns), i + 1))\n",
    "        plt.xticks(rotation = 45)\n",
    "        plt.title(column+' distribution')"
   ]
  },
  {
   "cell_type": "code",
   "execution_count": 54,
   "metadata": {
    "id": "ivM_OVhm0R1d"
   },
   "outputs": [],
   "source": [
    "parameter_numeric = ('price', 'age', 'odometer')\n",
    "parameter_category = ('cylinders', 'condition')"
   ]
  },
  {
   "cell_type": "code",
   "execution_count": 55,
   "metadata": {
    "colab": {
     "base_uri": "https://localhost:8080/",
     "height": 319
    },
    "id": "p2WMmZtQ0R1d",
    "outputId": "ee66cd05-8b9a-459e-f8ee-99ca0b094506",
    "scrolled": true
   },
   "outputs": [],
   "source": [
    "# load histograms for parameters: price, age, mileage\n",
    "create_histplot(car_ads, parameter_numeric)"
   ]
  },
  {
   "cell_type": "code",
   "execution_count": 56,
   "metadata": {
    "colab": {
     "base_uri": "https://localhost:8080/",
     "height": 301
    },
    "id": "pmRaEZSs0R1d",
    "outputId": "b7fc2a85-c337-4c74-ac8e-6e944951fb40"
   },
   "outputs": [],
   "source": [
    "# load countplot for parameters: cylinder and condition\n",
    "create_countplot(car_ads, parameter_category)"
   ]
  },
  {
   "cell_type": "markdown",
   "metadata": {
    "id": "9bhmA-JF0R1g"
   },
   "source": [
    "## 6.5 Studying and Handling Outliers\n",
    "From the graph above, it can be seen that the price, age, and odometer columns have outliers. While Cylinders do not.\r\n",
    "\r\n",
    "The next step is defining outliers and filtering them from the data."
   ]
  },
  {
   "cell_type": "code",
   "execution_count": 57,
   "metadata": {
    "id": "WgNs2zqa0R1g"
   },
   "outputs": [],
   "source": [
    "# define a function to determine the lower and upper limits of outliers based on Q1 and Q3\n",
    "def bound(df, column):\n",
    "    Q3 = df[column].quantile(0.75)\n",
    "    Q1 = df[column].quantile(0.25)\n",
    "    IQR = Q3 - Q1\n",
    "    lower_bound = Q1-(1.5*IQR)\n",
    "    upper_bound = Q3 + (1.5 * IQR)\n",
    "    return lower_bound, upper_bound"
   ]
  },
  {
   "cell_type": "code",
   "execution_count": 58,
   "metadata": {
    "id": "KPtE3ffU0R1h"
   },
   "outputs": [],
   "source": [
    "# create a function to clean outliers\n",
    "def filter_outlier(df, column, lower_bound, upper_bound):\n",
    "    if lower_bound < 0:\n",
    "        lower_bound = 0\n",
    "\n",
    "    # Clean Outlier to the bounds\n",
    "    df = df.loc[(df[column] < upper_bound) & (df[column] > lower_bound)]\n",
    "    return df"
   ]
  },
  {
   "cell_type": "code",
   "execution_count": 59,
   "metadata": {
    "id": "jbNWRuvI0R1h"
   },
   "outputs": [],
   "source": [
    "# create a function that cleans the data from outliers\n",
    "def clean_data(df, columns):\n",
    "    for column in columns:\n",
    "        lower_bound = bound(df, column)[0]\n",
    "        upper_bound = bound(df, column)[1]\n",
    "        df = filter_outlier(df, column, lower_bound, upper_bound)\n",
    "    return df"
   ]
  },
  {
   "cell_type": "code",
   "execution_count": 60,
   "metadata": {
    "id": "TbdJlUn70R1i"
   },
   "outputs": [],
   "source": [
    "# Apply the function to create a new, clean dataframe\n",
    "columns = ('price', 'age', 'odometer')\n",
    "car_ads_clean = clean_data(df=car_ads, columns=columns)\n"
   ]
  },
  {
   "cell_type": "code",
   "execution_count": 61,
   "metadata": {
    "colab": {
     "base_uri": "https://localhost:8080/",
     "height": 364
    },
    "id": "-A_fCFPg0R1i",
    "outputId": "d364e2fb-3eb0-4c7e-a698-5049b83172df"
   },
   "outputs": [
    {
     "data": {
      "text/html": [
       "<div>\n",
       "<style scoped>\n",
       "    .dataframe tbody tr th:only-of-type {\n",
       "        vertical-align: middle;\n",
       "    }\n",
       "\n",
       "    .dataframe tbody tr th {\n",
       "        vertical-align: top;\n",
       "    }\n",
       "\n",
       "    .dataframe thead th {\n",
       "        text-align: right;\n",
       "    }\n",
       "</style>\n",
       "<table border=\"1\" class=\"dataframe\">\n",
       "  <thead>\n",
       "    <tr style=\"text-align: right;\">\n",
       "      <th></th>\n",
       "      <th>price</th>\n",
       "      <th>model_year</th>\n",
       "      <th>condition</th>\n",
       "      <th>cylinders</th>\n",
       "      <th>odometer</th>\n",
       "      <th>date_posted</th>\n",
       "      <th>days_listed</th>\n",
       "      <th>day_posted</th>\n",
       "      <th>month_posted</th>\n",
       "      <th>year_posted</th>\n",
       "      <th>age</th>\n",
       "      <th>odometer_annual</th>\n",
       "    </tr>\n",
       "  </thead>\n",
       "  <tbody>\n",
       "    <tr>\n",
       "      <th>count</th>\n",
       "      <td>47911.000000</td>\n",
       "      <td>47911.000000</td>\n",
       "      <td>47911.000000</td>\n",
       "      <td>47911.000000</td>\n",
       "      <td>47911.000000</td>\n",
       "      <td>47911</td>\n",
       "      <td>47911.000000</td>\n",
       "      <td>47911.000000</td>\n",
       "      <td>47911.000000</td>\n",
       "      <td>47911.000000</td>\n",
       "      <td>47911.000000</td>\n",
       "      <td>47911.000000</td>\n",
       "    </tr>\n",
       "    <tr>\n",
       "      <th>mean</th>\n",
       "      <td>11273.531047</td>\n",
       "      <td>2010.141095</td>\n",
       "      <td>2.639060</td>\n",
       "      <td>6.051011</td>\n",
       "      <td>113819.105080</td>\n",
       "      <td>2018-10-24 21:18:16.207551488</td>\n",
       "      <td>39.539250</td>\n",
       "      <td>15.454843</td>\n",
       "      <td>6.632694</td>\n",
       "      <td>2018.306568</td>\n",
       "      <td>8.198451</td>\n",
       "      <td>18798.411014</td>\n",
       "    </tr>\n",
       "    <tr>\n",
       "      <th>min</th>\n",
       "      <td>1.000000</td>\n",
       "      <td>1995.000000</td>\n",
       "      <td>0.000000</td>\n",
       "      <td>3.000000</td>\n",
       "      <td>1.000000</td>\n",
       "      <td>2018-05-01 00:00:00</td>\n",
       "      <td>0.000000</td>\n",
       "      <td>1.000000</td>\n",
       "      <td>1.000000</td>\n",
       "      <td>2018.000000</td>\n",
       "      <td>1.000000</td>\n",
       "      <td>0.052632</td>\n",
       "    </tr>\n",
       "    <tr>\n",
       "      <th>25%</th>\n",
       "      <td>5000.000000</td>\n",
       "      <td>2007.000000</td>\n",
       "      <td>2.000000</td>\n",
       "      <td>4.000000</td>\n",
       "      <td>79000.000000</td>\n",
       "      <td>2018-07-29 00:00:00</td>\n",
       "      <td>19.000000</td>\n",
       "      <td>8.000000</td>\n",
       "      <td>3.000000</td>\n",
       "      <td>2018.000000</td>\n",
       "      <td>4.000000</td>\n",
       "      <td>10596.750000</td>\n",
       "    </tr>\n",
       "    <tr>\n",
       "      <th>50%</th>\n",
       "      <td>8995.000000</td>\n",
       "      <td>2011.000000</td>\n",
       "      <td>3.000000</td>\n",
       "      <td>6.000000</td>\n",
       "      <td>112000.000000</td>\n",
       "      <td>2018-10-24 00:00:00</td>\n",
       "      <td>33.000000</td>\n",
       "      <td>15.000000</td>\n",
       "      <td>7.000000</td>\n",
       "      <td>2018.000000</td>\n",
       "      <td>7.000000</td>\n",
       "      <td>14928.461538</td>\n",
       "    </tr>\n",
       "    <tr>\n",
       "      <th>75%</th>\n",
       "      <td>15995.000000</td>\n",
       "      <td>2014.000000</td>\n",
       "      <td>3.000000</td>\n",
       "      <td>8.000000</td>\n",
       "      <td>146000.000000</td>\n",
       "      <td>2019-01-21 00:00:00</td>\n",
       "      <td>53.000000</td>\n",
       "      <td>23.000000</td>\n",
       "      <td>10.000000</td>\n",
       "      <td>2019.000000</td>\n",
       "      <td>11.000000</td>\n",
       "      <td>21584.125000</td>\n",
       "    </tr>\n",
       "    <tr>\n",
       "      <th>max</th>\n",
       "      <td>34595.000000</td>\n",
       "      <td>2019.000000</td>\n",
       "      <td>5.000000</td>\n",
       "      <td>12.000000</td>\n",
       "      <td>253000.000000</td>\n",
       "      <td>2019-04-19 00:00:00</td>\n",
       "      <td>271.000000</td>\n",
       "      <td>31.000000</td>\n",
       "      <td>12.000000</td>\n",
       "      <td>2019.000000</td>\n",
       "      <td>23.000000</td>\n",
       "      <td>195700.000000</td>\n",
       "    </tr>\n",
       "    <tr>\n",
       "      <th>std</th>\n",
       "      <td>7836.391772</td>\n",
       "      <td>4.965727</td>\n",
       "      <td>0.697721</td>\n",
       "      <td>1.656933</td>\n",
       "      <td>52531.716484</td>\n",
       "      <td>NaN</td>\n",
       "      <td>28.207371</td>\n",
       "      <td>8.740585</td>\n",
       "      <td>3.472197</td>\n",
       "      <td>0.461073</td>\n",
       "      <td>4.927496</td>\n",
       "      <td>15395.192234</td>\n",
       "    </tr>\n",
       "  </tbody>\n",
       "</table>\n",
       "</div>"
      ],
      "text/plain": [
       "              price    model_year     condition     cylinders       odometer  \\\n",
       "count  47911.000000  47911.000000  47911.000000  47911.000000   47911.000000   \n",
       "mean   11273.531047   2010.141095      2.639060      6.051011  113819.105080   \n",
       "min        1.000000   1995.000000      0.000000      3.000000       1.000000   \n",
       "25%     5000.000000   2007.000000      2.000000      4.000000   79000.000000   \n",
       "50%     8995.000000   2011.000000      3.000000      6.000000  112000.000000   \n",
       "75%    15995.000000   2014.000000      3.000000      8.000000  146000.000000   \n",
       "max    34595.000000   2019.000000      5.000000     12.000000  253000.000000   \n",
       "std     7836.391772      4.965727      0.697721      1.656933   52531.716484   \n",
       "\n",
       "                         date_posted   days_listed    day_posted  \\\n",
       "count                          47911  47911.000000  47911.000000   \n",
       "mean   2018-10-24 21:18:16.207551488     39.539250     15.454843   \n",
       "min              2018-05-01 00:00:00      0.000000      1.000000   \n",
       "25%              2018-07-29 00:00:00     19.000000      8.000000   \n",
       "50%              2018-10-24 00:00:00     33.000000     15.000000   \n",
       "75%              2019-01-21 00:00:00     53.000000     23.000000   \n",
       "max              2019-04-19 00:00:00    271.000000     31.000000   \n",
       "std                              NaN     28.207371      8.740585   \n",
       "\n",
       "       month_posted   year_posted           age  odometer_annual  \n",
       "count  47911.000000  47911.000000  47911.000000     47911.000000  \n",
       "mean       6.632694   2018.306568      8.198451     18798.411014  \n",
       "min        1.000000   2018.000000      1.000000         0.052632  \n",
       "25%        3.000000   2018.000000      4.000000     10596.750000  \n",
       "50%        7.000000   2018.000000      7.000000     14928.461538  \n",
       "75%       10.000000   2019.000000     11.000000     21584.125000  \n",
       "max       12.000000   2019.000000     23.000000    195700.000000  \n",
       "std        3.472197      0.461073      4.927496     15395.192234  "
      ]
     },
     "execution_count": 61,
     "metadata": {},
     "output_type": "execute_result"
    }
   ],
   "source": [
    "# Contains a statistical description of the data that is clean from outiers\n",
    "car_ads_clean.describe()"
   ]
  },
  {
   "cell_type": "markdown",
   "metadata": {
    "id": "o_sv9CUP0R1j"
   },
   "source": [
    "## 6.6 \n",
    "Studying Core Parameters Without Outliers"
   ]
  },
  {
   "cell_type": "markdown",
   "metadata": {
    "id": "0uFyWOcz0R1j"
   },
   "source": [
    "With the data cleaned of outliers, a histogram, countplot, and boxplot will be created."
   ]
  },
  {
   "cell_type": "code",
   "execution_count": 62,
   "metadata": {
    "colab": {
     "base_uri": "https://localhost:8080/",
     "height": 364
    },
    "id": "3PGVqFIA0R1j",
    "outputId": "381fbf20-7d9a-46d2-cb6d-352c4203ceb4",
    "scrolled": true
   },
   "outputs": [
    {
     "data": {
      "text/html": [
       "<div>\n",
       "<style scoped>\n",
       "    .dataframe tbody tr th:only-of-type {\n",
       "        vertical-align: middle;\n",
       "    }\n",
       "\n",
       "    .dataframe tbody tr th {\n",
       "        vertical-align: top;\n",
       "    }\n",
       "\n",
       "    .dataframe thead th {\n",
       "        text-align: right;\n",
       "    }\n",
       "</style>\n",
       "<table border=\"1\" class=\"dataframe\">\n",
       "  <thead>\n",
       "    <tr style=\"text-align: right;\">\n",
       "      <th></th>\n",
       "      <th>price</th>\n",
       "      <th>model_year</th>\n",
       "      <th>condition</th>\n",
       "      <th>cylinders</th>\n",
       "      <th>odometer</th>\n",
       "      <th>date_posted</th>\n",
       "      <th>days_listed</th>\n",
       "      <th>day_posted</th>\n",
       "      <th>month_posted</th>\n",
       "      <th>year_posted</th>\n",
       "      <th>age</th>\n",
       "      <th>odometer_annual</th>\n",
       "    </tr>\n",
       "  </thead>\n",
       "  <tbody>\n",
       "    <tr>\n",
       "      <th>count</th>\n",
       "      <td>51525.000000</td>\n",
       "      <td>51525.000000</td>\n",
       "      <td>51525.000000</td>\n",
       "      <td>51525.000000</td>\n",
       "      <td>51525.000000</td>\n",
       "      <td>51525</td>\n",
       "      <td>51525.00000</td>\n",
       "      <td>51525.000000</td>\n",
       "      <td>51525.000000</td>\n",
       "      <td>51525.000000</td>\n",
       "      <td>51525.000000</td>\n",
       "      <td>51525.000000</td>\n",
       "    </tr>\n",
       "    <tr>\n",
       "      <th>mean</th>\n",
       "      <td>12132.464920</td>\n",
       "      <td>2009.793557</td>\n",
       "      <td>2.637535</td>\n",
       "      <td>6.121067</td>\n",
       "      <td>115199.014508</td>\n",
       "      <td>2018-10-25 01:57:46.270742528</td>\n",
       "      <td>39.55476</td>\n",
       "      <td>15.449491</td>\n",
       "      <td>6.628491</td>\n",
       "      <td>2018.307462</td>\n",
       "      <td>8.555672</td>\n",
       "      <td>18930.822069</td>\n",
       "    </tr>\n",
       "    <tr>\n",
       "      <th>min</th>\n",
       "      <td>1.000000</td>\n",
       "      <td>1908.000000</td>\n",
       "      <td>0.000000</td>\n",
       "      <td>3.000000</td>\n",
       "      <td>0.000000</td>\n",
       "      <td>2018-05-01 00:00:00</td>\n",
       "      <td>0.00000</td>\n",
       "      <td>1.000000</td>\n",
       "      <td>1.000000</td>\n",
       "      <td>2018.000000</td>\n",
       "      <td>1.000000</td>\n",
       "      <td>0.000000</td>\n",
       "    </tr>\n",
       "    <tr>\n",
       "      <th>25%</th>\n",
       "      <td>5000.000000</td>\n",
       "      <td>2007.000000</td>\n",
       "      <td>2.000000</td>\n",
       "      <td>4.000000</td>\n",
       "      <td>75668.000000</td>\n",
       "      <td>2018-07-29 00:00:00</td>\n",
       "      <td>19.00000</td>\n",
       "      <td>8.000000</td>\n",
       "      <td>3.000000</td>\n",
       "      <td>2018.000000</td>\n",
       "      <td>4.000000</td>\n",
       "      <td>10423.000000</td>\n",
       "    </tr>\n",
       "    <tr>\n",
       "      <th>50%</th>\n",
       "      <td>9000.000000</td>\n",
       "      <td>2011.000000</td>\n",
       "      <td>3.000000</td>\n",
       "      <td>6.000000</td>\n",
       "      <td>110908.000000</td>\n",
       "      <td>2018-10-25 00:00:00</td>\n",
       "      <td>33.00000</td>\n",
       "      <td>15.000000</td>\n",
       "      <td>7.000000</td>\n",
       "      <td>2018.000000</td>\n",
       "      <td>8.000000</td>\n",
       "      <td>14982.500000</td>\n",
       "    </tr>\n",
       "    <tr>\n",
       "      <th>75%</th>\n",
       "      <td>16839.000000</td>\n",
       "      <td>2014.000000</td>\n",
       "      <td>3.000000</td>\n",
       "      <td>8.000000</td>\n",
       "      <td>147821.000000</td>\n",
       "      <td>2019-01-21 00:00:00</td>\n",
       "      <td>53.00000</td>\n",
       "      <td>23.000000</td>\n",
       "      <td>10.000000</td>\n",
       "      <td>2019.000000</td>\n",
       "      <td>12.000000</td>\n",
       "      <td>21800.000000</td>\n",
       "    </tr>\n",
       "    <tr>\n",
       "      <th>max</th>\n",
       "      <td>375000.000000</td>\n",
       "      <td>2019.000000</td>\n",
       "      <td>5.000000</td>\n",
       "      <td>12.000000</td>\n",
       "      <td>990000.000000</td>\n",
       "      <td>2019-04-19 00:00:00</td>\n",
       "      <td>271.00000</td>\n",
       "      <td>31.000000</td>\n",
       "      <td>12.000000</td>\n",
       "      <td>2019.000000</td>\n",
       "      <td>110.000000</td>\n",
       "      <td>373200.000000</td>\n",
       "    </tr>\n",
       "    <tr>\n",
       "      <th>std</th>\n",
       "      <td>10040.803015</td>\n",
       "      <td>6.099381</td>\n",
       "      <td>0.712447</td>\n",
       "      <td>1.657457</td>\n",
       "      <td>60484.863376</td>\n",
       "      <td>NaN</td>\n",
       "      <td>28.20427</td>\n",
       "      <td>8.736521</td>\n",
       "      <td>3.474134</td>\n",
       "      <td>0.461447</td>\n",
       "      <td>6.057829</td>\n",
       "      <td>16268.514686</td>\n",
       "    </tr>\n",
       "  </tbody>\n",
       "</table>\n",
       "</div>"
      ],
      "text/plain": [
       "               price    model_year     condition     cylinders       odometer  \\\n",
       "count   51525.000000  51525.000000  51525.000000  51525.000000   51525.000000   \n",
       "mean    12132.464920   2009.793557      2.637535      6.121067  115199.014508   \n",
       "min         1.000000   1908.000000      0.000000      3.000000       0.000000   \n",
       "25%      5000.000000   2007.000000      2.000000      4.000000   75668.000000   \n",
       "50%      9000.000000   2011.000000      3.000000      6.000000  110908.000000   \n",
       "75%     16839.000000   2014.000000      3.000000      8.000000  147821.000000   \n",
       "max    375000.000000   2019.000000      5.000000     12.000000  990000.000000   \n",
       "std     10040.803015      6.099381      0.712447      1.657457   60484.863376   \n",
       "\n",
       "                         date_posted  days_listed    day_posted  month_posted  \\\n",
       "count                          51525  51525.00000  51525.000000  51525.000000   \n",
       "mean   2018-10-25 01:57:46.270742528     39.55476     15.449491      6.628491   \n",
       "min              2018-05-01 00:00:00      0.00000      1.000000      1.000000   \n",
       "25%              2018-07-29 00:00:00     19.00000      8.000000      3.000000   \n",
       "50%              2018-10-25 00:00:00     33.00000     15.000000      7.000000   \n",
       "75%              2019-01-21 00:00:00     53.00000     23.000000     10.000000   \n",
       "max              2019-04-19 00:00:00    271.00000     31.000000     12.000000   \n",
       "std                              NaN     28.20427      8.736521      3.474134   \n",
       "\n",
       "        year_posted           age  odometer_annual  \n",
       "count  51525.000000  51525.000000     51525.000000  \n",
       "mean    2018.307462      8.555672     18930.822069  \n",
       "min     2018.000000      1.000000         0.000000  \n",
       "25%     2018.000000      4.000000     10423.000000  \n",
       "50%     2018.000000      8.000000     14982.500000  \n",
       "75%     2019.000000     12.000000     21800.000000  \n",
       "max     2019.000000    110.000000    373200.000000  \n",
       "std        0.461447      6.057829     16268.514686  "
      ]
     },
     "execution_count": 62,
     "metadata": {},
     "output_type": "execute_result"
    }
   ],
   "source": [
    "# contains a statistical description of the original data\n",
    "car_ads.describe()"
   ]
  },
  {
   "cell_type": "code",
   "execution_count": 63,
   "metadata": {
    "colab": {
     "base_uri": "https://localhost:8080/",
     "height": 364
    },
    "id": "07T-l8jj0R1j",
    "outputId": "78ee11df-a721-4a4e-d4d2-fdf92e399c80",
    "scrolled": true
   },
   "outputs": [
    {
     "data": {
      "text/html": [
       "<div>\n",
       "<style scoped>\n",
       "    .dataframe tbody tr th:only-of-type {\n",
       "        vertical-align: middle;\n",
       "    }\n",
       "\n",
       "    .dataframe tbody tr th {\n",
       "        vertical-align: top;\n",
       "    }\n",
       "\n",
       "    .dataframe thead th {\n",
       "        text-align: right;\n",
       "    }\n",
       "</style>\n",
       "<table border=\"1\" class=\"dataframe\">\n",
       "  <thead>\n",
       "    <tr style=\"text-align: right;\">\n",
       "      <th></th>\n",
       "      <th>price</th>\n",
       "      <th>model_year</th>\n",
       "      <th>condition</th>\n",
       "      <th>cylinders</th>\n",
       "      <th>odometer</th>\n",
       "      <th>date_posted</th>\n",
       "      <th>days_listed</th>\n",
       "      <th>day_posted</th>\n",
       "      <th>month_posted</th>\n",
       "      <th>year_posted</th>\n",
       "      <th>age</th>\n",
       "      <th>odometer_annual</th>\n",
       "    </tr>\n",
       "  </thead>\n",
       "  <tbody>\n",
       "    <tr>\n",
       "      <th>count</th>\n",
       "      <td>47911.000000</td>\n",
       "      <td>47911.000000</td>\n",
       "      <td>47911.000000</td>\n",
       "      <td>47911.000000</td>\n",
       "      <td>47911.000000</td>\n",
       "      <td>47911</td>\n",
       "      <td>47911.000000</td>\n",
       "      <td>47911.000000</td>\n",
       "      <td>47911.000000</td>\n",
       "      <td>47911.000000</td>\n",
       "      <td>47911.000000</td>\n",
       "      <td>47911.000000</td>\n",
       "    </tr>\n",
       "    <tr>\n",
       "      <th>mean</th>\n",
       "      <td>11273.531047</td>\n",
       "      <td>2010.141095</td>\n",
       "      <td>2.639060</td>\n",
       "      <td>6.051011</td>\n",
       "      <td>113819.105080</td>\n",
       "      <td>2018-10-24 21:18:16.207551488</td>\n",
       "      <td>39.539250</td>\n",
       "      <td>15.454843</td>\n",
       "      <td>6.632694</td>\n",
       "      <td>2018.306568</td>\n",
       "      <td>8.198451</td>\n",
       "      <td>18798.411014</td>\n",
       "    </tr>\n",
       "    <tr>\n",
       "      <th>min</th>\n",
       "      <td>1.000000</td>\n",
       "      <td>1995.000000</td>\n",
       "      <td>0.000000</td>\n",
       "      <td>3.000000</td>\n",
       "      <td>1.000000</td>\n",
       "      <td>2018-05-01 00:00:00</td>\n",
       "      <td>0.000000</td>\n",
       "      <td>1.000000</td>\n",
       "      <td>1.000000</td>\n",
       "      <td>2018.000000</td>\n",
       "      <td>1.000000</td>\n",
       "      <td>0.052632</td>\n",
       "    </tr>\n",
       "    <tr>\n",
       "      <th>25%</th>\n",
       "      <td>5000.000000</td>\n",
       "      <td>2007.000000</td>\n",
       "      <td>2.000000</td>\n",
       "      <td>4.000000</td>\n",
       "      <td>79000.000000</td>\n",
       "      <td>2018-07-29 00:00:00</td>\n",
       "      <td>19.000000</td>\n",
       "      <td>8.000000</td>\n",
       "      <td>3.000000</td>\n",
       "      <td>2018.000000</td>\n",
       "      <td>4.000000</td>\n",
       "      <td>10596.750000</td>\n",
       "    </tr>\n",
       "    <tr>\n",
       "      <th>50%</th>\n",
       "      <td>8995.000000</td>\n",
       "      <td>2011.000000</td>\n",
       "      <td>3.000000</td>\n",
       "      <td>6.000000</td>\n",
       "      <td>112000.000000</td>\n",
       "      <td>2018-10-24 00:00:00</td>\n",
       "      <td>33.000000</td>\n",
       "      <td>15.000000</td>\n",
       "      <td>7.000000</td>\n",
       "      <td>2018.000000</td>\n",
       "      <td>7.000000</td>\n",
       "      <td>14928.461538</td>\n",
       "    </tr>\n",
       "    <tr>\n",
       "      <th>75%</th>\n",
       "      <td>15995.000000</td>\n",
       "      <td>2014.000000</td>\n",
       "      <td>3.000000</td>\n",
       "      <td>8.000000</td>\n",
       "      <td>146000.000000</td>\n",
       "      <td>2019-01-21 00:00:00</td>\n",
       "      <td>53.000000</td>\n",
       "      <td>23.000000</td>\n",
       "      <td>10.000000</td>\n",
       "      <td>2019.000000</td>\n",
       "      <td>11.000000</td>\n",
       "      <td>21584.125000</td>\n",
       "    </tr>\n",
       "    <tr>\n",
       "      <th>max</th>\n",
       "      <td>34595.000000</td>\n",
       "      <td>2019.000000</td>\n",
       "      <td>5.000000</td>\n",
       "      <td>12.000000</td>\n",
       "      <td>253000.000000</td>\n",
       "      <td>2019-04-19 00:00:00</td>\n",
       "      <td>271.000000</td>\n",
       "      <td>31.000000</td>\n",
       "      <td>12.000000</td>\n",
       "      <td>2019.000000</td>\n",
       "      <td>23.000000</td>\n",
       "      <td>195700.000000</td>\n",
       "    </tr>\n",
       "    <tr>\n",
       "      <th>std</th>\n",
       "      <td>7836.391772</td>\n",
       "      <td>4.965727</td>\n",
       "      <td>0.697721</td>\n",
       "      <td>1.656933</td>\n",
       "      <td>52531.716484</td>\n",
       "      <td>NaN</td>\n",
       "      <td>28.207371</td>\n",
       "      <td>8.740585</td>\n",
       "      <td>3.472197</td>\n",
       "      <td>0.461073</td>\n",
       "      <td>4.927496</td>\n",
       "      <td>15395.192234</td>\n",
       "    </tr>\n",
       "  </tbody>\n",
       "</table>\n",
       "</div>"
      ],
      "text/plain": [
       "              price    model_year     condition     cylinders       odometer  \\\n",
       "count  47911.000000  47911.000000  47911.000000  47911.000000   47911.000000   \n",
       "mean   11273.531047   2010.141095      2.639060      6.051011  113819.105080   \n",
       "min        1.000000   1995.000000      0.000000      3.000000       1.000000   \n",
       "25%     5000.000000   2007.000000      2.000000      4.000000   79000.000000   \n",
       "50%     8995.000000   2011.000000      3.000000      6.000000  112000.000000   \n",
       "75%    15995.000000   2014.000000      3.000000      8.000000  146000.000000   \n",
       "max    34595.000000   2019.000000      5.000000     12.000000  253000.000000   \n",
       "std     7836.391772      4.965727      0.697721      1.656933   52531.716484   \n",
       "\n",
       "                         date_posted   days_listed    day_posted  \\\n",
       "count                          47911  47911.000000  47911.000000   \n",
       "mean   2018-10-24 21:18:16.207551488     39.539250     15.454843   \n",
       "min              2018-05-01 00:00:00      0.000000      1.000000   \n",
       "25%              2018-07-29 00:00:00     19.000000      8.000000   \n",
       "50%              2018-10-24 00:00:00     33.000000     15.000000   \n",
       "75%              2019-01-21 00:00:00     53.000000     23.000000   \n",
       "max              2019-04-19 00:00:00    271.000000     31.000000   \n",
       "std                              NaN     28.207371      8.740585   \n",
       "\n",
       "       month_posted   year_posted           age  odometer_annual  \n",
       "count  47911.000000  47911.000000  47911.000000     47911.000000  \n",
       "mean       6.632694   2018.306568      8.198451     18798.411014  \n",
       "min        1.000000   2018.000000      1.000000         0.052632  \n",
       "25%        3.000000   2018.000000      4.000000     10596.750000  \n",
       "50%        7.000000   2018.000000      7.000000     14928.461538  \n",
       "75%       10.000000   2019.000000     11.000000     21584.125000  \n",
       "max       12.000000   2019.000000     23.000000    195700.000000  \n",
       "std        3.472197      0.461073      4.927496     15395.192234  "
      ]
     },
     "execution_count": 63,
     "metadata": {},
     "output_type": "execute_result"
    }
   ],
   "source": [
    "# contains a statistical description after the data has been filtered for outliers\n",
    "car_ads_clean.describe()"
   ]
  },
  {
   "cell_type": "code",
   "execution_count": 64,
   "metadata": {
    "colab": {
     "base_uri": "https://localhost:8080/"
    },
    "id": "CeMbjj6m0R1k",
    "outputId": "d0305bc8-b2e5-427a-faa0-413a8a558a6b",
    "scrolled": true
   },
   "outputs": [
    {
     "name": "stdout",
     "output_type": "stream",
     "text": [
      "<class 'pandas.core.frame.DataFrame'>\n",
      "Index: 47911 entries, 0 to 51524\n",
      "Data columns (total 20 columns):\n",
      " #   Column             Non-Null Count  Dtype         \n",
      "---  ------             --------------  -----         \n",
      " 0   price              47911 non-null  int64         \n",
      " 1   model_year         47911 non-null  int32         \n",
      " 2   model              47911 non-null  object        \n",
      " 3   condition          47911 non-null  int64         \n",
      " 4   cylinders          47911 non-null  int32         \n",
      " 5   fuel               47911 non-null  object        \n",
      " 6   odometer           47911 non-null  float64       \n",
      " 7   transmission       47911 non-null  object        \n",
      " 8   type               47911 non-null  object        \n",
      " 9   paint_color        47911 non-null  object        \n",
      " 10  is_4wd             47911 non-null  bool          \n",
      " 11  date_posted        47911 non-null  datetime64[ns]\n",
      " 12  days_listed        47911 non-null  int64         \n",
      " 13  day_name_posted    47911 non-null  object        \n",
      " 14  day_posted         47911 non-null  int32         \n",
      " 15  month_posted       47911 non-null  int32         \n",
      " 16  month_name_posted  47911 non-null  object        \n",
      " 17  year_posted        47911 non-null  int32         \n",
      " 18  age                47911 non-null  int32         \n",
      " 19  odometer_annual    47911 non-null  float64       \n",
      "dtypes: bool(1), datetime64[ns](1), float64(2), int32(6), int64(3), object(7)\n",
      "memory usage: 6.3+ MB\n"
     ]
    }
   ],
   "source": [
    "# load data info after outlier filter\n",
    "car_ads_clean.info()"
   ]
  },
  {
   "cell_type": "code",
   "execution_count": 65,
   "metadata": {
    "colab": {
     "base_uri": "https://localhost:8080/",
     "height": 858
    },
    "id": "5w0UEH1B0R1k",
    "outputId": "921a8dfd-1769-4c45-d78b-3673e0919670"
   },
   "outputs": [],
   "source": [
    "# load boxplots for each parameter using the create_boxplot function\n",
    "create_boxplot(car_ads_clean, parameters)"
   ]
  },
  {
   "cell_type": "code",
   "execution_count": 66,
   "metadata": {
    "colab": {
     "base_uri": "https://localhost:8080/",
     "height": 319
    },
    "id": "L9uSqRA90R1k",
    "outputId": "54293c52-99f9-418a-a984-08be45fab352"
   },
   "outputs": [],
   "source": [
    "# load histograms for parameters: price, age, mileage\n",
    "create_histplot(car_ads_clean, parameter_numeric)"
   ]
  },
  {
   "cell_type": "code",
   "execution_count": 67,
   "metadata": {
    "colab": {
     "base_uri": "https://localhost:8080/",
     "height": 301
    },
    "id": "idTaYLEx0R1m",
    "outputId": "3a4e3911-f810-40f8-a9d3-a149d7cea21f"
   },
   "outputs": [],
   "source": [
    "# load countplot for parameters: cylinder and condition\n",
    "create_countplot(car_ads_clean, parameter_category)"
   ]
  },
  {
   "cell_type": "markdown",
   "metadata": {
    "id": "FNUD1I580R1m"
   },
   "source": [
    "After filtering outliers on the price, age, and odometer parameters, the amount and distribution of data changes. The mean, median, Q1 and Q3 have shifted.\r\n",
    "\r\n",
    "From the boxplot, it can be seen that the price, age and odometer parameters now have fewer outliers."
   ]
  },
  {
   "cell_type": "markdown",
   "metadata": {
    "id": "bHyoMy7n0R1n"
   },
   "source": [
    "## 6.7 Ad Validity Time\n",
    "Next, learn how many days ads are generally displayed (`days_listed`)"
   ]
  },
  {
   "cell_type": "code",
   "execution_count": 68,
   "metadata": {
    "colab": {
     "base_uri": "https://localhost:8080/"
    },
    "id": "-dyDpZpa0R1n",
    "outputId": "3296fea4-313d-460d-857a-5e50acf64da9"
   },
   "outputs": [
    {
     "data": {
      "text/plain": [
       "count    47911.000000\n",
       "mean        39.539250\n",
       "std         28.207371\n",
       "min          0.000000\n",
       "25%         19.000000\n",
       "50%         33.000000\n",
       "75%         53.000000\n",
       "max        271.000000\n",
       "Name: days_listed, dtype: float64"
      ]
     },
     "execution_count": 68,
     "metadata": {},
     "output_type": "execute_result"
    }
   ],
   "source": [
    "# contains a statistical description of the length of time the ad is displayed\n",
    "car_ads_clean['days_listed'].describe()"
   ]
  },
  {
   "cell_type": "code",
   "execution_count": 72,
   "metadata": {
    "colab": {
     "base_uri": "https://localhost:8080/",
     "height": 298
    },
    "id": "wU7vsIL80R1n",
    "outputId": "4769f778-d70d-4544-c4e6-1d888c7af428",
    "scrolled": true
   },
   "outputs": [
    {
     "data": {
      "text/plain": [
       "<Axes: title={'center': 'condition distribution'}, xlabel='condition', ylabel='count'>"
      ]
     },
     "execution_count": 72,
     "metadata": {},
     "output_type": "execute_result"
    }
   ],
   "source": [
    "# load the boxplot for the length of the day the ad was shown\n",
    "sns.boxplot(car_ads_clean['days_listed'])"
   ]
  },
  {
   "cell_type": "markdown",
   "metadata": {
    "id": "hWfz9g1q0R1n"
   },
   "source": [
    "Generally ads run for around 33 to 40 days. Ads go down as soon as the same day they are aired, and as late as 271 days."
   ]
  },
  {
   "cell_type": "markdown",
   "metadata": {
    "id": "M3oz9bqt0R1o"
   },
   "source": [
    "## 6.8 Average Price of Each Type of Vehicle"
   ]
  },
  {
   "cell_type": "markdown",
   "metadata": {
    "id": "2aMiUeJ_0R1o"
   },
   "source": [
    "Next, analyze the number of advertisements and the average price for each type of vehicle. A graph showing the dependence of the number of advertisements on the type of vehicle will be created."
   ]
  },
  {
   "cell_type": "code",
   "execution_count": 77,
   "metadata": {
    "colab": {
     "base_uri": "https://localhost:8080/",
     "height": 520
    },
    "id": "dzyTdnk90R1o",
    "outputId": "648745d9-83b6-4eef-c545-8e17cb4a0d23"
   },
   "outputs": [
    {
     "data": {
      "text/html": [
       "<div>\n",
       "<style scoped>\n",
       "    .dataframe tbody tr th:only-of-type {\n",
       "        vertical-align: middle;\n",
       "    }\n",
       "\n",
       "    .dataframe tbody tr th {\n",
       "        vertical-align: top;\n",
       "    }\n",
       "\n",
       "    .dataframe thead th {\n",
       "        text-align: right;\n",
       "    }\n",
       "</style>\n",
       "<table border=\"1\" class=\"dataframe\">\n",
       "  <thead>\n",
       "    <tr style=\"text-align: right;\">\n",
       "      <th></th>\n",
       "      <th>model</th>\n",
       "      <th>price</th>\n",
       "    </tr>\n",
       "    <tr>\n",
       "      <th>type</th>\n",
       "      <th></th>\n",
       "      <th></th>\n",
       "    </tr>\n",
       "  </thead>\n",
       "  <tbody>\n",
       "    <tr>\n",
       "      <th>SUV</th>\n",
       "      <td>11823</td>\n",
       "      <td>10487.598410</td>\n",
       "    </tr>\n",
       "    <tr>\n",
       "      <th>bus</th>\n",
       "      <td>21</td>\n",
       "      <td>18107.428571</td>\n",
       "    </tr>\n",
       "    <tr>\n",
       "      <th>convertible</th>\n",
       "      <td>341</td>\n",
       "      <td>13046.598240</td>\n",
       "    </tr>\n",
       "    <tr>\n",
       "      <th>coupe</th>\n",
       "      <td>2004</td>\n",
       "      <td>13565.540419</td>\n",
       "    </tr>\n",
       "    <tr>\n",
       "      <th>hatchback</th>\n",
       "      <td>1000</td>\n",
       "      <td>6828.041000</td>\n",
       "    </tr>\n",
       "    <tr>\n",
       "      <th>mini-van</th>\n",
       "      <td>1141</td>\n",
       "      <td>8072.185802</td>\n",
       "    </tr>\n",
       "    <tr>\n",
       "      <th>offroad</th>\n",
       "      <td>182</td>\n",
       "      <td>14344.049451</td>\n",
       "    </tr>\n",
       "    <tr>\n",
       "      <th>other</th>\n",
       "      <td>229</td>\n",
       "      <td>10602.698690</td>\n",
       "    </tr>\n",
       "    <tr>\n",
       "      <th>pickup</th>\n",
       "      <td>6221</td>\n",
       "      <td>15155.138724</td>\n",
       "    </tr>\n",
       "    <tr>\n",
       "      <th>sedan</th>\n",
       "      <td>11922</td>\n",
       "      <td>6987.910753</td>\n",
       "    </tr>\n",
       "    <tr>\n",
       "      <th>truck</th>\n",
       "      <td>10978</td>\n",
       "      <td>15216.104573</td>\n",
       "    </tr>\n",
       "    <tr>\n",
       "      <th>van</th>\n",
       "      <td>575</td>\n",
       "      <td>8892.730435</td>\n",
       "    </tr>\n",
       "    <tr>\n",
       "      <th>wagon</th>\n",
       "      <td>1474</td>\n",
       "      <td>9019.019674</td>\n",
       "    </tr>\n",
       "  </tbody>\n",
       "</table>\n",
       "</div>"
      ],
      "text/plain": [
       "             model         price\n",
       "type                            \n",
       "SUV          11823  10487.598410\n",
       "bus             21  18107.428571\n",
       "convertible    341  13046.598240\n",
       "coupe         2004  13565.540419\n",
       "hatchback     1000   6828.041000\n",
       "mini-van      1141   8072.185802\n",
       "offroad        182  14344.049451\n",
       "other          229  10602.698690\n",
       "pickup        6221  15155.138724\n",
       "sedan        11922   6987.910753\n",
       "truck        10978  15216.104573\n",
       "van            575   8892.730435\n",
       "wagon         1474   9019.019674"
      ]
     },
     "execution_count": 77,
     "metadata": {},
     "output_type": "execute_result"
    }
   ],
   "source": [
    "# contains pivot data on the number of advertisements and average prices based on car type\n",
    "#car_ads_type = car_ads_clean.pivot_table(index='type', values=['model','price'], aggfunc = ['mean', 'count']) thats an error\n",
    "car_ads_type = car_ads_clean.pivot_table(index='type', values=['model','price'], aggfunc={'model': 'count', 'price': 'mean'})\n",
    "\n",
    "\n",
    "car_ads_type"
   ]
  },
  {
   "cell_type": "code",
   "execution_count": 81,
   "metadata": {
    "colab": {
     "base_uri": "https://localhost:8080/",
     "height": 489
    },
    "id": "oqW72nlK0R1o",
    "outputId": "bf5cd197-211e-4d78-9bb5-688927119333",
    "scrolled": true
   },
   "outputs": [
    {
     "data": {
      "text/html": [
       "<div>\n",
       "<style scoped>\n",
       "    .dataframe tbody tr th:only-of-type {\n",
       "        vertical-align: middle;\n",
       "    }\n",
       "\n",
       "    .dataframe tbody tr th {\n",
       "        vertical-align: top;\n",
       "    }\n",
       "\n",
       "    .dataframe thead th {\n",
       "        text-align: right;\n",
       "    }\n",
       "</style>\n",
       "<table border=\"1\" class=\"dataframe\">\n",
       "  <thead>\n",
       "    <tr style=\"text-align: right;\">\n",
       "      <th></th>\n",
       "      <th>price_avg</th>\n",
       "      <th>ads_count</th>\n",
       "    </tr>\n",
       "    <tr>\n",
       "      <th>type</th>\n",
       "      <th></th>\n",
       "      <th></th>\n",
       "    </tr>\n",
       "  </thead>\n",
       "  <tbody>\n",
       "    <tr>\n",
       "      <th>SUV</th>\n",
       "      <td>11823</td>\n",
       "      <td>10487.598410</td>\n",
       "    </tr>\n",
       "    <tr>\n",
       "      <th>bus</th>\n",
       "      <td>21</td>\n",
       "      <td>18107.428571</td>\n",
       "    </tr>\n",
       "    <tr>\n",
       "      <th>convertible</th>\n",
       "      <td>341</td>\n",
       "      <td>13046.598240</td>\n",
       "    </tr>\n",
       "    <tr>\n",
       "      <th>coupe</th>\n",
       "      <td>2004</td>\n",
       "      <td>13565.540419</td>\n",
       "    </tr>\n",
       "    <tr>\n",
       "      <th>hatchback</th>\n",
       "      <td>1000</td>\n",
       "      <td>6828.041000</td>\n",
       "    </tr>\n",
       "    <tr>\n",
       "      <th>mini-van</th>\n",
       "      <td>1141</td>\n",
       "      <td>8072.185802</td>\n",
       "    </tr>\n",
       "    <tr>\n",
       "      <th>offroad</th>\n",
       "      <td>182</td>\n",
       "      <td>14344.049451</td>\n",
       "    </tr>\n",
       "    <tr>\n",
       "      <th>other</th>\n",
       "      <td>229</td>\n",
       "      <td>10602.698690</td>\n",
       "    </tr>\n",
       "    <tr>\n",
       "      <th>pickup</th>\n",
       "      <td>6221</td>\n",
       "      <td>15155.138724</td>\n",
       "    </tr>\n",
       "    <tr>\n",
       "      <th>sedan</th>\n",
       "      <td>11922</td>\n",
       "      <td>6987.910753</td>\n",
       "    </tr>\n",
       "    <tr>\n",
       "      <th>truck</th>\n",
       "      <td>10978</td>\n",
       "      <td>15216.104573</td>\n",
       "    </tr>\n",
       "    <tr>\n",
       "      <th>van</th>\n",
       "      <td>575</td>\n",
       "      <td>8892.730435</td>\n",
       "    </tr>\n",
       "    <tr>\n",
       "      <th>wagon</th>\n",
       "      <td>1474</td>\n",
       "      <td>9019.019674</td>\n",
       "    </tr>\n",
       "  </tbody>\n",
       "</table>\n",
       "</div>"
      ],
      "text/plain": [
       "             price_avg     ads_count\n",
       "type                                \n",
       "SUV              11823  10487.598410\n",
       "bus                 21  18107.428571\n",
       "convertible        341  13046.598240\n",
       "coupe             2004  13565.540419\n",
       "hatchback         1000   6828.041000\n",
       "mini-van          1141   8072.185802\n",
       "offroad            182  14344.049451\n",
       "other              229  10602.698690\n",
       "pickup            6221  15155.138724\n",
       "sedan            11922   6987.910753\n",
       "truck            10978  15216.104573\n",
       "van                575   8892.730435\n",
       "wagon             1474   9019.019674"
      ]
     },
     "execution_count": 81,
     "metadata": {},
     "output_type": "execute_result"
    }
   ],
   "source": [
    "# change the name of the pivot table result column\n",
    "#car_ads_type.columns = ('price_avg', 'ads_count', 'price_count') thats an error\n",
    "car_ads_type.columns = ['price_avg', 'ads_count']\n",
    "car_ads_type"
   ]
  },
  {
   "cell_type": "code",
   "execution_count": 82,
   "metadata": {
    "colab": {
     "base_uri": "https://localhost:8080/",
     "height": 457
    },
    "id": "uGFYa-j50R1q",
    "outputId": "074d81f0-f651-47c9-bb4a-68686036f536",
    "scrolled": true
   },
   "outputs": [
    {
     "data": {
      "text/html": [
       "<div>\n",
       "<style scoped>\n",
       "    .dataframe tbody tr th:only-of-type {\n",
       "        vertical-align: middle;\n",
       "    }\n",
       "\n",
       "    .dataframe tbody tr th {\n",
       "        vertical-align: top;\n",
       "    }\n",
       "\n",
       "    .dataframe thead th {\n",
       "        text-align: right;\n",
       "    }\n",
       "</style>\n",
       "<table border=\"1\" class=\"dataframe\">\n",
       "  <thead>\n",
       "    <tr style=\"text-align: right;\">\n",
       "      <th></th>\n",
       "      <th>type</th>\n",
       "      <th>ads_count</th>\n",
       "      <th>price_avg</th>\n",
       "    </tr>\n",
       "  </thead>\n",
       "  <tbody>\n",
       "    <tr>\n",
       "      <th>0</th>\n",
       "      <td>bus</td>\n",
       "      <td>18107.428571</td>\n",
       "      <td>21</td>\n",
       "    </tr>\n",
       "    <tr>\n",
       "      <th>1</th>\n",
       "      <td>truck</td>\n",
       "      <td>15216.104573</td>\n",
       "      <td>10978</td>\n",
       "    </tr>\n",
       "    <tr>\n",
       "      <th>2</th>\n",
       "      <td>pickup</td>\n",
       "      <td>15155.138724</td>\n",
       "      <td>6221</td>\n",
       "    </tr>\n",
       "    <tr>\n",
       "      <th>3</th>\n",
       "      <td>offroad</td>\n",
       "      <td>14344.049451</td>\n",
       "      <td>182</td>\n",
       "    </tr>\n",
       "    <tr>\n",
       "      <th>4</th>\n",
       "      <td>coupe</td>\n",
       "      <td>13565.540419</td>\n",
       "      <td>2004</td>\n",
       "    </tr>\n",
       "    <tr>\n",
       "      <th>5</th>\n",
       "      <td>convertible</td>\n",
       "      <td>13046.598240</td>\n",
       "      <td>341</td>\n",
       "    </tr>\n",
       "    <tr>\n",
       "      <th>6</th>\n",
       "      <td>other</td>\n",
       "      <td>10602.698690</td>\n",
       "      <td>229</td>\n",
       "    </tr>\n",
       "    <tr>\n",
       "      <th>7</th>\n",
       "      <td>SUV</td>\n",
       "      <td>10487.598410</td>\n",
       "      <td>11823</td>\n",
       "    </tr>\n",
       "    <tr>\n",
       "      <th>8</th>\n",
       "      <td>wagon</td>\n",
       "      <td>9019.019674</td>\n",
       "      <td>1474</td>\n",
       "    </tr>\n",
       "    <tr>\n",
       "      <th>9</th>\n",
       "      <td>van</td>\n",
       "      <td>8892.730435</td>\n",
       "      <td>575</td>\n",
       "    </tr>\n",
       "    <tr>\n",
       "      <th>10</th>\n",
       "      <td>mini-van</td>\n",
       "      <td>8072.185802</td>\n",
       "      <td>1141</td>\n",
       "    </tr>\n",
       "    <tr>\n",
       "      <th>11</th>\n",
       "      <td>sedan</td>\n",
       "      <td>6987.910753</td>\n",
       "      <td>11922</td>\n",
       "    </tr>\n",
       "    <tr>\n",
       "      <th>12</th>\n",
       "      <td>hatchback</td>\n",
       "      <td>6828.041000</td>\n",
       "      <td>1000</td>\n",
       "    </tr>\n",
       "  </tbody>\n",
       "</table>\n",
       "</div>"
      ],
      "text/plain": [
       "           type     ads_count  price_avg\n",
       "0           bus  18107.428571         21\n",
       "1         truck  15216.104573      10978\n",
       "2        pickup  15155.138724       6221\n",
       "3       offroad  14344.049451        182\n",
       "4         coupe  13565.540419       2004\n",
       "5   convertible  13046.598240        341\n",
       "6         other  10602.698690        229\n",
       "7           SUV  10487.598410      11823\n",
       "8         wagon   9019.019674       1474\n",
       "9           van   8892.730435        575\n",
       "10     mini-van   8072.185802       1141\n",
       "11        sedan   6987.910753      11922\n",
       "12    hatchback   6828.041000       1000"
      ]
     },
     "execution_count": 82,
     "metadata": {},
     "output_type": "execute_result"
    }
   ],
   "source": [
    "# stores data on the number of advertisements and average prices based on car type\n",
    "car_ads_type = car_ads_type[['ads_count', 'price_avg']].sort_values('ads_count', ascending=False).reset_index()\n",
    "car_ads_type\n"
   ]
  },
  {
   "cell_type": "code",
   "execution_count": 83,
   "metadata": {
    "colab": {
     "base_uri": "https://localhost:8080/",
     "height": 359
    },
    "id": "JGdsvQ080R1q",
    "outputId": "4d1a7b39-5829-4e1e-ae06-9c9a947be157"
   },
   "outputs": [
    {
     "data": {
      "text/plain": [
       "([0, 1, 2, 3, 4, 5, 6, 7, 8, 9, 10, 11, 12],\n",
       " [Text(0, 0, 'bus'),\n",
       "  Text(1, 0, 'truck'),\n",
       "  Text(2, 0, 'pickup'),\n",
       "  Text(3, 0, 'offroad'),\n",
       "  Text(4, 0, 'coupe'),\n",
       "  Text(5, 0, 'convertible'),\n",
       "  Text(6, 0, 'other'),\n",
       "  Text(7, 0, 'SUV'),\n",
       "  Text(8, 0, 'wagon'),\n",
       "  Text(9, 0, 'van'),\n",
       "  Text(10, 0, 'mini-van'),\n",
       "  Text(11, 0, 'sedan'),\n",
       "  Text(12, 0, 'hatchback')])"
      ]
     },
     "execution_count": 83,
     "metadata": {},
     "output_type": "execute_result"
    }
   ],
   "source": [
    "# load scatter plot shows the relationship between the number of advertisements and the type of vehicle\n",
    "car_ads_type.plot(x='type', y='ads_count', kind='scatter')\n",
    "plt.xticks(rotation = 60)"
   ]
  },
  {
   "cell_type": "code",
   "execution_count": 84,
   "metadata": {
    "colab": {
     "base_uri": "https://localhost:8080/",
     "height": 410
    },
    "id": "VVoNSsB50R1q",
    "outputId": "9db794ed-5e1f-49d7-e371-020a1a46aa5a"
   },
   "outputs": [
    {
     "data": {
      "text/plain": [
       "(array([ 0,  1,  2,  3,  4,  5,  6,  7,  8,  9, 10, 11, 12]),\n",
       " [Text(0, 0, '0'),\n",
       "  Text(1, 0, '1'),\n",
       "  Text(2, 0, '2'),\n",
       "  Text(3, 0, '3'),\n",
       "  Text(4, 0, '4'),\n",
       "  Text(5, 0, '5'),\n",
       "  Text(6, 0, '6'),\n",
       "  Text(7, 0, '7'),\n",
       "  Text(8, 0, '8'),\n",
       "  Text(9, 0, '9'),\n",
       "  Text(10, 0, '10'),\n",
       "  Text(11, 0, '11'),\n",
       "  Text(12, 0, '12')])"
      ]
     },
     "execution_count": 84,
     "metadata": {},
     "output_type": "execute_result"
    }
   ],
   "source": [
    "# load a bar chart to show the relationship between the number of advertisements and the average price\n",
    "car_ads_type.plot(kind='bar', grid=True, figsize=(12,6))\n",
    "plt.ylabel\n",
    "plt.xticks(rotation = 0)"
   ]
  },
  {
   "cell_type": "markdown",
   "metadata": {
    "id": "ZxbKTCch0R1q"
   },
   "source": [
    "The most frequently advertised vehicle types are sedans and SUVs. The least is buses.\r\n",
    "\r\n",
    "On the other hand, the highest price is for buses, followed by pickups."
   ]
  },
  {
   "cell_type": "markdown",
   "metadata": {
    "id": "xLC5muZ30R1r"
   },
   "source": [
    "## 6.9 Price Factor"
   ]
  },
  {
   "cell_type": "markdown",
   "metadata": {
    "id": "_PxF-Lrk0R1r"
   },
   "source": [
    "This stage will be analyzed to answer the factors that most influence vehicle prices.\r\n",
    "\r\n",
    "The two most popular types of vehicles found in the previous stage will be studied. Test to see if price depends on:\r\n",
    "1. Age\r\n",
    "2. Mileage\r\n",
    "3. Condition\r\n",
    "4. Transmission type\r\n",
    "5. Color.\r\n",
    "\r\n",
    "Graphs will be created, namely *boxplot* for categorical variables (transmission type and color), and *scatterplot* for the rest.\r\n",
    "\r\n",
    "In categorical variable analysis, only categories that have at least as many as Q3, or 50 ads will be included. Otherwise, the parameters are not considered valid for use during analysis."
   ]
  },
  {
   "cell_type": "markdown",
   "metadata": {
    "id": "aU8J7W200R1s"
   },
   "source": [
    "Correlation matrix and correlation plot. First, EDA was carried out for the sedan type"
   ]
  },
  {
   "cell_type": "code",
   "execution_count": 85,
   "metadata": {
    "colab": {
     "base_uri": "https://localhost:8080/",
     "height": 357
    },
    "id": "kc4u4UvU0R1s",
    "outputId": "2652c5db-54cc-4a40-f60d-20b6fbe930c8"
   },
   "outputs": [
    {
     "data": {
      "text/html": [
       "<div>\n",
       "<style scoped>\n",
       "    .dataframe tbody tr th:only-of-type {\n",
       "        vertical-align: middle;\n",
       "    }\n",
       "\n",
       "    .dataframe tbody tr th {\n",
       "        vertical-align: top;\n",
       "    }\n",
       "\n",
       "    .dataframe thead th {\n",
       "        text-align: right;\n",
       "    }\n",
       "</style>\n",
       "<table border=\"1\" class=\"dataframe\">\n",
       "  <thead>\n",
       "    <tr style=\"text-align: right;\">\n",
       "      <th></th>\n",
       "      <th>price</th>\n",
       "      <th>model_year</th>\n",
       "      <th>model</th>\n",
       "      <th>condition</th>\n",
       "      <th>cylinders</th>\n",
       "      <th>fuel</th>\n",
       "      <th>odometer</th>\n",
       "      <th>transmission</th>\n",
       "      <th>type</th>\n",
       "      <th>paint_color</th>\n",
       "      <th>is_4wd</th>\n",
       "      <th>date_posted</th>\n",
       "      <th>days_listed</th>\n",
       "      <th>day_name_posted</th>\n",
       "      <th>day_posted</th>\n",
       "      <th>month_posted</th>\n",
       "      <th>month_name_posted</th>\n",
       "      <th>year_posted</th>\n",
       "      <th>age</th>\n",
       "      <th>odometer_annual</th>\n",
       "    </tr>\n",
       "  </thead>\n",
       "  <tbody>\n",
       "    <tr>\n",
       "      <th>0</th>\n",
       "      <td>5500</td>\n",
       "      <td>2013</td>\n",
       "      <td>hyundai sonata</td>\n",
       "      <td>4</td>\n",
       "      <td>4</td>\n",
       "      <td>gas</td>\n",
       "      <td>110000.0</td>\n",
       "      <td>automatic</td>\n",
       "      <td>sedan</td>\n",
       "      <td>red</td>\n",
       "      <td>False</td>\n",
       "      <td>2019-02-07</td>\n",
       "      <td>79</td>\n",
       "      <td>Thursday</td>\n",
       "      <td>7</td>\n",
       "      <td>2</td>\n",
       "      <td>February</td>\n",
       "      <td>2019</td>\n",
       "      <td>6</td>\n",
       "      <td>18333.333333</td>\n",
       "    </tr>\n",
       "    <tr>\n",
       "      <th>1</th>\n",
       "      <td>14900</td>\n",
       "      <td>2017</td>\n",
       "      <td>chrysler 200</td>\n",
       "      <td>3</td>\n",
       "      <td>4</td>\n",
       "      <td>gas</td>\n",
       "      <td>80903.0</td>\n",
       "      <td>automatic</td>\n",
       "      <td>sedan</td>\n",
       "      <td>black</td>\n",
       "      <td>False</td>\n",
       "      <td>2019-04-02</td>\n",
       "      <td>28</td>\n",
       "      <td>Tuesday</td>\n",
       "      <td>2</td>\n",
       "      <td>4</td>\n",
       "      <td>April</td>\n",
       "      <td>2019</td>\n",
       "      <td>2</td>\n",
       "      <td>40451.500000</td>\n",
       "    </tr>\n",
       "    <tr>\n",
       "      <th>2</th>\n",
       "      <td>14990</td>\n",
       "      <td>2014</td>\n",
       "      <td>chrysler 300</td>\n",
       "      <td>3</td>\n",
       "      <td>6</td>\n",
       "      <td>gas</td>\n",
       "      <td>57954.0</td>\n",
       "      <td>automatic</td>\n",
       "      <td>sedan</td>\n",
       "      <td>black</td>\n",
       "      <td>True</td>\n",
       "      <td>2018-06-20</td>\n",
       "      <td>15</td>\n",
       "      <td>Wednesday</td>\n",
       "      <td>20</td>\n",
       "      <td>6</td>\n",
       "      <td>June</td>\n",
       "      <td>2018</td>\n",
       "      <td>4</td>\n",
       "      <td>14488.500000</td>\n",
       "    </tr>\n",
       "    <tr>\n",
       "      <th>3</th>\n",
       "      <td>12990</td>\n",
       "      <td>2015</td>\n",
       "      <td>toyota camry</td>\n",
       "      <td>3</td>\n",
       "      <td>4</td>\n",
       "      <td>gas</td>\n",
       "      <td>79212.0</td>\n",
       "      <td>automatic</td>\n",
       "      <td>sedan</td>\n",
       "      <td>white</td>\n",
       "      <td>False</td>\n",
       "      <td>2018-12-27</td>\n",
       "      <td>73</td>\n",
       "      <td>Thursday</td>\n",
       "      <td>27</td>\n",
       "      <td>12</td>\n",
       "      <td>December</td>\n",
       "      <td>2018</td>\n",
       "      <td>3</td>\n",
       "      <td>26404.000000</td>\n",
       "    </tr>\n",
       "    <tr>\n",
       "      <th>4</th>\n",
       "      <td>8990</td>\n",
       "      <td>2012</td>\n",
       "      <td>honda accord</td>\n",
       "      <td>3</td>\n",
       "      <td>4</td>\n",
       "      <td>gas</td>\n",
       "      <td>111142.0</td>\n",
       "      <td>automatic</td>\n",
       "      <td>sedan</td>\n",
       "      <td>grey</td>\n",
       "      <td>False</td>\n",
       "      <td>2019-03-28</td>\n",
       "      <td>29</td>\n",
       "      <td>Thursday</td>\n",
       "      <td>28</td>\n",
       "      <td>3</td>\n",
       "      <td>March</td>\n",
       "      <td>2019</td>\n",
       "      <td>7</td>\n",
       "      <td>15877.428571</td>\n",
       "    </tr>\n",
       "  </tbody>\n",
       "</table>\n",
       "</div>"
      ],
      "text/plain": [
       "   price  model_year           model  condition  cylinders fuel  odometer  \\\n",
       "0   5500        2013  hyundai sonata          4          4  gas  110000.0   \n",
       "1  14900        2017    chrysler 200          3          4  gas   80903.0   \n",
       "2  14990        2014    chrysler 300          3          6  gas   57954.0   \n",
       "3  12990        2015    toyota camry          3          4  gas   79212.0   \n",
       "4   8990        2012    honda accord          3          4  gas  111142.0   \n",
       "\n",
       "  transmission   type paint_color  is_4wd date_posted  days_listed  \\\n",
       "0    automatic  sedan         red   False  2019-02-07           79   \n",
       "1    automatic  sedan       black   False  2019-04-02           28   \n",
       "2    automatic  sedan       black    True  2018-06-20           15   \n",
       "3    automatic  sedan       white   False  2018-12-27           73   \n",
       "4    automatic  sedan        grey   False  2019-03-28           29   \n",
       "\n",
       "  day_name_posted  day_posted  month_posted month_name_posted  year_posted  \\\n",
       "0        Thursday           7             2          February         2019   \n",
       "1         Tuesday           2             4             April         2019   \n",
       "2       Wednesday          20             6              June         2018   \n",
       "3        Thursday          27            12          December         2018   \n",
       "4        Thursday          28             3             March         2019   \n",
       "\n",
       "   age  odometer_annual  \n",
       "0    6     18333.333333  \n",
       "1    2     40451.500000  \n",
       "2    4     14488.500000  \n",
       "3    3     26404.000000  \n",
       "4    7     15877.428571  "
      ]
     },
     "execution_count": 85,
     "metadata": {},
     "output_type": "execute_result"
    }
   ],
   "source": [
    "# slicing data only for sedan type\n",
    "car_ads_sedan = car_ads_clean.query('type == \"sedan\"').reset_index(drop=True)\n",
    "car_ads_sedan.head()"
   ]
  },
  {
   "cell_type": "code",
   "execution_count": 89,
   "metadata": {
    "colab": {
     "base_uri": "https://localhost:8080/"
    },
    "id": "tLWNV6M10R1t",
    "outputId": "ac267948-a64e-4022-ac0e-1bb41c125450",
    "scrolled": true
   },
   "outputs": [
    {
     "name": "stdout",
     "output_type": "stream",
     "text": [
      "price              1.000000\n",
      "model_year         0.617299\n",
      "condition          0.291461\n",
      "cylinders         -0.045236\n",
      "odometer          -0.523802\n",
      "days_listed        0.001278\n",
      "day_posted         0.005391\n",
      "month_posted      -0.017951\n",
      "year_posted        0.015632\n",
      "age               -0.611641\n",
      "odometer_annual    0.306564\n",
      "Name: price, dtype: float64\n"
     ]
    }
   ],
   "source": [
    "# contains the sedan type price correlation matrix\n",
    "#car_ads_sedan.corr()['price'] thats an error\n",
    "\n",
    "# Select only numeric columns\n",
    "numeric_columns = car_ads_sedan.select_dtypes(include=np.number)\n",
    "\n",
    "# Calculate correlation\n",
    "correlation = numeric_columns.corr()['price']\n",
    "\n",
    "# Display the correlation\n",
    "print(correlation)"
   ]
  },
  {
   "cell_type": "code",
   "execution_count": 90,
   "metadata": {
    "colab": {
     "base_uri": "https://localhost:8080/",
     "height": 313
    },
    "id": "Bl06qTee0R1t",
    "outputId": "9241c460-a902-48b0-8bef-f650f52af1da",
    "scrolled": true
   },
   "outputs": [
    {
     "data": {
      "text/plain": [
       "Text(0.5, 1.0, 'Sedan: correlation between odometer and price')"
      ]
     },
     "execution_count": 90,
     "metadata": {},
     "output_type": "execute_result"
    }
   ],
   "source": [
    "# contains a scatterplot of the correlation of the odometer against price\n",
    "plt.figure(figsize=(9, 4))\n",
    "sns.scatterplot(data=car_ads_sedan, x='odometer', y='price', alpha=0.06)\n",
    "plt.title('Sedan: correlation between odometer and price')\n"
   ]
  },
  {
   "cell_type": "code",
   "execution_count": 91,
   "metadata": {
    "colab": {
     "base_uri": "https://localhost:8080/",
     "height": 313
    },
    "id": "DVJ5hfhQ0R1u",
    "outputId": "1dd943a2-30c6-4c8f-f635-3762780da8c6"
   },
   "outputs": [
    {
     "data": {
      "text/plain": [
       "Text(0.5, 1.0, 'Sedan: correlation between condition and price')"
      ]
     },
     "execution_count": 91,
     "metadata": {},
     "output_type": "execute_result"
    }
   ],
   "source": [
    "# contains a scatterplot of condition against price\n",
    "sns.scatterplot(data=car_ads_sedan, x='condition', y='price', alpha=0.06)\n",
    "plt.title('Sedan: correlation between condition and price')"
   ]
  },
  {
   "cell_type": "code",
   "execution_count": 92,
   "metadata": {
    "colab": {
     "base_uri": "https://localhost:8080/",
     "height": 313
    },
    "id": "Qv0SK_gr0R1v",
    "outputId": "e2edaef6-ecc5-49bc-a826-fa5bb8e6ee38",
    "scrolled": true
   },
   "outputs": [
    {
     "data": {
      "text/plain": [
       "Text(0.5, 1.0, 'Sedan: correlation between age and price')"
      ]
     },
     "execution_count": 92,
     "metadata": {},
     "output_type": "execute_result"
    }
   ],
   "source": [
    "# contains a scatterplot of age against price\n",
    "plt.figure(figsize=(9, 4))\n",
    "sns.scatterplot(data=car_ads_sedan, x='age', y='price', alpha=0.06)\n",
    "plt.title('Sedan: correlation between age and price')"
   ]
  },
  {
   "cell_type": "code",
   "execution_count": 93,
   "metadata": {
    "colab": {
     "base_uri": "https://localhost:8080/"
    },
    "id": "A0fpaXBA0R1w",
    "outputId": "360bde66-8122-492e-b200-8d506eb22ad6"
   },
   "outputs": [
    {
     "data": {
      "text/plain": [
       "transmission\n",
       "automatic    11221\n",
       "manual         573\n",
       "other          128\n",
       "Name: count, dtype: int64"
      ]
     },
     "execution_count": 93,
     "metadata": {},
     "output_type": "execute_result"
    }
   ],
   "source": [
    "# check the distribution of transmission unique values\n",
    "car_ads_sedan['transmission'].value_counts()"
   ]
  },
  {
   "cell_type": "code",
   "execution_count": 94,
   "metadata": {
    "colab": {
     "base_uri": "https://localhost:8080/",
     "height": 422
    },
    "id": "wj_kQtsF0R1w",
    "outputId": "548ba52d-e783-4853-ccb3-e01f0b21999a"
   },
   "outputs": [
    {
     "data": {
      "text/plain": [
       "Text(0.5, 1.0, 'Sedan: correlation between transmission and price')"
      ]
     },
     "execution_count": 94,
     "metadata": {},
     "output_type": "execute_result"
    }
   ],
   "source": [
    "# load boxplot of transmission and price correlation\n",
    "plt.figure(figsize=(10,6))\n",
    "sns.boxplot(data=car_ads_sedan, x='transmission', y='price')\n",
    "plt.title('Sedan: correlation between transmission and price')"
   ]
  },
  {
   "cell_type": "code",
   "execution_count": 95,
   "metadata": {
    "colab": {
     "base_uri": "https://localhost:8080/"
    },
    "id": "GCMlYfdH0R1x",
    "outputId": "df0c3cbd-dc69-49ef-d2b8-8af2031eff78"
   },
   "outputs": [
    {
     "data": {
      "text/plain": [
       "paint_color\n",
       "unknown    2147\n",
       "silver     2021\n",
       "black      1746\n",
       "grey       1603\n",
       "white      1477\n",
       "blue       1209\n",
       "red         926\n",
       "custom      292\n",
       "brown       251\n",
       "green       197\n",
       "purple       23\n",
       "yellow       21\n",
       "orange        9\n",
       "Name: count, dtype: int64"
      ]
     },
     "execution_count": 95,
     "metadata": {},
     "output_type": "execute_result"
    }
   ],
   "source": [
    "# load the unique value of paint_color\n",
    "car_ads_sedan['paint_color'].value_counts()"
   ]
  },
  {
   "cell_type": "code",
   "execution_count": 96,
   "metadata": {
    "colab": {
     "base_uri": "https://localhost:8080/"
    },
    "id": "CG1eD4XP0R1y",
    "outputId": "83f084df-7fe1-4f4d-faeb-76b8eb02aaa4",
    "scrolled": true
   },
   "outputs": [
    {
     "data": {
      "text/plain": [
       "['unknown',\n",
       " 'silver',\n",
       " 'black',\n",
       " 'grey',\n",
       " 'white',\n",
       " 'blue',\n",
       " 'red',\n",
       " 'custom',\n",
       " 'brown',\n",
       " 'green',\n",
       " 'purple',\n",
       " 'yellow',\n",
       " 'orange']"
      ]
     },
     "execution_count": 96,
     "metadata": {},
     "output_type": "execute_result"
    }
   ],
   "source": [
    "# stores a list of paint_color values ​​for which the number of ads is at least 50\n",
    "list_colors = list((car_ads_sedan['paint_color'].value_counts() >= 50).index)\n",
    "list_colors"
   ]
  },
  {
   "cell_type": "code",
   "execution_count": 97,
   "metadata": {
    "colab": {
     "base_uri": "https://localhost:8080/",
     "height": 357
    },
    "id": "VsgrVORR0R1y",
    "outputId": "ccd00b99-1135-499e-cbbd-6846a6590258",
    "scrolled": true
   },
   "outputs": [
    {
     "data": {
      "text/html": [
       "<div>\n",
       "<style scoped>\n",
       "    .dataframe tbody tr th:only-of-type {\n",
       "        vertical-align: middle;\n",
       "    }\n",
       "\n",
       "    .dataframe tbody tr th {\n",
       "        vertical-align: top;\n",
       "    }\n",
       "\n",
       "    .dataframe thead th {\n",
       "        text-align: right;\n",
       "    }\n",
       "</style>\n",
       "<table border=\"1\" class=\"dataframe\">\n",
       "  <thead>\n",
       "    <tr style=\"text-align: right;\">\n",
       "      <th></th>\n",
       "      <th>price</th>\n",
       "      <th>model_year</th>\n",
       "      <th>model</th>\n",
       "      <th>condition</th>\n",
       "      <th>cylinders</th>\n",
       "      <th>fuel</th>\n",
       "      <th>odometer</th>\n",
       "      <th>transmission</th>\n",
       "      <th>type</th>\n",
       "      <th>paint_color</th>\n",
       "      <th>is_4wd</th>\n",
       "      <th>date_posted</th>\n",
       "      <th>days_listed</th>\n",
       "      <th>day_name_posted</th>\n",
       "      <th>day_posted</th>\n",
       "      <th>month_posted</th>\n",
       "      <th>month_name_posted</th>\n",
       "      <th>year_posted</th>\n",
       "      <th>age</th>\n",
       "      <th>odometer_annual</th>\n",
       "    </tr>\n",
       "  </thead>\n",
       "  <tbody>\n",
       "    <tr>\n",
       "      <th>0</th>\n",
       "      <td>5500</td>\n",
       "      <td>2013</td>\n",
       "      <td>hyundai sonata</td>\n",
       "      <td>4</td>\n",
       "      <td>4</td>\n",
       "      <td>gas</td>\n",
       "      <td>110000.0</td>\n",
       "      <td>automatic</td>\n",
       "      <td>sedan</td>\n",
       "      <td>red</td>\n",
       "      <td>False</td>\n",
       "      <td>2019-02-07</td>\n",
       "      <td>79</td>\n",
       "      <td>Thursday</td>\n",
       "      <td>7</td>\n",
       "      <td>2</td>\n",
       "      <td>February</td>\n",
       "      <td>2019</td>\n",
       "      <td>6</td>\n",
       "      <td>18333.333333</td>\n",
       "    </tr>\n",
       "    <tr>\n",
       "      <th>1</th>\n",
       "      <td>14900</td>\n",
       "      <td>2017</td>\n",
       "      <td>chrysler 200</td>\n",
       "      <td>3</td>\n",
       "      <td>4</td>\n",
       "      <td>gas</td>\n",
       "      <td>80903.0</td>\n",
       "      <td>automatic</td>\n",
       "      <td>sedan</td>\n",
       "      <td>black</td>\n",
       "      <td>False</td>\n",
       "      <td>2019-04-02</td>\n",
       "      <td>28</td>\n",
       "      <td>Tuesday</td>\n",
       "      <td>2</td>\n",
       "      <td>4</td>\n",
       "      <td>April</td>\n",
       "      <td>2019</td>\n",
       "      <td>2</td>\n",
       "      <td>40451.500000</td>\n",
       "    </tr>\n",
       "    <tr>\n",
       "      <th>2</th>\n",
       "      <td>14990</td>\n",
       "      <td>2014</td>\n",
       "      <td>chrysler 300</td>\n",
       "      <td>3</td>\n",
       "      <td>6</td>\n",
       "      <td>gas</td>\n",
       "      <td>57954.0</td>\n",
       "      <td>automatic</td>\n",
       "      <td>sedan</td>\n",
       "      <td>black</td>\n",
       "      <td>True</td>\n",
       "      <td>2018-06-20</td>\n",
       "      <td>15</td>\n",
       "      <td>Wednesday</td>\n",
       "      <td>20</td>\n",
       "      <td>6</td>\n",
       "      <td>June</td>\n",
       "      <td>2018</td>\n",
       "      <td>4</td>\n",
       "      <td>14488.500000</td>\n",
       "    </tr>\n",
       "    <tr>\n",
       "      <th>3</th>\n",
       "      <td>12990</td>\n",
       "      <td>2015</td>\n",
       "      <td>toyota camry</td>\n",
       "      <td>3</td>\n",
       "      <td>4</td>\n",
       "      <td>gas</td>\n",
       "      <td>79212.0</td>\n",
       "      <td>automatic</td>\n",
       "      <td>sedan</td>\n",
       "      <td>white</td>\n",
       "      <td>False</td>\n",
       "      <td>2018-12-27</td>\n",
       "      <td>73</td>\n",
       "      <td>Thursday</td>\n",
       "      <td>27</td>\n",
       "      <td>12</td>\n",
       "      <td>December</td>\n",
       "      <td>2018</td>\n",
       "      <td>3</td>\n",
       "      <td>26404.000000</td>\n",
       "    </tr>\n",
       "    <tr>\n",
       "      <th>4</th>\n",
       "      <td>8990</td>\n",
       "      <td>2012</td>\n",
       "      <td>honda accord</td>\n",
       "      <td>3</td>\n",
       "      <td>4</td>\n",
       "      <td>gas</td>\n",
       "      <td>111142.0</td>\n",
       "      <td>automatic</td>\n",
       "      <td>sedan</td>\n",
       "      <td>grey</td>\n",
       "      <td>False</td>\n",
       "      <td>2019-03-28</td>\n",
       "      <td>29</td>\n",
       "      <td>Thursday</td>\n",
       "      <td>28</td>\n",
       "      <td>3</td>\n",
       "      <td>March</td>\n",
       "      <td>2019</td>\n",
       "      <td>7</td>\n",
       "      <td>15877.428571</td>\n",
       "    </tr>\n",
       "  </tbody>\n",
       "</table>\n",
       "</div>"
      ],
      "text/plain": [
       "   price  model_year           model  condition  cylinders fuel  odometer  \\\n",
       "0   5500        2013  hyundai sonata          4          4  gas  110000.0   \n",
       "1  14900        2017    chrysler 200          3          4  gas   80903.0   \n",
       "2  14990        2014    chrysler 300          3          6  gas   57954.0   \n",
       "3  12990        2015    toyota camry          3          4  gas   79212.0   \n",
       "4   8990        2012    honda accord          3          4  gas  111142.0   \n",
       "\n",
       "  transmission   type paint_color  is_4wd date_posted  days_listed  \\\n",
       "0    automatic  sedan         red   False  2019-02-07           79   \n",
       "1    automatic  sedan       black   False  2019-04-02           28   \n",
       "2    automatic  sedan       black    True  2018-06-20           15   \n",
       "3    automatic  sedan       white   False  2018-12-27           73   \n",
       "4    automatic  sedan        grey   False  2019-03-28           29   \n",
       "\n",
       "  day_name_posted  day_posted  month_posted month_name_posted  year_posted  \\\n",
       "0        Thursday           7             2          February         2019   \n",
       "1         Tuesday           2             4             April         2019   \n",
       "2       Wednesday          20             6              June         2018   \n",
       "3        Thursday          27            12          December         2018   \n",
       "4        Thursday          28             3             March         2019   \n",
       "\n",
       "   age  odometer_annual  \n",
       "0    6     18333.333333  \n",
       "1    2     40451.500000  \n",
       "2    4     14488.500000  \n",
       "3    3     26404.000000  \n",
       "4    7     15877.428571  "
      ]
     },
     "execution_count": 97,
     "metadata": {},
     "output_type": "execute_result"
    }
   ],
   "source": [
    "# save data on sedan types with paint colors with at least 50 advertisements\n",
    "car_ads_sedan_color = car_ads_sedan.loc[car_ads_sedan['paint_color'].isin(list_colors)]\n",
    "car_ads_sedan_color.head()"
   ]
  },
  {
   "cell_type": "code",
   "execution_count": 98,
   "metadata": {
    "colab": {
     "base_uri": "https://localhost:8080/",
     "height": 423
    },
    "id": "zCgQ4Tcy0R1z",
    "outputId": "bf07ecfa-6d3e-4caa-9324-91e094c12fb6"
   },
   "outputs": [
    {
     "data": {
      "text/plain": [
       "Text(0.5, 1.0, 'Sedan: correlation between paint_color and price')"
      ]
     },
     "execution_count": 98,
     "metadata": {},
     "output_type": "execute_result"
    }
   ],
   "source": [
    "# load the paint_color and price correlation boxplot\n",
    "plt.figure(figsize=(14,6))\n",
    "sns.boxplot(data=car_ads_sedan_color, x='paint_color', y='price')\n",
    "plt.title('Sedan: correlation between paint_color and price')"
   ]
  },
  {
   "cell_type": "markdown",
   "metadata": {
    "id": "06LdVlE70R1z"
   },
   "source": [
    "Next, EDA is carried out for the SUV type"
   ]
  },
  {
   "cell_type": "code",
   "execution_count": 99,
   "metadata": {
    "colab": {
     "base_uri": "https://localhost:8080/",
     "height": 340
    },
    "id": "-GouegXu0R10",
    "outputId": "78ad97e9-2b33-4ac3-8df5-f1d82da77d95",
    "scrolled": true
   },
   "outputs": [
    {
     "data": {
      "text/html": [
       "<div>\n",
       "<style scoped>\n",
       "    .dataframe tbody tr th:only-of-type {\n",
       "        vertical-align: middle;\n",
       "    }\n",
       "\n",
       "    .dataframe tbody tr th {\n",
       "        vertical-align: top;\n",
       "    }\n",
       "\n",
       "    .dataframe thead th {\n",
       "        text-align: right;\n",
       "    }\n",
       "</style>\n",
       "<table border=\"1\" class=\"dataframe\">\n",
       "  <thead>\n",
       "    <tr style=\"text-align: right;\">\n",
       "      <th></th>\n",
       "      <th>price</th>\n",
       "      <th>model_year</th>\n",
       "      <th>model</th>\n",
       "      <th>condition</th>\n",
       "      <th>cylinders</th>\n",
       "      <th>fuel</th>\n",
       "      <th>odometer</th>\n",
       "      <th>transmission</th>\n",
       "      <th>type</th>\n",
       "      <th>paint_color</th>\n",
       "      <th>is_4wd</th>\n",
       "      <th>date_posted</th>\n",
       "      <th>days_listed</th>\n",
       "      <th>day_name_posted</th>\n",
       "      <th>day_posted</th>\n",
       "      <th>month_posted</th>\n",
       "      <th>month_name_posted</th>\n",
       "      <th>year_posted</th>\n",
       "      <th>age</th>\n",
       "      <th>odometer_annual</th>\n",
       "    </tr>\n",
       "  </thead>\n",
       "  <tbody>\n",
       "    <tr>\n",
       "      <th>0</th>\n",
       "      <td>9400</td>\n",
       "      <td>2011</td>\n",
       "      <td>bmw x5</td>\n",
       "      <td>2</td>\n",
       "      <td>6</td>\n",
       "      <td>gas</td>\n",
       "      <td>145000.0</td>\n",
       "      <td>automatic</td>\n",
       "      <td>SUV</td>\n",
       "      <td>unknown</td>\n",
       "      <td>True</td>\n",
       "      <td>2018-06-23</td>\n",
       "      <td>19</td>\n",
       "      <td>Saturday</td>\n",
       "      <td>23</td>\n",
       "      <td>6</td>\n",
       "      <td>June</td>\n",
       "      <td>2018</td>\n",
       "      <td>7</td>\n",
       "      <td>20714.285714</td>\n",
       "    </tr>\n",
       "    <tr>\n",
       "      <th>1</th>\n",
       "      <td>15990</td>\n",
       "      <td>2013</td>\n",
       "      <td>honda pilot</td>\n",
       "      <td>3</td>\n",
       "      <td>6</td>\n",
       "      <td>gas</td>\n",
       "      <td>109473.0</td>\n",
       "      <td>automatic</td>\n",
       "      <td>SUV</td>\n",
       "      <td>black</td>\n",
       "      <td>True</td>\n",
       "      <td>2019-01-07</td>\n",
       "      <td>68</td>\n",
       "      <td>Monday</td>\n",
       "      <td>7</td>\n",
       "      <td>1</td>\n",
       "      <td>January</td>\n",
       "      <td>2019</td>\n",
       "      <td>6</td>\n",
       "      <td>18245.500000</td>\n",
       "    </tr>\n",
       "    <tr>\n",
       "      <th>2</th>\n",
       "      <td>11500</td>\n",
       "      <td>2012</td>\n",
       "      <td>kia sorento</td>\n",
       "      <td>3</td>\n",
       "      <td>4</td>\n",
       "      <td>gas</td>\n",
       "      <td>104174.0</td>\n",
       "      <td>automatic</td>\n",
       "      <td>SUV</td>\n",
       "      <td>unknown</td>\n",
       "      <td>True</td>\n",
       "      <td>2018-07-16</td>\n",
       "      <td>19</td>\n",
       "      <td>Monday</td>\n",
       "      <td>16</td>\n",
       "      <td>7</td>\n",
       "      <td>July</td>\n",
       "      <td>2018</td>\n",
       "      <td>6</td>\n",
       "      <td>17362.333333</td>\n",
       "    </tr>\n",
       "    <tr>\n",
       "      <th>3</th>\n",
       "      <td>9200</td>\n",
       "      <td>2008</td>\n",
       "      <td>honda pilot</td>\n",
       "      <td>3</td>\n",
       "      <td>6</td>\n",
       "      <td>gas</td>\n",
       "      <td>147191.0</td>\n",
       "      <td>automatic</td>\n",
       "      <td>SUV</td>\n",
       "      <td>blue</td>\n",
       "      <td>True</td>\n",
       "      <td>2019-02-15</td>\n",
       "      <td>17</td>\n",
       "      <td>Friday</td>\n",
       "      <td>15</td>\n",
       "      <td>2</td>\n",
       "      <td>February</td>\n",
       "      <td>2019</td>\n",
       "      <td>11</td>\n",
       "      <td>13381.000000</td>\n",
       "    </tr>\n",
       "    <tr>\n",
       "      <th>4</th>\n",
       "      <td>12990</td>\n",
       "      <td>2009</td>\n",
       "      <td>gmc yukon</td>\n",
       "      <td>3</td>\n",
       "      <td>8</td>\n",
       "      <td>gas</td>\n",
       "      <td>132285.0</td>\n",
       "      <td>automatic</td>\n",
       "      <td>SUV</td>\n",
       "      <td>black</td>\n",
       "      <td>True</td>\n",
       "      <td>2019-01-31</td>\n",
       "      <td>24</td>\n",
       "      <td>Thursday</td>\n",
       "      <td>31</td>\n",
       "      <td>1</td>\n",
       "      <td>January</td>\n",
       "      <td>2019</td>\n",
       "      <td>10</td>\n",
       "      <td>13228.500000</td>\n",
       "    </tr>\n",
       "  </tbody>\n",
       "</table>\n",
       "</div>"
      ],
      "text/plain": [
       "   price  model_year        model  condition  cylinders fuel  odometer  \\\n",
       "0   9400        2011       bmw x5          2          6  gas  145000.0   \n",
       "1  15990        2013  honda pilot          3          6  gas  109473.0   \n",
       "2  11500        2012  kia sorento          3          4  gas  104174.0   \n",
       "3   9200        2008  honda pilot          3          6  gas  147191.0   \n",
       "4  12990        2009    gmc yukon          3          8  gas  132285.0   \n",
       "\n",
       "  transmission type paint_color  is_4wd date_posted  days_listed  \\\n",
       "0    automatic  SUV     unknown    True  2018-06-23           19   \n",
       "1    automatic  SUV       black    True  2019-01-07           68   \n",
       "2    automatic  SUV     unknown    True  2018-07-16           19   \n",
       "3    automatic  SUV        blue    True  2019-02-15           17   \n",
       "4    automatic  SUV       black    True  2019-01-31           24   \n",
       "\n",
       "  day_name_posted  day_posted  month_posted month_name_posted  year_posted  \\\n",
       "0        Saturday          23             6              June         2018   \n",
       "1          Monday           7             1           January         2019   \n",
       "2          Monday          16             7              July         2018   \n",
       "3          Friday          15             2          February         2019   \n",
       "4        Thursday          31             1           January         2019   \n",
       "\n",
       "   age  odometer_annual  \n",
       "0    7     20714.285714  \n",
       "1    6     18245.500000  \n",
       "2    6     17362.333333  \n",
       "3   11     13381.000000  \n",
       "4   10     13228.500000  "
      ]
     },
     "execution_count": 99,
     "metadata": {},
     "output_type": "execute_result"
    }
   ],
   "source": [
    "# slicing data for SUV type only\n",
    "car_ads_suv = car_ads_clean.query('type == \"SUV\"').reset_index(drop=True)\n",
    "car_ads_suv.head()"
   ]
  },
  {
   "cell_type": "code",
   "execution_count": 102,
   "metadata": {
    "colab": {
     "base_uri": "https://localhost:8080/"
    },
    "id": "v7lRjuFJ0R10",
    "outputId": "b9f6a61f-60fc-4d41-b61b-360c691845ab"
   },
   "outputs": [
    {
     "name": "stdout",
     "output_type": "stream",
     "text": [
      "price              1.000000\n",
      "model_year         0.575012\n",
      "condition          0.259936\n",
      "cylinders          0.004478\n",
      "odometer          -0.489096\n",
      "days_listed       -0.020743\n",
      "day_posted         0.001570\n",
      "month_posted      -0.007052\n",
      "year_posted        0.001110\n",
      "age               -0.574718\n",
      "odometer_annual    0.271922\n",
      "Name: price, dtype: float64\n"
     ]
    }
   ],
   "source": [
    "# contains the SUV type price correlation matrix\n",
    "#car_ads_suv.corr()['price'] thats an error\n",
    "\n",
    "# Select only numeric columns\n",
    "numeric_columns = car_ads_suv.select_dtypes(include=np.number)\n",
    "\n",
    "# Calculate correlation\n",
    "correlation = numeric_columns.corr()['price']\n",
    "\n",
    "# Display the correlation\n",
    "print(correlation)"
   ]
  },
  {
   "cell_type": "code",
   "execution_count": 103,
   "metadata": {
    "colab": {
     "base_uri": "https://localhost:8080/",
     "height": 313
    },
    "id": "64DgD6-S0R10",
    "outputId": "75833f86-c7cf-4e63-e1bc-366ca375fcc8",
    "scrolled": true
   },
   "outputs": [
    {
     "data": {
      "text/plain": [
       "Text(0.5, 1.0, 'SUV: correlation between odometer and price')"
      ]
     },
     "execution_count": 103,
     "metadata": {},
     "output_type": "execute_result"
    }
   ],
   "source": [
    "# contains a scatterplot of the correlation of the odometer against price\n",
    "plt.figure(figsize=(9, 4))\n",
    "sns.scatterplot(data=car_ads_suv, x='odometer', y='price', alpha=0.06)\n",
    "plt.title('SUV: correlation between odometer and price')"
   ]
  },
  {
   "cell_type": "code",
   "execution_count": 104,
   "metadata": {
    "colab": {
     "base_uri": "https://localhost:8080/",
     "height": 313
    },
    "id": "svC8faIK0R11",
    "outputId": "269f4fe9-e9b1-4861-fd7b-b2216599316e"
   },
   "outputs": [
    {
     "data": {
      "text/plain": [
       "Text(0.5, 1.0, 'SUV: correlation between condition and price')"
      ]
     },
     "execution_count": 104,
     "metadata": {},
     "output_type": "execute_result"
    }
   ],
   "source": [
    "# contains a scatterplot of condition against price\n",
    "sns.scatterplot(data=car_ads_suv, x='condition', y='price', alpha=0.06)\n",
    "plt.title('SUV: correlation between condition and price')"
   ]
  },
  {
   "cell_type": "code",
   "execution_count": 105,
   "metadata": {
    "colab": {
     "base_uri": "https://localhost:8080/",
     "height": 313
    },
    "id": "e-cd2_mB0R11",
    "outputId": "fe7274bc-0a26-406d-8b08-4bff1eeafa38"
   },
   "outputs": [
    {
     "data": {
      "text/plain": [
       "Text(0.5, 1.0, 'SUV: correlation between age and price')"
      ]
     },
     "execution_count": 105,
     "metadata": {},
     "output_type": "execute_result"
    }
   ],
   "source": [
    "# contains a scatterplot of age against price\n",
    "plt.figure(figsize=(9, 4))\n",
    "sns.scatterplot(data=car_ads_suv, x='age', y='price', alpha=0.06)\n",
    "plt.title('SUV: correlation between age and price')"
   ]
  },
  {
   "cell_type": "code",
   "execution_count": 106,
   "metadata": {
    "colab": {
     "base_uri": "https://localhost:8080/"
    },
    "id": "qOIhmjPP0R11",
    "outputId": "7d521f36-6b73-4fa1-9b41-f6d252dcb218"
   },
   "outputs": [
    {
     "data": {
      "text/plain": [
       "transmission\n",
       "automatic    11210\n",
       "manual         456\n",
       "other          157\n",
       "Name: count, dtype: int64"
      ]
     },
     "execution_count": 106,
     "metadata": {},
     "output_type": "execute_result"
    }
   ],
   "source": [
    "# check the distribution of transmission unique values\n",
    "car_ads_suv['transmission'].value_counts()"
   ]
  },
  {
   "cell_type": "code",
   "execution_count": 107,
   "metadata": {
    "colab": {
     "base_uri": "https://localhost:8080/",
     "height": 422
    },
    "id": "8taBjGBW0R11",
    "outputId": "8628a639-cf3d-49a5-ecaa-beb03d493875"
   },
   "outputs": [
    {
     "data": {
      "text/plain": [
       "Text(0.5, 1.0, 'SUV: correlation between transmission and price')"
      ]
     },
     "execution_count": 107,
     "metadata": {},
     "output_type": "execute_result"
    }
   ],
   "source": [
    "# load boxplot of transmission and price correlation\n",
    "plt.figure(figsize=(10,6))\n",
    "sns.boxplot(data=car_ads_suv, x='transmission', y='price')\n",
    "plt.title('SUV: correlation between transmission and price')"
   ]
  },
  {
   "cell_type": "code",
   "execution_count": 108,
   "metadata": {
    "colab": {
     "base_uri": "https://localhost:8080/"
    },
    "id": "HBNoJBU70R12",
    "outputId": "35c87a5f-4ed9-4409-9072-ad857aa5192a"
   },
   "outputs": [
    {
     "data": {
      "text/plain": [
       "paint_color\n",
       "unknown    2130\n",
       "black      2080\n",
       "white      1857\n",
       "silver     1525\n",
       "grey       1144\n",
       "blue       1006\n",
       "red         867\n",
       "green       407\n",
       "brown       350\n",
       "custom      296\n",
       "orange       81\n",
       "yellow       43\n",
       "purple       37\n",
       "Name: count, dtype: int64"
      ]
     },
     "execution_count": 108,
     "metadata": {},
     "output_type": "execute_result"
    }
   ],
   "source": [
    "# load the unique value of paint_color\n",
    "car_ads_suv['paint_color'].value_counts()"
   ]
  },
  {
   "cell_type": "code",
   "execution_count": 109,
   "metadata": {
    "colab": {
     "base_uri": "https://localhost:8080/"
    },
    "id": "au3s2pFr0R13",
    "outputId": "c748a87f-2b57-45c4-acda-06b6a936d065"
   },
   "outputs": [
    {
     "data": {
      "text/plain": [
       "['unknown',\n",
       " 'black',\n",
       " 'white',\n",
       " 'silver',\n",
       " 'grey',\n",
       " 'blue',\n",
       " 'red',\n",
       " 'green',\n",
       " 'brown',\n",
       " 'custom',\n",
       " 'orange',\n",
       " 'yellow',\n",
       " 'purple']"
      ]
     },
     "execution_count": 109,
     "metadata": {},
     "output_type": "execute_result"
    }
   ],
   "source": [
    "# stores a list of paint_color values ​​for which the number of ads is at least 50\n",
    "list_colors = list((car_ads_suv['paint_color'].value_counts() >= 50).index)\n",
    "list_colors"
   ]
  },
  {
   "cell_type": "code",
   "execution_count": 110,
   "metadata": {
    "colab": {
     "base_uri": "https://localhost:8080/",
     "height": 661
    },
    "id": "4vIdrh5P0R13",
    "outputId": "651e8425-a0e1-4df1-81c7-ec51c77b63c0",
    "scrolled": true
   },
   "outputs": [
    {
     "data": {
      "text/html": [
       "<div>\n",
       "<style scoped>\n",
       "    .dataframe tbody tr th:only-of-type {\n",
       "        vertical-align: middle;\n",
       "    }\n",
       "\n",
       "    .dataframe tbody tr th {\n",
       "        vertical-align: top;\n",
       "    }\n",
       "\n",
       "    .dataframe thead th {\n",
       "        text-align: right;\n",
       "    }\n",
       "</style>\n",
       "<table border=\"1\" class=\"dataframe\">\n",
       "  <thead>\n",
       "    <tr style=\"text-align: right;\">\n",
       "      <th></th>\n",
       "      <th>price</th>\n",
       "      <th>model_year</th>\n",
       "      <th>model</th>\n",
       "      <th>condition</th>\n",
       "      <th>cylinders</th>\n",
       "      <th>fuel</th>\n",
       "      <th>odometer</th>\n",
       "      <th>transmission</th>\n",
       "      <th>type</th>\n",
       "      <th>paint_color</th>\n",
       "      <th>is_4wd</th>\n",
       "      <th>date_posted</th>\n",
       "      <th>days_listed</th>\n",
       "      <th>day_name_posted</th>\n",
       "      <th>day_posted</th>\n",
       "      <th>month_posted</th>\n",
       "      <th>month_name_posted</th>\n",
       "      <th>year_posted</th>\n",
       "      <th>age</th>\n",
       "      <th>odometer_annual</th>\n",
       "    </tr>\n",
       "  </thead>\n",
       "  <tbody>\n",
       "    <tr>\n",
       "      <th>0</th>\n",
       "      <td>9400</td>\n",
       "      <td>2011</td>\n",
       "      <td>bmw x5</td>\n",
       "      <td>2</td>\n",
       "      <td>6</td>\n",
       "      <td>gas</td>\n",
       "      <td>145000.0</td>\n",
       "      <td>automatic</td>\n",
       "      <td>SUV</td>\n",
       "      <td>unknown</td>\n",
       "      <td>True</td>\n",
       "      <td>2018-06-23</td>\n",
       "      <td>19</td>\n",
       "      <td>Saturday</td>\n",
       "      <td>23</td>\n",
       "      <td>6</td>\n",
       "      <td>June</td>\n",
       "      <td>2018</td>\n",
       "      <td>7</td>\n",
       "      <td>20714.285714</td>\n",
       "    </tr>\n",
       "    <tr>\n",
       "      <th>1</th>\n",
       "      <td>15990</td>\n",
       "      <td>2013</td>\n",
       "      <td>honda pilot</td>\n",
       "      <td>3</td>\n",
       "      <td>6</td>\n",
       "      <td>gas</td>\n",
       "      <td>109473.0</td>\n",
       "      <td>automatic</td>\n",
       "      <td>SUV</td>\n",
       "      <td>black</td>\n",
       "      <td>True</td>\n",
       "      <td>2019-01-07</td>\n",
       "      <td>68</td>\n",
       "      <td>Monday</td>\n",
       "      <td>7</td>\n",
       "      <td>1</td>\n",
       "      <td>January</td>\n",
       "      <td>2019</td>\n",
       "      <td>6</td>\n",
       "      <td>18245.500000</td>\n",
       "    </tr>\n",
       "    <tr>\n",
       "      <th>2</th>\n",
       "      <td>11500</td>\n",
       "      <td>2012</td>\n",
       "      <td>kia sorento</td>\n",
       "      <td>3</td>\n",
       "      <td>4</td>\n",
       "      <td>gas</td>\n",
       "      <td>104174.0</td>\n",
       "      <td>automatic</td>\n",
       "      <td>SUV</td>\n",
       "      <td>unknown</td>\n",
       "      <td>True</td>\n",
       "      <td>2018-07-16</td>\n",
       "      <td>19</td>\n",
       "      <td>Monday</td>\n",
       "      <td>16</td>\n",
       "      <td>7</td>\n",
       "      <td>July</td>\n",
       "      <td>2018</td>\n",
       "      <td>6</td>\n",
       "      <td>17362.333333</td>\n",
       "    </tr>\n",
       "    <tr>\n",
       "      <th>3</th>\n",
       "      <td>9200</td>\n",
       "      <td>2008</td>\n",
       "      <td>honda pilot</td>\n",
       "      <td>3</td>\n",
       "      <td>6</td>\n",
       "      <td>gas</td>\n",
       "      <td>147191.0</td>\n",
       "      <td>automatic</td>\n",
       "      <td>SUV</td>\n",
       "      <td>blue</td>\n",
       "      <td>True</td>\n",
       "      <td>2019-02-15</td>\n",
       "      <td>17</td>\n",
       "      <td>Friday</td>\n",
       "      <td>15</td>\n",
       "      <td>2</td>\n",
       "      <td>February</td>\n",
       "      <td>2019</td>\n",
       "      <td>11</td>\n",
       "      <td>13381.000000</td>\n",
       "    </tr>\n",
       "    <tr>\n",
       "      <th>4</th>\n",
       "      <td>12990</td>\n",
       "      <td>2009</td>\n",
       "      <td>gmc yukon</td>\n",
       "      <td>3</td>\n",
       "      <td>8</td>\n",
       "      <td>gas</td>\n",
       "      <td>132285.0</td>\n",
       "      <td>automatic</td>\n",
       "      <td>SUV</td>\n",
       "      <td>black</td>\n",
       "      <td>True</td>\n",
       "      <td>2019-01-31</td>\n",
       "      <td>24</td>\n",
       "      <td>Thursday</td>\n",
       "      <td>31</td>\n",
       "      <td>1</td>\n",
       "      <td>January</td>\n",
       "      <td>2019</td>\n",
       "      <td>10</td>\n",
       "      <td>13228.500000</td>\n",
       "    </tr>\n",
       "    <tr>\n",
       "      <th>...</th>\n",
       "      <td>...</td>\n",
       "      <td>...</td>\n",
       "      <td>...</td>\n",
       "      <td>...</td>\n",
       "      <td>...</td>\n",
       "      <td>...</td>\n",
       "      <td>...</td>\n",
       "      <td>...</td>\n",
       "      <td>...</td>\n",
       "      <td>...</td>\n",
       "      <td>...</td>\n",
       "      <td>...</td>\n",
       "      <td>...</td>\n",
       "      <td>...</td>\n",
       "      <td>...</td>\n",
       "      <td>...</td>\n",
       "      <td>...</td>\n",
       "      <td>...</td>\n",
       "      <td>...</td>\n",
       "      <td>...</td>\n",
       "    </tr>\n",
       "    <tr>\n",
       "      <th>11818</th>\n",
       "      <td>9500</td>\n",
       "      <td>2012</td>\n",
       "      <td>chevrolet traverse</td>\n",
       "      <td>2</td>\n",
       "      <td>6</td>\n",
       "      <td>gas</td>\n",
       "      <td>144500.0</td>\n",
       "      <td>automatic</td>\n",
       "      <td>SUV</td>\n",
       "      <td>unknown</td>\n",
       "      <td>True</td>\n",
       "      <td>2019-03-05</td>\n",
       "      <td>1</td>\n",
       "      <td>Tuesday</td>\n",
       "      <td>5</td>\n",
       "      <td>3</td>\n",
       "      <td>March</td>\n",
       "      <td>2019</td>\n",
       "      <td>7</td>\n",
       "      <td>20642.857143</td>\n",
       "    </tr>\n",
       "    <tr>\n",
       "      <th>11819</th>\n",
       "      <td>4999</td>\n",
       "      <td>2002</td>\n",
       "      <td>toyota 4runner</td>\n",
       "      <td>3</td>\n",
       "      <td>6</td>\n",
       "      <td>gas</td>\n",
       "      <td>177901.0</td>\n",
       "      <td>automatic</td>\n",
       "      <td>SUV</td>\n",
       "      <td>unknown</td>\n",
       "      <td>True</td>\n",
       "      <td>2018-05-26</td>\n",
       "      <td>59</td>\n",
       "      <td>Saturday</td>\n",
       "      <td>26</td>\n",
       "      <td>5</td>\n",
       "      <td>May</td>\n",
       "      <td>2018</td>\n",
       "      <td>16</td>\n",
       "      <td>11118.812500</td>\n",
       "    </tr>\n",
       "    <tr>\n",
       "      <th>11820</th>\n",
       "      <td>6995</td>\n",
       "      <td>2012</td>\n",
       "      <td>buick enclave</td>\n",
       "      <td>3</td>\n",
       "      <td>6</td>\n",
       "      <td>gas</td>\n",
       "      <td>157000.0</td>\n",
       "      <td>automatic</td>\n",
       "      <td>SUV</td>\n",
       "      <td>white</td>\n",
       "      <td>True</td>\n",
       "      <td>2018-08-04</td>\n",
       "      <td>17</td>\n",
       "      <td>Saturday</td>\n",
       "      <td>4</td>\n",
       "      <td>8</td>\n",
       "      <td>August</td>\n",
       "      <td>2018</td>\n",
       "      <td>6</td>\n",
       "      <td>26166.666667</td>\n",
       "    </tr>\n",
       "    <tr>\n",
       "      <th>11821</th>\n",
       "      <td>7995</td>\n",
       "      <td>2011</td>\n",
       "      <td>chevrolet equinox</td>\n",
       "      <td>4</td>\n",
       "      <td>4</td>\n",
       "      <td>gas</td>\n",
       "      <td>111088.0</td>\n",
       "      <td>automatic</td>\n",
       "      <td>SUV</td>\n",
       "      <td>unknown</td>\n",
       "      <td>False</td>\n",
       "      <td>2019-04-01</td>\n",
       "      <td>175</td>\n",
       "      <td>Monday</td>\n",
       "      <td>1</td>\n",
       "      <td>4</td>\n",
       "      <td>April</td>\n",
       "      <td>2019</td>\n",
       "      <td>8</td>\n",
       "      <td>13886.000000</td>\n",
       "    </tr>\n",
       "    <tr>\n",
       "      <th>11822</th>\n",
       "      <td>8999</td>\n",
       "      <td>2011</td>\n",
       "      <td>jeep grand cherokee</td>\n",
       "      <td>2</td>\n",
       "      <td>6</td>\n",
       "      <td>gas</td>\n",
       "      <td>129000.0</td>\n",
       "      <td>automatic</td>\n",
       "      <td>SUV</td>\n",
       "      <td>white</td>\n",
       "      <td>True</td>\n",
       "      <td>2018-11-01</td>\n",
       "      <td>51</td>\n",
       "      <td>Thursday</td>\n",
       "      <td>1</td>\n",
       "      <td>11</td>\n",
       "      <td>November</td>\n",
       "      <td>2018</td>\n",
       "      <td>7</td>\n",
       "      <td>18428.571429</td>\n",
       "    </tr>\n",
       "  </tbody>\n",
       "</table>\n",
       "<p>11823 rows × 20 columns</p>\n",
       "</div>"
      ],
      "text/plain": [
       "       price  model_year                model  condition  cylinders fuel  \\\n",
       "0       9400        2011               bmw x5          2          6  gas   \n",
       "1      15990        2013          honda pilot          3          6  gas   \n",
       "2      11500        2012          kia sorento          3          4  gas   \n",
       "3       9200        2008          honda pilot          3          6  gas   \n",
       "4      12990        2009            gmc yukon          3          8  gas   \n",
       "...      ...         ...                  ...        ...        ...  ...   \n",
       "11818   9500        2012   chevrolet traverse          2          6  gas   \n",
       "11819   4999        2002       toyota 4runner          3          6  gas   \n",
       "11820   6995        2012        buick enclave          3          6  gas   \n",
       "11821   7995        2011    chevrolet equinox          4          4  gas   \n",
       "11822   8999        2011  jeep grand cherokee          2          6  gas   \n",
       "\n",
       "       odometer transmission type paint_color  is_4wd date_posted  \\\n",
       "0      145000.0    automatic  SUV     unknown    True  2018-06-23   \n",
       "1      109473.0    automatic  SUV       black    True  2019-01-07   \n",
       "2      104174.0    automatic  SUV     unknown    True  2018-07-16   \n",
       "3      147191.0    automatic  SUV        blue    True  2019-02-15   \n",
       "4      132285.0    automatic  SUV       black    True  2019-01-31   \n",
       "...         ...          ...  ...         ...     ...         ...   \n",
       "11818  144500.0    automatic  SUV     unknown    True  2019-03-05   \n",
       "11819  177901.0    automatic  SUV     unknown    True  2018-05-26   \n",
       "11820  157000.0    automatic  SUV       white    True  2018-08-04   \n",
       "11821  111088.0    automatic  SUV     unknown   False  2019-04-01   \n",
       "11822  129000.0    automatic  SUV       white    True  2018-11-01   \n",
       "\n",
       "       days_listed day_name_posted  day_posted  month_posted  \\\n",
       "0               19        Saturday          23             6   \n",
       "1               68          Monday           7             1   \n",
       "2               19          Monday          16             7   \n",
       "3               17          Friday          15             2   \n",
       "4               24        Thursday          31             1   \n",
       "...            ...             ...         ...           ...   \n",
       "11818            1         Tuesday           5             3   \n",
       "11819           59        Saturday          26             5   \n",
       "11820           17        Saturday           4             8   \n",
       "11821          175          Monday           1             4   \n",
       "11822           51        Thursday           1            11   \n",
       "\n",
       "      month_name_posted  year_posted  age  odometer_annual  \n",
       "0                  June         2018    7     20714.285714  \n",
       "1               January         2019    6     18245.500000  \n",
       "2                  July         2018    6     17362.333333  \n",
       "3              February         2019   11     13381.000000  \n",
       "4               January         2019   10     13228.500000  \n",
       "...                 ...          ...  ...              ...  \n",
       "11818             March         2019    7     20642.857143  \n",
       "11819               May         2018   16     11118.812500  \n",
       "11820            August         2018    6     26166.666667  \n",
       "11821             April         2019    8     13886.000000  \n",
       "11822          November         2018    7     18428.571429  \n",
       "\n",
       "[11823 rows x 20 columns]"
      ]
     },
     "execution_count": 110,
     "metadata": {},
     "output_type": "execute_result"
    }
   ],
   "source": [
    "# save data on sedan types with paint colors with at least 50 advertisements\n",
    "car_ads_suv_color = car_ads_suv[car_ads_suv['paint_color'].isin(list_colors)]\n",
    "car_ads_suv_color"
   ]
  },
  {
   "cell_type": "code",
   "execution_count": 111,
   "metadata": {
    "colab": {
     "base_uri": "https://localhost:8080/",
     "height": 423
    },
    "id": "mzeWYP-F0R13",
    "outputId": "b147e86d-c76a-41b2-803e-7c6f0e854c30"
   },
   "outputs": [
    {
     "data": {
      "text/plain": [
       "Text(0.5, 1.0, 'SUV: correlation between paint_color and price')"
      ]
     },
     "execution_count": 111,
     "metadata": {},
     "output_type": "execute_result"
    }
   ],
   "source": [
    "# load the paint_color and price correlation boxplot\n",
    "plt.figure(figsize=(14,6))\n",
    "sns.boxplot(data=car_ads_suv_color, x='paint_color', y='price')\n",
    "plt.title('SUV: correlation between paint_color and price')"
   ]
  },
  {
   "cell_type": "markdown",
   "metadata": {
    "id": "9wJyYysT0R13"
   },
   "source": [
    "## 7.0 Conclusion\n",
    "First, the data is processed by checking and handling missing values. Columns with missing values ​​such as model_year and cylinders are replaced by medians which are based on another parameter, namely model. The goal is that filling in missing values ​​does not shift the data distribution too much. Meanwhile, for the odometer column, the loss value is filled with the median based on condition. Then in the paint_color column, missing values ​​are filled with unknown.\r\n",
    "\r\n",
    "Then the data type is changed to suit the nature of the data. The year of the car, the number of cylinders is converted to an integer. And the ad date is changed to datetime.\r\n",
    "\r\n",
    "Then a new column is created so that analysis can be carried out, such as adding the year the ad was broadcast so that the age of the car when the ad was aired can be calculated. Apart from that, several columns were added with the aim of making the data better understandable, such as the day the ad was broadcast, the month the ad was aired.\r\n",
    "\r\n",
    "Then the data in the condition column is converted into numeric which represents the ordinal category. This is done so that analysis can be carried out more easily.\r\n",
    "\r\n",
    "Furthermore, fthe EDA results on the two types of cars most advertised, namely sedans and SUVs, several conclusions were obtained:\r\n",
    "\r\n",
    "1. The correlation between distance traveled and price is inversely proportional, with a correlation strength of around 0.5\r\n",
    "2. The correlation between age and price is inversely proportional, with a correlation strength of around 0.6\r\n",
    "3. The correlation between condition and price is directly proportional, with a relationship that is not too strong\r\n",
    "4. For sedan types, automatic transmissions are usually sold at a higher price than other transmissions. Meanwhile for SUVs, manual transmission.\r\n",
    "5. Orange is usually sold at a higher price than other colorgreen nwhile, gr for both sedans and SUVS.\n",
    "\n",
    "This way we can compare the vehicle's attributes to conclude to what its price would look like. We can also make charts for all type of vehicles instead of just the top two most selling vehicle types (i.e. SUVs and Sedans)\n",
    "\n",
    "Zaki Qasim 21L-7642\n",
    "Abubakar Pirzada 21L-5201\n",
    "BCS-6M Artificial Intelligence\n",
    "FAST NUCES Lahoreen is cheaper."
   ]
  },
  {
   "cell_type": "code",
   "execution_count": null,
   "metadata": {},
   "outputs": [],
   "source": []
  },
  {
   "cell_type": "code",
   "execution_count": null,
   "metadata": {},
   "outputs": [],
   "source": []
  }
 ],
 "metadata": {
  "ExecuteTimeLog": [
   {
    "duration": 828,
    "start_time": "2021-11-16T09:21:11.304Z"
   },
   {
    "duration": 893,
    "start_time": "2021-11-16T09:21:17.728Z"
   },
   {
    "duration": 1150,
    "start_time": "2021-11-16T09:21:29.568Z"
   },
   {
    "duration": 3,
    "start_time": "2021-11-16T09:24:14.495Z"
   },
   {
    "duration": 120,
    "start_time": "2021-11-16T09:24:46.630Z"
   },
   {
    "duration": 3,
    "start_time": "2021-11-16T09:28:27.882Z"
   },
   {
    "duration": 4,
    "start_time": "2021-11-16T09:29:54.281Z"
   },
   {
    "duration": 3,
    "start_time": "2021-11-16T09:30:45.936Z"
   },
   {
    "duration": 4,
    "start_time": "2021-11-16T09:31:06.300Z"
   },
   {
    "duration": 113,
    "start_time": "2021-11-16T09:31:37.208Z"
   },
   {
    "duration": 143,
    "start_time": "2021-11-16T09:31:48.656Z"
   },
   {
    "duration": 98,
    "start_time": "2021-11-16T09:31:55.678Z"
   },
   {
    "duration": 3,
    "start_time": "2021-11-16T09:32:08.535Z"
   },
   {
    "duration": 111,
    "start_time": "2021-11-16T09:32:10.120Z"
   },
   {
    "duration": 3,
    "start_time": "2021-11-16T09:32:15.732Z"
   },
   {
    "duration": 4,
    "start_time": "2021-11-16T09:32:29.423Z"
   },
   {
    "duration": 3,
    "start_time": "2021-11-16T10:03:03.074Z"
   },
   {
    "duration": 3,
    "start_time": "2021-11-16T10:10:01.288Z"
   },
   {
    "duration": 3,
    "start_time": "2021-11-16T10:10:46.923Z"
   },
   {
    "duration": 121,
    "start_time": "2021-11-16T10:37:46.494Z"
   },
   {
    "duration": 125,
    "start_time": "2021-11-16T10:38:20.632Z"
   },
   {
    "duration": 112,
    "start_time": "2021-11-16T10:46:53.001Z"
   },
   {
    "duration": 110,
    "start_time": "2021-11-16T10:48:25.775Z"
   },
   {
    "duration": 3,
    "start_time": "2021-11-16T10:50:18.720Z"
   },
   {
    "duration": 4,
    "start_time": "2021-11-16T10:50:37.649Z"
   },
   {
    "duration": 2,
    "start_time": "2021-11-16T10:50:51.884Z"
   },
   {
    "duration": 3,
    "start_time": "2021-11-16T10:51:56.237Z"
   },
   {
    "duration": 101,
    "start_time": "2021-11-16T10:53:13.791Z"
   },
   {
    "duration": 3,
    "start_time": "2021-11-16T10:55:59.186Z"
   },
   {
    "duration": 3,
    "start_time": "2021-11-16T10:56:10.751Z"
   },
   {
    "duration": 3,
    "start_time": "2021-11-16T10:56:49.038Z"
   },
   {
    "duration": 3,
    "start_time": "2021-11-16T10:56:49.174Z"
   },
   {
    "duration": 4,
    "start_time": "2021-11-16T10:56:49.414Z"
   },
   {
    "duration": 3,
    "start_time": "2021-11-16T10:56:49.680Z"
   },
   {
    "duration": 3,
    "start_time": "2021-11-16T10:56:50.370Z"
   },
   {
    "duration": 114,
    "start_time": "2021-11-16T10:59:34.518Z"
   },
   {
    "duration": 3,
    "start_time": "2021-11-16T11:01:41.201Z"
   },
   {
    "duration": 116,
    "start_time": "2021-11-16T11:01:48.754Z"
   },
   {
    "duration": 3,
    "start_time": "2021-11-16T11:02:16.685Z"
   },
   {
    "duration": 3,
    "start_time": "2021-11-16T11:02:19.479Z"
   },
   {
    "duration": 3,
    "start_time": "2021-11-16T11:02:47.067Z"
   },
   {
    "duration": 3,
    "start_time": "2021-11-16T11:02:49.353Z"
   },
   {
    "duration": 3,
    "start_time": "2021-11-16T11:03:07.835Z"
   },
   {
    "duration": 3,
    "start_time": "2021-11-16T11:03:07.953Z"
   },
   {
    "duration": 112,
    "start_time": "2021-11-16T11:07:52.072Z"
   },
   {
    "duration": 187,
    "start_time": "2021-11-16T11:09:23.468Z"
   },
   {
    "duration": 4,
    "start_time": "2021-11-16T11:10:01.455Z"
   },
   {
    "duration": 3,
    "start_time": "2021-11-16T11:10:05.069Z"
   },
   {
    "duration": 4,
    "start_time": "2021-11-16T11:10:13.376Z"
   },
   {
    "duration": 3,
    "start_time": "2021-11-16T11:10:14.434Z"
   },
   {
    "duration": 3,
    "start_time": "2021-11-16T11:10:22.853Z"
   },
   {
    "duration": 4,
    "start_time": "2021-11-16T11:27:29.279Z"
   },
   {
    "duration": 4,
    "start_time": "2021-11-16T11:29:08.919Z"
   },
   {
    "duration": 118,
    "start_time": "2021-11-16T11:29:46.703Z"
   },
   {
    "duration": 437,
    "start_time": "2021-11-16T11:36:02.181Z"
   },
   {
    "duration": 157,
    "start_time": "2021-11-16T11:36:14.388Z"
   },
   {
    "duration": 207,
    "start_time": "2021-11-16T11:47:15.898Z"
   },
   {
    "duration": 3,
    "start_time": "2021-11-16T11:53:52.092Z"
   },
   {
    "duration": 3,
    "start_time": "2021-11-16T11:53:52.236Z"
   },
   {
    "duration": 3,
    "start_time": "2021-11-16T11:59:12.005Z"
   },
   {
    "duration": 112,
    "start_time": "2021-11-16T12:00:33.446Z"
   },
   {
    "duration": 3,
    "start_time": "2021-11-16T12:02:14.453Z"
   },
   {
    "duration": 3,
    "start_time": "2021-11-16T12:02:39.512Z"
   },
   {
    "duration": 106,
    "start_time": "2021-11-16T12:03:03.460Z"
   }
  ],
  "colab": {
   "provenance": [],
   "toc_visible": true
  },
  "kernelspec": {
   "display_name": "Python 3 (ipykernel)",
   "language": "python",
   "name": "python3"
  },
  "language_info": {
   "codemirror_mode": {
    "name": "ipython",
    "version": 3
   },
   "file_extension": ".py",
   "mimetype": "text/x-python",
   "name": "python",
   "nbconvert_exporter": "python",
   "pygments_lexer": "ipython3",
   "version": "3.11.7"
  },
  "toc": {
   "base_numbering": 1,
   "nav_menu": {},
   "number_sections": true,
   "sideBar": true,
   "skip_h1_title": false,
   "title_cell": "Table of Contents",
   "title_sidebar": "Contents",
   "toc_cell": false,
   "toc_position": {
    "height": "calc(100% - 180px)",
    "left": "10px",
    "top": "150px",
    "width": "268.3px"
   },
   "toc_section_display": true,
   "toc_window_display": true
  }
 },
 "nbformat": 4,
 "nbformat_minor": 4
}
